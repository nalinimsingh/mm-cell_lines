{
 "cells": [
  {
   "cell_type": "markdown",
   "metadata": {
    "heading_collapsed": true
   },
   "source": [
    "# Multi-task model using scaled RNA-seq profiles \n",
    "- Authors: Doris Fu, Eshika Saxena\n",
    "- Objective: base line multi-task model to perform direct prediction of cell viability score from cell line RNA-seq profile (expression values of each gene scaled across samples)"
   ]
  },
  {
   "cell_type": "markdown",
   "metadata": {},
   "source": [
    "## Load libraries"
   ]
  },
  {
   "cell_type": "code",
   "execution_count": 1,
   "metadata": {
    "colab": {},
    "colab_type": "code",
    "hidden": true,
    "id": "Mfd7i8PIBNHk"
   },
   "outputs": [],
   "source": [
    "import numpy as np\n",
    "from matplotlib import pyplot as plt\n",
    "import pandas as pd\n",
    "\n",
    "import os \n",
    "import shutil\n",
    "\n",
    "import copy\n",
    "\n",
    "import tensorflow as tf\n",
    "import tensorflow.keras as K\n",
    "\n",
    "from sklearn.model_selection import train_test_split\n",
    "import CCLE_utils\n",
    "import MMRF_utils\n",
    "from sklearn import preprocessing\n"
   ]
  },
  {
   "cell_type": "markdown",
   "metadata": {
    "hidden": true
   },
   "source": [
    "## Load cell line data"
   ]
  },
  {
   "cell_type": "code",
   "execution_count": 2,
   "metadata": {},
   "outputs": [],
   "source": [
    "crispr_rnaseq_merged = pd.read_csv('rnaseq_crispr_merged.csv')\n",
    "crispr_rnaseq_merged = crispr_rnaseq_merged.drop(columns = ['DepMap_ID'])"
   ]
  },
  {
   "cell_type": "code",
   "execution_count": 3,
   "metadata": {},
   "outputs": [],
   "source": [
    "map_dict = CCLE_utils.get_map_dict('Ensembl_HGNC_map_042421.csv')"
   ]
  },
  {
   "cell_type": "code",
   "execution_count": 4,
   "metadata": {},
   "outputs": [],
   "source": [
    "response_cols = [col for col in crispr_rnaseq_merged.columns if '_y' in col]\n",
    "crispr = crispr_rnaseq_merged[response_cols]\n",
    "rnaseq = crispr_rnaseq_merged.drop(response_cols, axis=1)\n",
    "rnaseq = CCLE_utils.hgnc_to_ensembl(rnaseq, map_dict)\n"
   ]
  },
  {
   "cell_type": "code",
   "execution_count": 5,
   "metadata": {},
   "outputs": [],
   "source": [
    "#scale each column to range 0-1\n",
    "\n",
    "min_max_scaler = preprocessing.MinMaxScaler()\n",
    "rnaseq_scaled = min_max_scaler.fit_transform(rnaseq.values)\n",
    "rnaseq_scaled = pd.DataFrame(rnaseq_scaled)"
   ]
  },
  {
   "cell_type": "code",
   "execution_count": 9,
   "metadata": {},
   "outputs": [],
   "source": [
    "X_train, X_test, y_train, y_test = train_test_split(rnaseq_scaled,crispr,random_state=42, train_size=0.7)"
   ]
  },
  {
   "cell_type": "markdown",
   "metadata": {
    "heading_collapsed": true
   },
   "source": [
    "# Train NN model on cell line"
   ]
  },
  {
   "cell_type": "code",
   "execution_count": 24,
   "metadata": {},
   "outputs": [],
   "source": [
    "def generate_model(N_in, N_out):\n",
    "    # N_in : number of input feature, N_out : number of heads, shapes = size of dense layer 1\n",
    "\n",
    "    inputs = K.layers.Input(shape = (N_in,))\n",
    "    x = K.layers.Dropout(0.2, input_shape=(N_in,))(inputs)\n",
    "    x = K.layers.Dense(1024, activation='relu', kernel_regularizer=K.regularizers.l2(l=0.001))(x)\n",
    "    x = K.layers.Dropout(0.5)(x)\n",
    "    x = K.layers.Dense(128, activation='relu', kernel_regularizer=K.regularizers.l2(l=0.001))(x)\n",
    "    x = K.layers.Dropout(0.5)(x)\n",
    "    x = K.layers.Dense(32, activation='relu', kernel_regularizer=K.regularizers.l2(l=0.001))(x)\n",
    "    y1 = K.layers.Dense(1, kernel_regularizer=K.regularizers.l2(l=0.001), name='y1')(x)\n",
    "    y2 = K.layers.Dense(1, kernel_regularizer=K.regularizers.l2(l=0.001), name='y2')(x)\n",
    "    y3 = K.layers.Dense(1, kernel_regularizer=K.regularizers.l2(l=0.001), name='y3')(x)\n",
    "    y4 = K.layers.Dense(1, kernel_regularizer=K.regularizers.l2(l=0.001), name='y4')(x)\n",
    "    y5 = K.layers.Dense(1, kernel_regularizer=K.regularizers.l2(l=0.001), name='y5')(x)\n",
    "    y6 = K.layers.Dense(1, kernel_regularizer=K.regularizers.l2(l=0.001), name='y6')(x)\n",
    "    y7 = K.layers.Dense(1, kernel_regularizer=K.regularizers.l2(l=0.001), name='y7')(x)\n",
    "    y8 = K.layers.Dense(1, kernel_regularizer=K.regularizers.l2(l=0.001), name='y8')(x)\n",
    "    y9 = K.layers.Dense(1, kernel_regularizer=K.regularizers.l2(l=0.001), name='y9')(x)\n",
    "    y10 = K.layers.Dense(1, kernel_regularizer=K.regularizers.l2(l=0.001), name='y10')(x)\n",
    "    y11 = K.layers.Dense(1, kernel_regularizer=K.regularizers.l2(l=0.001), name='y11')(x)\n",
    "    y12 = K.layers.Dense(1, kernel_regularizer=K.regularizers.l2(l=0.001), name='y12')(x)\n",
    "    y13 = K.layers.Dense(1, kernel_regularizer=K.regularizers.l2(l=0.001), name='y13')(x)\n",
    "\n",
    "    model = K.models.Model(inputs = inputs, outputs = [y1,y2,y3,y4,y5,y6,y7,y8,y9,y10,y11,y12,y13])\n",
    "    model.compile(optimizer='adam',\n",
    "                  loss=generate_loss(N_out, 'mse'))\n",
    "    \n",
    "    return model"
   ]
  },
  {
   "cell_type": "code",
   "execution_count": 19,
   "metadata": {},
   "outputs": [],
   "source": [
    "def generate_loss(N_out, loss):\n",
    "    L = dict()\n",
    "    for i in range(1, N_out+1):\n",
    "        k = 'y'+str(i)\n",
    "        L[k] = loss\n",
    "    return L"
   ]
  },
  {
   "cell_type": "markdown",
   "metadata": {},
   "source": [
    "## Feed scaled RNA directly to model  \n"
   ]
  },
  {
   "cell_type": "code",
   "execution_count": 26,
   "metadata": {},
   "outputs": [
    {
     "name": "stdout",
     "output_type": "stream",
     "text": [
      "Model: \"model_1\"\n",
      "__________________________________________________________________________________________________\n",
      "Layer (type)                    Output Shape         Param #     Connected to                     \n",
      "==================================================================================================\n",
      "input_2 (InputLayer)            [(None, 18914)]      0                                            \n",
      "__________________________________________________________________________________________________\n",
      "dropout_3 (Dropout)             (None, 18914)        0           input_2[0][0]                    \n",
      "__________________________________________________________________________________________________\n",
      "dense_3 (Dense)                 (None, 1024)         19368960    dropout_3[0][0]                  \n",
      "__________________________________________________________________________________________________\n",
      "dropout_4 (Dropout)             (None, 1024)         0           dense_3[0][0]                    \n",
      "__________________________________________________________________________________________________\n",
      "dense_4 (Dense)                 (None, 128)          131200      dropout_4[0][0]                  \n",
      "__________________________________________________________________________________________________\n",
      "dropout_5 (Dropout)             (None, 128)          0           dense_4[0][0]                    \n",
      "__________________________________________________________________________________________________\n",
      "dense_5 (Dense)                 (None, 32)           4128        dropout_5[0][0]                  \n",
      "__________________________________________________________________________________________________\n",
      "y1 (Dense)                      (None, 1)            33          dense_5[0][0]                    \n",
      "__________________________________________________________________________________________________\n",
      "y2 (Dense)                      (None, 1)            33          dense_5[0][0]                    \n",
      "__________________________________________________________________________________________________\n",
      "y3 (Dense)                      (None, 1)            33          dense_5[0][0]                    \n",
      "__________________________________________________________________________________________________\n",
      "y4 (Dense)                      (None, 1)            33          dense_5[0][0]                    \n",
      "__________________________________________________________________________________________________\n",
      "y5 (Dense)                      (None, 1)            33          dense_5[0][0]                    \n",
      "__________________________________________________________________________________________________\n",
      "y6 (Dense)                      (None, 1)            33          dense_5[0][0]                    \n",
      "__________________________________________________________________________________________________\n",
      "y7 (Dense)                      (None, 1)            33          dense_5[0][0]                    \n",
      "__________________________________________________________________________________________________\n",
      "y8 (Dense)                      (None, 1)            33          dense_5[0][0]                    \n",
      "__________________________________________________________________________________________________\n",
      "y9 (Dense)                      (None, 1)            33          dense_5[0][0]                    \n",
      "__________________________________________________________________________________________________\n",
      "y10 (Dense)                     (None, 1)            33          dense_5[0][0]                    \n",
      "__________________________________________________________________________________________________\n",
      "y11 (Dense)                     (None, 1)            33          dense_5[0][0]                    \n",
      "__________________________________________________________________________________________________\n",
      "y12 (Dense)                     (None, 1)            33          dense_5[0][0]                    \n",
      "__________________________________________________________________________________________________\n",
      "y13 (Dense)                     (None, 1)            33          dense_5[0][0]                    \n",
      "==================================================================================================\n",
      "Total params: 19,504,717\n",
      "Trainable params: 19,504,717\n",
      "Non-trainable params: 0\n",
      "__________________________________________________________________________________________________\n",
      "Input (None, 18914) Output [(None, 1), (None, 1), (None, 1), (None, 1), (None, 1), (None, 1), (None, 1), (None, 1), (None, 1), (None, 1), (None, 1), (None, 1), (None, 1)]\n"
     ]
    }
   ],
   "source": [
    "model = generate_model(X_train.shape[1], 13)\n",
    "model.summary()\n",
    "\n",
    "print(\"Input\", model.input_shape, \"Output\", model.output_shape)"
   ]
  },
  {
   "cell_type": "code",
   "execution_count": 27,
   "metadata": {},
   "outputs": [],
   "source": [
    "history = model.fit(X_train,y_train,epochs=500, validation_data=(X_test, y_test),verbose=0)"
   ]
  },
  {
   "cell_type": "markdown",
   "metadata": {},
   "source": [
    "# Eval performance on cell line test set"
   ]
  },
  {
   "cell_type": "code",
   "execution_count": 28,
   "metadata": {
    "hidden": true
   },
   "outputs": [],
   "source": [
    "def plot_loss(perf_dict):\n",
    "    fig = plt.figure(figsize=(15,10))\n",
    "    ax1 = plt.subplot(2,2,1)\n",
    "    ax2 = plt.subplot(2,2,2)\n",
    "    loss = perf_dict['loss']\n",
    "    val_loss = perf_dict['val_loss']\n",
    "    ax1.plot(loss)\n",
    "    ax2.plot(val_loss)\n",
    "    ax1.set_xlabel('epochs')\n",
    "    ax2.set_xlabel('epochs')\n",
    "\n",
    "    ax1.set_ylabel('loss')\n",
    "    ax2.set_ylabel('val_loss')\n",
    "    plt.show()"
   ]
  },
  {
   "cell_type": "code",
   "execution_count": 1,
   "metadata": {},
   "outputs": [],
   "source": [
    "def plot_pred(y_train, y_train_pred, y_test, y_test_pred, i):\n",
    "    # i: index of gene\n",
    "    fig, ax = plt.subplots(1,1)\n",
    "\n",
    "    ax.scatter(y_train[:,i],y_train_pred[i,:,0], label='Train', color='#4287f5')\n",
    "    ax.scatter(y_test[:,i],y_test_pred[i,:,0], label='Test', color='#f2797f')\n",
    "\n",
    "    ax.set_xlabel('True Response')\n",
    "    ax.set_ylabel('Predicted Response')\n",
    "    ax.legend()\n",
    "    ax.set_title('CRISPR Knockout Experiment '+str(i))"
   ]
  },
  {
   "cell_type": "code",
   "execution_count": 29,
   "metadata": {},
   "outputs": [
    {
     "data": {
      "image/png": "[encoded data removed]",
      "text/plain": [
       "<Figure size 1080x720 with 2 Axes>"
      ]
     },
     "metadata": {
      "needs_background": "light"
     },
     "output_type": "display_data"
    }
   ],
   "source": [
    "plot_loss(history.history)"
   ]
  },
  {
   "cell_type": "code",
   "execution_count": 30,
   "metadata": {},
   "outputs": [],
   "source": [
    "y_train_pred = np.array(model.predict(X_train))\n",
    "y_test_pred = np.array(model.predict(X_test))"
   ]
  },
  {
   "cell_type": "code",
   "execution_count": 58,
   "metadata": {},
   "outputs": [
    {
     "data": {
      "image/png": "[encoded data removed]",
      "text/plain": [
       "<Figure size 432x288 with 1 Axes>"
      ]
     },
     "metadata": {
      "needs_background": "light"
     },
     "output_type": "display_data"
    }
   ],
   "source": [
    "plot_pred(np.array(y_train), y_train_pred, np.array(y_test), y_test_pred, 0)"
   ]
  },
  {
   "cell_type": "code",
   "execution_count": 60,
   "metadata": {},
   "outputs": [
    {
     "data": {
      "image/png": "[encoded data removed]",
      "text/plain": [
       "<Figure size 432x288 with 1 Axes>"
      ]
     },
     "metadata": {
      "needs_background": "light"
     },
     "output_type": "display_data"
    }
   ],
   "source": [
    "plot_pred(np.array(y_train), y_train_pred, np.array(y_test), y_test_pred, 12)"
   ]
  }
 ],
 "metadata": {
  "kernelspec": {
   "display_name": "Python 3",
   "language": "python",
   "name": "python3"
  },
  "language_info": {
   "codemirror_mode": {
    "name": "ipython",
    "version": 3
   },
   "file_extension": ".py",
   "mimetype": "text/x-python",
   "name": "python",
   "nbconvert_exporter": "python",
   "pygments_lexer": "ipython3",
   "version": "3.8.8"
  },
  "toc": {
   "base_numbering": 1,
   "nav_menu": {
    "height": "236px",
    "width": "368px"
   },
   "number_sections": true,
   "sideBar": true,
   "skip_h1_title": false,
   "title_cell": "Table of Contents",
   "title_sidebar": "Contents",
   "toc_cell": false,
   "toc_position": {},
   "toc_section_display": true,
   "toc_window_display": false
  }
 },
 "nbformat": 4,
 "nbformat_minor": 4
}
