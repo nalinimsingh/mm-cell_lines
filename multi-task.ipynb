{
 "cells": [
  {
   "cell_type": "markdown",
   "metadata": {
    "heading_collapsed": true
   },
   "source": [
    "# Multi-task model"
   ]
  },
  {
   "cell_type": "code",
   "execution_count": 13,
   "metadata": {
    "colab": {},
    "colab_type": "code",
    "hidden": true,
    "id": "Mfd7i8PIBNHk"
   },
   "outputs": [],
   "source": [
    "import numpy as np\n",
    "from matplotlib import pyplot as plt\n",
    "import pandas as pd\n",
    "\n",
    "import os \n",
    "import shutil\n",
    "\n",
    "import copy\n",
    "\n",
    "import tensorflow as tf\n",
    "import tensorflow.keras as K\n",
    "\n",
    "from sklearn.model_selection import train_test_split\n",
    "import CCLE_utils\n",
    "import MMRF_utils"
   ]
  },
  {
   "cell_type": "markdown",
   "metadata": {
    "hidden": true
   },
   "source": [
    "## Load train and test sets"
   ]
  },
  {
   "cell_type": "code",
   "execution_count": null,
   "metadata": {},
   "outputs": [],
   "source": [
    "lenal_df = pd.read_csv('lenalidomide_crispr_knockout.csv')\n",
    "bortez_df = pd.read_csv('bortezomib_crispr_knockout.csv')"
   ]
  },
  {
   "cell_type": "code",
   "execution_count": null,
   "metadata": {},
   "outputs": [],
   "source": [
    "map_dict = CCLE_utils.get_map_dict('Ensembl_HGNC_map_042421.csv')"
   ]
  },
  {
   "cell_type": "code",
   "execution_count": null,
   "metadata": {},
   "outputs": [],
   "source": [
    "X_lenal_cell_data = lenal_df.drop(columns = ['DepMap_ID','Knockout','Response'])\n",
    "X_lenal_cell_data = CCLE_utils.hgnc_to_ensembl(X_lenal_cell_data, map_dict)\n",
    "\n",
    "y_lenal_cell_data = lenal_df['Response']"
   ]
  },
  {
   "cell_type": "code",
   "execution_count": null,
   "metadata": {},
   "outputs": [],
   "source": [
    "X_bortez_cell_data = bortez_df.drop(columns = ['DepMap_ID','Knockout','Response'])\n",
    "X_bortez_cell_data = CCLE_utils.hgnc_to_ensembl(X_bortez_cell_data, map_dict)\n",
    "\n",
    "y_bortez_cell_data = bortez_df['Response']"
   ]
  },
  {
   "cell_type": "code",
   "execution_count": null,
   "metadata": {},
   "outputs": [],
   "source": [
    "X_lenal_cell_train, X_lenal_cell_test, y_lenal_cell_train, y_lenal_cell_test = train_test_split(X_lenal_cell_data,y_lenal_cell_data,random_state=42, train_size=0.7)\n",
    "\n",
    "X_bortez_cell_train, X_bortez_cell_test, y_bortez_cell_train, y_bortez_cell_test = train_test_split(X_bortez_cell_data,y_bortez_cell_data,random_state=42, train_size=0.7)"
   ]
  },
  {
   "cell_type": "code",
   "execution_count": null,
   "metadata": {},
   "outputs": [],
   "source": [
    "print(X_lenal_cell_train.shape, X_lenal_cell_test.shape, y_lenal_cell_train.shape, y_lenal_cell_test.shape)\n",
    "print(X_bortez_cell_train.shape, X_bortez_cell_test.shape, y_bortez_cell_train.shape, y_bortez_cell_test.shape)"
   ]
  },
  {
   "cell_type": "code",
   "execution_count": null,
   "metadata": {},
   "outputs": [],
   "source": [
    "from sklearn.decomposition import PCA\n",
    "\n",
    "nPCA = 500\n",
    "pca = PCA(n_components=nPCA)\n",
    "X_lenal_cell_train_pca = pca.fit_transform(X_lenal_cell_train)\n",
    "X_lenal_cell_test_pca = pca.transform(X_lenal_cell_test)\n",
    "\n",
    "print(X_lenal_cell_train_pca.shape, X_lenal_cell_test_pca.shape)"
   ]
  },
  {
   "cell_type": "code",
   "execution_count": null,
   "metadata": {},
   "outputs": [],
   "source": [
    "nPCA = 500\n",
    "pca = PCA(n_components=nPCA)\n",
    "X_bortez_cell_train_pca = pca.fit_transform(X_bortez_cell_train)\n",
    "X_bortez_cell_test_pca = pca.transform(X_bortez_cell_test)\n",
    "\n",
    "print(X_bortez_cell_train_pca.shape, X_bortez_cell_test_pca.shape)"
   ]
  },
  {
   "cell_type": "code",
   "execution_count": null,
   "metadata": {
    "hidden": true
   },
   "outputs": [],
   "source": [
    "#place holder patient data: 50 samples with 5000 genes\n",
    "X_pt_train = np.random.rand(50,5000)*80\n",
    "y_pt_train = X_pt_train.mean(axis=1)+np.random.rand(50,)*40"
   ]
  },
  {
   "cell_type": "code",
   "execution_count": null,
   "metadata": {
    "hidden": true
   },
   "outputs": [],
   "source": [
    "X_pt_test = np.random.rand(10,5000)*80\n",
    "y_pt_test = X_pt_test.mean(axis=1)+np.random.rand(10,)*40"
   ]
  },
  {
   "cell_type": "markdown",
   "metadata": {
    "heading_collapsed": true
   },
   "source": [
    "# Train NN on cell line"
   ]
  },
  {
   "cell_type": "code",
   "execution_count": 17,
   "metadata": {},
   "outputs": [],
   "source": [
    "# number of genes \n",
    "# N_in = X_cell_train.shape[1]\n",
    "\n",
    "# N_in : number of genes input\n",
    "\n",
    "\n",
    "\n",
    "def generate_model(N_in, N_out, shapes):\n",
    "    inputs = K.layers.Input(shape = (N_in,))\n",
    "    x = K.layers.Dropout(0.2, input_shape=(N_in,))(inputs)\n",
    "    x = K.layers.Dense(shapes, activation='relu', kernel_regularizer=K.regularizers.l2(l=0.001))(x)\n",
    "    x = K.layers.Dropout(0.5)(x)\n",
    "    x = K.layers.Dense(128, activation='relu', kernel_regularizer=K.regularizers.l2(l=0.001))(x)\n",
    "    x = K.layers.Dropout(0.5)(x)\n",
    "    x = K.layers.Dense(32, activation='relu', kernel_regularizer=K.regularizers.l2(l=0.001))(x)\n",
    "    y1 = K.layers.Dense(16, kernel_regularizer=K.regularizers.l2(l=0.001))(x)\n",
    "    y2 = K.layers.Dense(16, kernel_regularizer=K.regularizers.l2(l=0.001))(x)\n",
    "    y3 = K.layers.Dense(16, kernel_regularizer=K.regularizers.l2(l=0.001))(x)\n",
    "    y4 = K.layers.Dense(16, kernel_regularizer=K.regularizers.l2(l=0.001))(x)\n",
    "    y5 = K.layers.Dense(16, kernel_regularizer=K.regularizers.l2(l=0.001))(x)\n",
    "    y6 = K.layers.Dense(16, kernel_regularizer=K.regularizers.l2(l=0.001))(x)\n",
    "    y7 = K.layers.Dense(16, kernel_regularizer=K.regularizers.l2(l=0.001))(x)\n",
    "    y8 = K.layers.Dense(16, kernel_regularizer=K.regularizers.l2(l=0.001))(x)\n",
    "    y9 = K.layers.Dense(16, kernel_regularizer=K.regularizers.l2(l=0.001))(x)\n",
    "    y10 = K.layers.Dense(16, kernel_regularizer=K.regularizers.l2(l=0.001))(x)\n",
    "    y11 = K.layers.Dense(16, kernel_regularizer=K.regularizers.l2(l=0.001))(x)\n",
    "    y12 = K.layers.Dense(16, kernel_regularizer=K.regularizers.l2(l=0.001))(x)\n",
    "    y13 = K.layers.Dense(16, kernel_regularizer=K.regularizers.l2(l=0.001))(x)\n",
    "\n",
    "    model = K.models.Model(inputs = inputs, outputs = [y1,y2,y3,y4,y5,y6,y7,y8,y9,y10,y11,y12,y13])\n",
    "    model.compile(optimizer='adam',\n",
    "                  loss=generate_loss(N_out, 'mse'))\n",
    "    \n",
    "    return model"
   ]
  },
  {
   "cell_type": "code",
   "execution_count": 18,
   "metadata": {},
   "outputs": [],
   "source": [
    "def generate_loss(N_out, loss):\n",
    "    L = dict()\n",
    "    for i in range(1, N_out+1):\n",
    "        k = 'y'+str(i)\n",
    "        L[k] = loss\n",
    "    return L"
   ]
  },
  {
   "cell_type": "code",
   "execution_count": 19,
   "metadata": {},
   "outputs": [
    {
     "name": "stdout",
     "output_type": "stream",
     "text": [
      "Model: \"model\"\n",
      "__________________________________________________________________________________________________\n",
      "Layer (type)                    Output Shape         Param #     Connected to                     \n",
      "==================================================================================================\n",
      "input_3 (InputLayer)            [(None, 500)]        0                                            \n",
      "__________________________________________________________________________________________________\n",
      "dropout_3 (Dropout)             (None, 500)          0           input_3[0][0]                    \n",
      "__________________________________________________________________________________________________\n",
      "dense_16 (Dense)                (None, 1024)         513024      dropout_3[0][0]                  \n",
      "__________________________________________________________________________________________________\n",
      "dropout_4 (Dropout)             (None, 1024)         0           dense_16[0][0]                   \n",
      "__________________________________________________________________________________________________\n",
      "dense_17 (Dense)                (None, 128)          131200      dropout_4[0][0]                  \n",
      "__________________________________________________________________________________________________\n",
      "dropout_5 (Dropout)             (None, 128)          0           dense_17[0][0]                   \n",
      "__________________________________________________________________________________________________\n",
      "dense_18 (Dense)                (None, 32)           4128        dropout_5[0][0]                  \n",
      "__________________________________________________________________________________________________\n",
      "dense_19 (Dense)                (None, 16)           528         dense_18[0][0]                   \n",
      "__________________________________________________________________________________________________\n",
      "dense_20 (Dense)                (None, 16)           528         dense_18[0][0]                   \n",
      "__________________________________________________________________________________________________\n",
      "dense_21 (Dense)                (None, 16)           528         dense_18[0][0]                   \n",
      "__________________________________________________________________________________________________\n",
      "dense_22 (Dense)                (None, 16)           528         dense_18[0][0]                   \n",
      "__________________________________________________________________________________________________\n",
      "dense_23 (Dense)                (None, 16)           528         dense_18[0][0]                   \n",
      "__________________________________________________________________________________________________\n",
      "dense_24 (Dense)                (None, 16)           528         dense_18[0][0]                   \n",
      "__________________________________________________________________________________________________\n",
      "dense_25 (Dense)                (None, 16)           528         dense_18[0][0]                   \n",
      "__________________________________________________________________________________________________\n",
      "dense_26 (Dense)                (None, 16)           528         dense_18[0][0]                   \n",
      "__________________________________________________________________________________________________\n",
      "dense_27 (Dense)                (None, 16)           528         dense_18[0][0]                   \n",
      "__________________________________________________________________________________________________\n",
      "dense_28 (Dense)                (None, 16)           528         dense_18[0][0]                   \n",
      "__________________________________________________________________________________________________\n",
      "dense_29 (Dense)                (None, 16)           528         dense_18[0][0]                   \n",
      "__________________________________________________________________________________________________\n",
      "dense_30 (Dense)                (None, 16)           528         dense_18[0][0]                   \n",
      "__________________________________________________________________________________________________\n",
      "dense_31 (Dense)                (None, 16)           528         dense_18[0][0]                   \n",
      "==================================================================================================\n",
      "Total params: 655,216\n",
      "Trainable params: 655,216\n",
      "Non-trainable params: 0\n",
      "__________________________________________________________________________________________________\n"
     ]
    }
   ],
   "source": [
    "# prototype model  \n",
    "shapes = [1024, 128,32, 16]\n",
    "model_ = generate_model(500, 13, shapes)\n",
    "model_.summary()"
   ]
  },
  {
   "cell_type": "code",
   "execution_count": null,
   "metadata": {
    "hidden": true,
    "scrolled": true
   },
   "outputs": [],
   "source": [
    "lenal_model = generate_model(X_lenal_cell_train.shape[1])\n",
    "history = lenal_model.fit(X_lenal_cell_train, y_lenal_cell_train, epochs=100, validation_data=(X_lenal_cell_test, y_lenal_cell_test))"
   ]
  },
  {
   "cell_type": "code",
   "execution_count": null,
   "metadata": {},
   "outputs": [],
   "source": [
    "bortez_model = generate_model(X_bortez_cell_train.shape[1])\n",
    "bortez_history = bortez_model.fit(X_bortez_cell_train, y_bortez_cell_train, epochs=100, validation_data=(X_bortez_cell_test, y_bortez_cell_test))"
   ]
  },
  {
   "cell_type": "code",
   "execution_count": null,
   "metadata": {},
   "outputs": [],
   "source": [
    "pca_model = generate_model(X_lenal_cell_train_pca.shape[1])\n",
    "pca_history = pca_model.fit(X_lenal_cell_train_pca, y_lenal_cell_train, epochs=100, validation_data=(X_lenal_cell_test_pca, y_lenal_cell_test))"
   ]
  },
  {
   "cell_type": "code",
   "execution_count": null,
   "metadata": {},
   "outputs": [],
   "source": [
    "pca_model2 = generate_model(X_bortez_cell_train_pca.shape[1])\n",
    "pca_history2 = pca_model2.fit(X_bortez_cell_train_pca, y_bortez_cell_train, epochs=100, validation_data=(X_bortez_cell_test_pca, y_bortez_cell_test))"
   ]
  },
  {
   "cell_type": "markdown",
   "metadata": {},
   "source": [
    "# Eval performance on cell line test set"
   ]
  },
  {
   "cell_type": "code",
   "execution_count": null,
   "metadata": {
    "hidden": true
   },
   "outputs": [],
   "source": [
    "def plot_loss(perf_dict):\n",
    "    fig = plt.figure(figsize=(15,10))\n",
    "    ax1 = plt.subplot(2,2,1)\n",
    "    ax2 = plt.subplot(2,2,2)\n",
    "    loss = perf_dict['loss']\n",
    "    val_loss = perf_dict['val_loss']\n",
    "    ax1.plot(loss)\n",
    "    ax2.plot(val_loss)\n",
    "    ax1.set_xlabel('epochs')\n",
    "    ax2.set_xlabel('epochs')\n",
    "\n",
    "    ax1.set_ylabel('loss')\n",
    "    ax2.set_ylabel('val_loss')\n",
    "    plt.show()"
   ]
  },
  {
   "cell_type": "code",
   "execution_count": null,
   "metadata": {},
   "outputs": [],
   "source": [
    "plot_loss(history.history)"
   ]
  },
  {
   "cell_type": "code",
   "execution_count": null,
   "metadata": {},
   "outputs": [],
   "source": [
    "plot_loss(bortez_history.history)"
   ]
  },
  {
   "cell_type": "code",
   "execution_count": null,
   "metadata": {},
   "outputs": [],
   "source": [
    "plot_loss(bortez_history.history)"
   ]
  },
  {
   "cell_type": "code",
   "execution_count": null,
   "metadata": {},
   "outputs": [],
   "source": [
    "plot_loss(pca_history.history)\n",
    "ax1.set_title('')"
   ]
  },
  {
   "cell_type": "code",
   "execution_count": null,
   "metadata": {},
   "outputs": [],
   "source": [
    "plot_loss(pca_history2.history)"
   ]
  },
  {
   "cell_type": "code",
   "execution_count": null,
   "metadata": {},
   "outputs": [],
   "source": [
    "# plt.scatter(y_cell_test,model.predict(X_cell_test))\n",
    "# x = np.arange(-1.5,1.1,0.01)\n",
    "fig, ax = plt.subplots(1,1)\n",
    "# ax.plot(x, x, label='y=x', color='black')\n",
    "\n",
    "ax.scatter(y_lenal_cell_train,lenal_model.predict(X_lenal_cell_train), label='Train', color='#4287f5')\n",
    "ax.scatter(y_lenal_cell_test,lenal_model.predict(X_lenal_cell_test), label='Test', color='#f2797f')\n",
    "# ax.set_xlim(-7,-2)\n",
    "# ax.set_ylim(-7,-2)\n",
    "ax.set_xlabel('True Response')\n",
    "ax.set_ylabel('Predicted Response')\n",
    "ax.legend()\n",
    "ax.set_title('CRISPR Knockout Experiments - Lenalidomide')"
   ]
  },
  {
   "cell_type": "code",
   "execution_count": null,
   "metadata": {},
   "outputs": [],
   "source": [
    "# plt.scatter(y_cell_test,model.predict(X_cell_test))\n",
    "x = np.arange(-1.5,1.1,0.01)\n",
    "fig, ax = plt.subplots(1,1)\n",
    "ax.plot(x, x, label='y=x', color='black')\n",
    "\n",
    "ax.scatter(y_lenal_cell_train,pca_model.predict(X_lenal_cell_train_pca), label='Train', color='#4287f5')\n",
    "ax.scatter(y_lenal_cell_test,pca_model.predict(X_lenal_cell_test_pca), label='Test', color='#f2797f')\n",
    "# ax.set_xlim(-7,-2)\n",
    "# ax.set_ylim(-7,-2)\n",
    "ax.set_xlabel('True Response')\n",
    "ax.set_ylabel('Predicted Response')\n",
    "ax.legend()\n",
    "ax.set_title('CRISPR Knockout Experiments - Lenalidomide with PCA')"
   ]
  },
  {
   "cell_type": "code",
   "execution_count": null,
   "metadata": {},
   "outputs": [],
   "source": [
    "# plt.scatter(y_cell_test,model.predict(X_cell_test))\n",
    "x = np.arange(-3,0.6,0.01)\n",
    "fig, ax = plt.subplots(1,1)\n",
    "ax.plot(x, x, label='y=x', color='black')\n",
    "\n",
    "ax.scatter(y_bortez_cell_train,pca_model2.predict(X_bortez_cell_train_pca), label='Train', color='#4287f5')\n",
    "ax.scatter(y_bortez_cell_test,pca_model2.predict(X_bortez_cell_test_pca), label='Test', color='#f2797f')\n",
    "# ax.set_xlim(-7,-2)\n",
    "# ax.set_ylim(-7,-2)\n",
    "ax.set_xlabel('True Response')\n",
    "ax.set_ylabel('Predicted Response')\n",
    "ax.legend()\n",
    "ax.set_title('CRISPR Knockout Experiments - Bortezomib with PCA')"
   ]
  },
  {
   "cell_type": "code",
   "execution_count": null,
   "metadata": {},
   "outputs": [],
   "source": [
    "# plt.scatter(y_cell_test,model.predict(X_cell_test))\n",
    "# x = np.arange(-1.5,1.1,0.01)\n",
    "fig, ax = plt.subplots(1,1)\n",
    "# ax.plot(x, x, label='y=x', color='black')\n",
    "\n",
    "ax.scatter(y_bortez_cell_train,bortez_model.predict(X_bortez_cell_train), label='Train', color='#4287f5')\n",
    "ax.scatter(y_bortez_cell_test,bortez_model.predict(X_bortez_cell_test), label='Test', color='#f2797f')\n",
    "# ax.set_xlim(-7,-2)\n",
    "# ax.set_ylim(-7,-2)\n",
    "ax.set_xlabel('True Response')\n",
    "ax.set_ylabel('Predicted Response')\n",
    "ax.legend()\n",
    "ax.set_title('CRISPR Knockout Experiments - Bortezomib')"
   ]
  },
  {
   "cell_type": "code",
   "execution_count": null,
   "metadata": {},
   "outputs": [],
   "source": [
    "# plt.scatter(y_cell_test,model.predict(X_cell_test))\n",
    "# x = np.arange(-1.5,1.1,0.01)\n",
    "fig, ax = plt.subplots(1,1)\n",
    "# ax.plot(x, x, label='y=x', color='black')\n",
    "\n",
    "ax.scatter(y_bortez_cell_train,bortez_model.predict(X_bortez_cell_train), label='Train', color='#4287f5')\n",
    "ax.scatter(y_bortez_cell_test,bortez_model.predict(X_bortez_cell_test), label='Test', color='#f2797f')\n",
    "# ax.set_xlim(-7,-2)\n",
    "# ax.set_ylim(-7,-2)\n",
    "ax.set_xlabel('True Response')\n",
    "ax.set_ylabel('Predicted Response')\n",
    "ax.legend()\n",
    "ax.set_title('CRISPR Knockout Experiments - Bortezomib')"
   ]
  },
  {
   "cell_type": "markdown",
   "metadata": {},
   "source": [
    "# Feature transfer patient data\n",
    "Freeze network except the last layer, then train on patient data"
   ]
  },
  {
   "cell_type": "code",
   "execution_count": null,
   "metadata": {},
   "outputs": [],
   "source": [
    "model.summary()"
   ]
  },
  {
   "cell_type": "code",
   "execution_count": null,
   "metadata": {},
   "outputs": [],
   "source": [
    "model.trainable = False\n",
    "model.layers[-1].trainable = True\n",
    "\n",
    "layers = [(layer, layer.name, layer.trainable) for layer in model.layers]\n",
    "pd.DataFrame(layers, columns=['Layer Type', 'Layer Name', 'Layer Trainable'])      "
   ]
  },
  {
   "cell_type": "code",
   "execution_count": null,
   "metadata": {},
   "outputs": [],
   "source": [
    "history_pt = model.fit(X_pt_train, y_pt_train, epochs=100, validation_data=(X_pt_test, y_pt_test))"
   ]
  },
  {
   "cell_type": "code",
   "execution_count": null,
   "metadata": {},
   "outputs": [],
   "source": [
    "plt.scatter(y_pt_test,model.predict(X_pt_test))"
   ]
  },
  {
   "cell_type": "markdown",
   "metadata": {},
   "source": [
    "# Save model"
   ]
  },
  {
   "cell_type": "code",
   "execution_count": null,
   "metadata": {
    "hidden": true
   },
   "outputs": [],
   "source": [
    "model = K.models.load_model(model_dir)"
   ]
  },
  {
   "cell_type": "code",
   "execution_count": null,
   "metadata": {
    "hidden": true
   },
   "outputs": [],
   "source": [
    "model_dir = os.path.join('6.871models', 'simpleNN042721')\n",
    "shutil.rmtree(model_dir)\n",
    "model.save(model_dir)\n"
   ]
  }
 ],
 "metadata": {
  "kernelspec": {
   "display_name": "Python 3",
   "language": "python",
   "name": "python3"
  },
  "language_info": {
   "codemirror_mode": {
    "name": "ipython",
    "version": 3
   },
   "file_extension": ".py",
   "mimetype": "text/x-python",
   "name": "python",
   "nbconvert_exporter": "python",
   "pygments_lexer": "ipython3",
   "version": "3.8.8"
  },
  "toc": {
   "base_numbering": 1,
   "nav_menu": {
    "height": "236px",
    "width": "368px"
   },
   "number_sections": true,
   "sideBar": true,
   "skip_h1_title": false,
   "title_cell": "Table of Contents",
   "title_sidebar": "Contents",
   "toc_cell": false,
   "toc_position": {},
   "toc_section_display": true,
   "toc_window_display": false
  }
 },
 "nbformat": 4,
 "nbformat_minor": 4
}
