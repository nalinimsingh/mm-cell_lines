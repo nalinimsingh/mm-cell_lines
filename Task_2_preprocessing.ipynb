{
 "cells": [
  {
   "cell_type": "code",
   "execution_count": 1,
   "id": "human-sailing",
   "metadata": {},
   "outputs": [],
   "source": [
    "import os\n",
    "import numpy as np\n",
    "import pandas as pd"
   ]
  },
  {
   "cell_type": "markdown",
   "id": "worldwide-hacker",
   "metadata": {},
   "source": [
    "## Read data"
   ]
  },
  {
   "cell_type": "code",
   "execution_count": 2,
   "id": "sunset-adventure",
   "metadata": {},
   "outputs": [],
   "source": [
    "data_dir = '/Users/eshikasaxena/Documents/MLHC/mm-cell_lines/data/'"
   ]
  },
  {
   "cell_type": "code",
   "execution_count": 3,
   "id": "finished-reception",
   "metadata": {},
   "outputs": [],
   "source": [
    "rnaseq = pd.read_csv(os.path.join(data_dir,'CCLE_expression.csv'))\n",
    "rnaseq = rnaseq.rename(columns={'Unnamed: 0': 'DepMap_ID'})"
   ]
  },
  {
   "cell_type": "code",
   "execution_count": 4,
   "id": "confidential-communication",
   "metadata": {},
   "outputs": [],
   "source": [
    "crispr = pd.read_csv(os.path.join(data_dir,'Achilles_gene_effect.csv'))"
   ]
  },
  {
   "cell_type": "code",
   "execution_count": 5,
   "id": "generous-garage",
   "metadata": {},
   "outputs": [],
   "source": [
    "doseresponse = pd.read_csv(os.path.join(data_dir,'sanger-dose-response.csv'))\n",
    "doseresponse = doseresponse.rename(columns={'ARXSPAN_ID':'DepMap_ID'})"
   ]
  },
  {
   "cell_type": "code",
   "execution_count": 6,
   "id": "recognized-laptop",
   "metadata": {},
   "outputs": [],
   "source": [
    "sample_info = pd.read_csv(os.path.join(data_dir,'sample_info.csv'))"
   ]
  },
  {
   "cell_type": "code",
   "execution_count": 7,
   "id": "classified-bahrain",
   "metadata": {},
   "outputs": [],
   "source": [
    "doseresponse_bortez = doseresponse[doseresponse.DRUG_NAME.str.contains(\"BORTEZOMIB\", na=False)]\n",
    "doseresponse_lenal = doseresponse[doseresponse.DRUG_NAME.str.contains(\"LENALIDOMIDE\", na=False)]"
   ]
  },
  {
   "cell_type": "markdown",
   "id": "dress-arlington",
   "metadata": {},
   "source": [
    "## Restrict data to IDs present in knockout, rnaseq, and doseresponse with 2 chosen drugs"
   ]
  },
  {
   "cell_type": "code",
   "execution_count": 8,
   "id": "inappropriate-rendering",
   "metadata": {},
   "outputs": [
    {
     "name": "stdout",
     "output_type": "stream",
     "text": [
      "800 366 405\n"
     ]
    }
   ],
   "source": [
    "ids = list(set(crispr.DepMap_ID).intersection(set(rnaseq.DepMap_ID)))\n",
    "bortez_ids = list(set(ids).intersection(set(doseresponse_bortez.DepMap_ID)))\n",
    "lenal_ids = list(set(ids).intersection(set(doseresponse_lenal.DepMap_ID)))\n",
    "\n",
    "print(len(ids), len(bortez_ids), len(lenal_ids))"
   ]
  },
  {
   "cell_type": "code",
   "execution_count": 9,
   "id": "departmental-fighter",
   "metadata": {},
   "outputs": [
    {
     "name": "stdout",
     "output_type": "stream",
     "text": [
      "['PSMB1 (5689)', 'PSMB10 (5699)', 'PSMB11 (122706)', 'PSMB2 (5690)', 'PSMB3 (5691)', 'PSMB4 (5692)', 'PSMB5 (5693)', 'PSMB6 (5694)', 'PSMB7 (5695)', 'PSMB8 (5696)', 'PSMB9 (5698)']\n",
      "['IKZF1 (10320)', 'IKZF3 (22806)']\n"
     ]
    }
   ],
   "source": [
    "# genes suggested by Romanos\n",
    "bortez_genes = [col for col in crispr.columns if 'PSMB' in col]\n",
    "lenal_genes = [col for col in crispr.columns if 'IKZF1' in col or 'IKZF3' in col]\n",
    "\n",
    "print(bortez_genes)\n",
    "print(lenal_genes)"
   ]
  },
  {
   "cell_type": "code",
   "execution_count": 10,
   "id": "confused-adult",
   "metadata": {},
   "outputs": [],
   "source": [
    "crispr_bortez = crispr[crispr.DepMap_ID.isin(bortez_ids)][bortez_genes + ['DepMap_ID']]\n",
    "crispr_lenal = crispr[crispr.DepMap_ID.isin(lenal_ids)][lenal_genes + ['DepMap_ID']]"
   ]
  },
  {
   "cell_type": "code",
   "execution_count": 11,
   "id": "tropical-messaging",
   "metadata": {},
   "outputs": [],
   "source": [
    "mapping = pd.read_csv('Ensembl_HGNC_map_042421.csv')\n",
    "cols_to_keep = ['DepMap_ID'] + list(mapping.HGNC_ID) \n",
    "rnaseq = rnaseq[cols_to_keep]\n",
    "\n",
    "rnaseq_bortez = rnaseq[rnaseq.DepMap_ID.isin(bortez_ids)]\n",
    "rnaseq_lenal = rnaseq[rnaseq.DepMap_ID.isin(lenal_ids)]"
   ]
  },
  {
   "cell_type": "markdown",
   "id": "joined-elizabeth",
   "metadata": {},
   "source": [
    "## Manually knockout the genes in the RNA and save CRISPR response value  "
   ]
  },
  {
   "cell_type": "code",
   "execution_count": 12,
   "id": "black-limit",
   "metadata": {},
   "outputs": [],
   "source": [
    "bortez_combined = []\n",
    "\n",
    "for index, row in rnaseq_bortez.iterrows():\n",
    "    for gene in bortez_genes:\n",
    "        new_row = row.copy()\n",
    "        new_row[gene] = 0\n",
    "        new_row['Knockout'] = gene\n",
    "        new_row['Response'] = crispr_bortez[crispr_bortez.DepMap_ID == new_row['DepMap_ID']][gene].values[0]\n",
    "        bortez_combined.append(new_row.to_dict())"
   ]
  },
  {
   "cell_type": "code",
   "execution_count": 13,
   "id": "challenging-brooklyn",
   "metadata": {},
   "outputs": [],
   "source": [
    "lenal_combined = []\n",
    "\n",
    "for index, row in rnaseq_lenal.iterrows():\n",
    "    for gene in lenal_genes:\n",
    "        new_row = row.copy()\n",
    "        new_row[gene] = 0\n",
    "        new_row['Knockout'] = gene\n",
    "        new_row['Response'] = crispr_lenal[crispr_lenal.DepMap_ID == new_row['DepMap_ID']][gene].values[0]\n",
    "        lenal_combined.append(new_row.to_dict())"
   ]
  },
  {
   "cell_type": "code",
   "execution_count": 14,
   "id": "removable-suicide",
   "metadata": {},
   "outputs": [],
   "source": [
    "bortez_df = pd.DataFrame(bortez_combined)\n",
    "lenal_df = pd.DataFrame(lenal_combined)"
   ]
  },
  {
   "cell_type": "code",
   "execution_count": 15,
   "id": "french-youth",
   "metadata": {},
   "outputs": [
    {
     "name": "stdout",
     "output_type": "stream",
     "text": [
      "4026 810\n"
     ]
    }
   ],
   "source": [
    "print(len(bortez_df), len(lenal_df))"
   ]
  },
  {
   "cell_type": "code",
   "execution_count": 16,
   "id": "necessary-grain",
   "metadata": {},
   "outputs": [],
   "source": [
    "bortez_df.to_csv('bortezomib_crispr_knockout.csv', index=False)\n",
    "lenal_df.to_csv('lenalidomide_crispr_knockout.csv', index=False)"
   ]
  },
  {
   "cell_type": "code",
   "execution_count": null,
   "id": "animated-shoot",
   "metadata": {},
   "outputs": [],
   "source": []
  }
 ],
 "metadata": {
  "kernelspec": {
   "display_name": "Python 3",
   "language": "python",
   "name": "python3"
  },
  "language_info": {
   "codemirror_mode": {
    "name": "ipython",
    "version": 3
   },
   "file_extension": ".py",
   "mimetype": "text/x-python",
   "name": "python",
   "nbconvert_exporter": "python",
   "pygments_lexer": "ipython3",
   "version": "3.6.13"
  }
 },
 "nbformat": 4,
 "nbformat_minor": 5
}
