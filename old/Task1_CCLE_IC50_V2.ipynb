{
 "cells": [
  {
   "cell_type": "markdown",
   "metadata": {
    "id": "VsAnMTpNAV-h"
   },
   "source": [
    "## Transfer learning from CCLE to MMRF (V2)\n",
    "\n",
    "Last Modified: 05/12/2021\n",
    "\n",
    "Written By: Sumi Thakur and Qingyang Xu\n",
    "\n",
    "- Pretrain on CCLE cell line data to predict IC50\n",
    "\n",
    "- Transfer to patient RNA-seq data to predict PFS\n",
    "\n",
    "References\n",
    "\n",
    "- Download patient genomic data (e.g. `MMRF_CoMMpass_IA15a_CNA_Exome_PerGene_LargestSegment.txt`)\n",
    "\n",
    "https://research.themmrf.org/\n",
    "\n",
    "- Download DevMap cell line data (e.g. `CCLE_expression.csv`)\n",
    "\n",
    "https://depmap.org/portal/download/"
   ]
  },
  {
   "cell_type": "code",
   "execution_count": 8,
   "metadata": {
    "colab": {
     "base_uri": "https://localhost:8080/"
    },
    "id": "Dl5gEjZlpx9L",
    "outputId": "2e23cc79-87bb-4beb-94b4-b643f4a629ac"
   },
   "outputs": [],
   "source": [
    "#from google.colab import drive\n",
    "import os\n",
    "import pandas as pd\n",
    "from sklearn.model_selection import train_test_split\n",
    "import tensorflow as tf\n",
    "#!pip install -q -U keras-tuner\n",
    "from kerastuner import HyperModel\n",
    "from keras import models, layers,regularizers\n",
    "from tensorflow.keras.optimizers import Adam\n",
    "from kerastuner.tuners.bayesian import BayesianOptimization\n",
    "from tqdm import tqdm\n",
    "import numpy as np\n",
    "import matplotlib.pyplot as plt\n",
    "from sklearn.metrics import r2_score\n",
    "from scipy.stats import pearsonr\n",
    "import pickle"
   ]
  },
  {
   "cell_type": "code",
   "execution_count": 9,
   "metadata": {
    "id": "1JXuEqQZAV-r"
   },
   "outputs": [],
   "source": [
    "from sklearn.linear_model import LinearRegression, LogisticRegression\n",
    "from sklearn.ensemble import RandomForestClassifier, GradientBoostingClassifier\n",
    "from sklearn import neural_network\n",
    "\n",
    "from sklearn import metrics as skmetrics\n",
    "from sklearn.decomposition import PCA"
   ]
  },
  {
   "cell_type": "code",
   "execution_count": 10,
   "metadata": {
    "colab": {
     "base_uri": "https://localhost:8080/",
     "height": 310
    },
    "id": "faHIU_mAAV-r",
    "outputId": "36584a3a-5532-470a-d78a-c8ce66b472cb"
   },
   "outputs": [],
   "source": [
    "import MMRF_utils"
   ]
  },
  {
   "cell_type": "markdown",
   "metadata": {
    "id": "BR2-PSkBqB7K",
    "outputId": "97e69f46-c455-4807-f3de-90e336c6d94b"
   },
   "source": [
    "## 1. Pretrain on CCLE IC50 data"
   ]
  },
  {
   "cell_type": "code",
   "execution_count": 11,
   "metadata": {
    "id": "gK362ObPAV-s"
   },
   "outputs": [],
   "source": [
    "def normalize_features(train, test):\n",
    "    \n",
    "    print('Normalizing input features...')\n",
    "    nsample, nfeature = train.shape\n",
    "    \n",
    "    assert nfeature == test.shape[1]\n",
    "\n",
    "    for i in range(nfeature):\n",
    "        mu = np.mean(train[:,i])\n",
    "        sigma = np.std(train[:,i])\n",
    "        train[:,i] -= mu\n",
    "        test[:,i] -= mu\n",
    "        \n",
    "        if sigma > 0: # some genes may have zero variance\n",
    "            train[:,i] /= sigma\n",
    "            test[:,i] /= sigma\n",
    "    \n",
    "    return train, test"
   ]
  },
  {
   "cell_type": "code",
   "execution_count": 12,
   "metadata": {
    "id": "N29jLNJ4qMi6"
   },
   "outputs": [],
   "source": [
    "def preprocess_CCLE(ccle_exp, sample_info, sanger_dose_response, mapping):\n",
    "    \n",
    "    print('Preprocessing CCLE data...')\n",
    "    \n",
    "    ccle_exp = ccle_exp.rename(columns={'Unnamed: 0':'DepMap_ID'})\n",
    "    cols_to_keep = ['DepMap_ID'] + list(pd.unique(mapping.HGNC_ID))\n",
    "    ccle_chosen = ccle_exp[cols_to_keep]\n",
    "\n",
    "    sanger_dose_response_filt = sanger_dose_response[(sanger_dose_response.DRUG_NAME.str.contains(\"BORTEZOMIB\"))\n",
    "                                                | (sanger_dose_response.DRUG_NAME.str.contains(\"LENALIDOMIDE\"))\n",
    "                                                ]\n",
    "\n",
    "    sanger_dose_response_filt = sanger_dose_response_filt.rename(columns={'ARXSPAN_ID':'DepMap_ID'})\n",
    "    \n",
    "    merged_df = sanger_dose_response_filt.merge(ccle_chosen, on= 'DepMap_ID')[list(ccle_chosen.columns)+['DRUG_NAME','IC50_PUBLISHED']]\n",
    "    merged_df['log(IC_50)'] = merged_df.IC50_PUBLISHED.apply(np.log10)\n",
    "    \n",
    "    merged_df_bort = merged_df[merged_df.DRUG_NAME == 'BORTEZOMIB'].drop_duplicates()\n",
    "    merged_df_lenal = merged_df[merged_df.DRUG_NAME == 'LENALIDOMIDE'].drop_duplicates()\n",
    "    bort_labels = merged_df_bort['log(IC_50)']\n",
    "    lenal_labels = merged_df_lenal['log(IC_50)']\n",
    "    bort_data = merged_df_bort.drop(columns = ['DepMap_ID','IC50_PUBLISHED','DRUG_NAME','log(IC_50)'])\n",
    "    lenal_data = merged_df_lenal.drop(columns = ['DepMap_ID','IC50_PUBLISHED','DRUG_NAME','log(IC_50)'])\n",
    "    \n",
    "    return bort_data, bort_labels, lenal_data, lenal_labels"
   ]
  },
  {
   "cell_type": "code",
   "execution_count": 13,
   "metadata": {
    "id": "v5P_TPRVqj1g"
   },
   "outputs": [],
   "source": [
    "def split_train_test_CCLE(X, y, normalize=True, nPCA=0):\n",
    "    \n",
    "    X_train, X_test, y_train, y_test = train_test_split(X, y, random_state=0, train_size=0.7)\n",
    "    \n",
    "    X_train = np.array(X_train)\n",
    "    y_train = np.array(y_train)\n",
    "    \n",
    "    X_test = np.array(X_test)\n",
    "    y_test = np.array(y_test)\n",
    "    \n",
    "    X_train, X_test = normalize_features(X_train, X_test)\n",
    "    \n",
    "    pca = None\n",
    "    # try running PCA on raw RNAseq data\n",
    "    if nPCA > 0:\n",
    "        print('Running PCA-%d on gene expressions...'%nPCA)\n",
    "        pca = PCA(n_components=nPCA)\n",
    "        X_train = pca.fit_transform(X_train)\n",
    "        X_test = pca.transform(X_test)\n",
    "    \n",
    "    assert X_train.shape[0] == y_train.shape[0]\n",
    "    \n",
    "    assert X_test.shape[0] == y_test.shape[0]\n",
    "    \n",
    "    print('Training set shape:')\n",
    "    print(X_train.shape)\n",
    "    \n",
    "    print('Test set shape:')\n",
    "    print(X_test.shape)\n",
    "    \n",
    "    return X_train, y_train, X_test, y_test, pca"
   ]
  },
  {
   "cell_type": "code",
   "execution_count": 14,
   "metadata": {
    "id": "QBp-hX0IAV-u"
   },
   "outputs": [],
   "source": [
    "def linear_regression_IC50(X_train, y_train, X_test, y_test):\n",
    "    print('Running linear regression to predict IC50...')\n",
    "    reg = LinearRegression().fit(X_train, y_train)\n",
    "    y_pred = reg.predict(X_test)\n",
    "\n",
    "    R2 = r2_score(y_test, y_pred)\n",
    "    print('R2: %0.2f'%R2)\n",
    "\n",
    "    rho, p = pearsonr(y_test, y_pred)\n",
    "    print('Correlation: %0.2f'%rho)\n",
    "    print('p-value: %0.5f'%p)"
   ]
  },
  {
   "cell_type": "code",
   "execution_count": 15,
   "metadata": {},
   "outputs": [],
   "source": [
    "class RegressionHyperModel(HyperModel):\n",
    "    def __init__(self, input_shape):\n",
    "        self.input_shape = input_shape\n",
    "    def build(self, hp):\n",
    "        model = tf.keras.Sequential()\n",
    "        model.add(\n",
    "            tf.keras.layers.Dense(\n",
    "                units=hp.Int('units', 40, 100, 10, default=80),\n",
    "                activation=hp.Choice(\n",
    "                    'dense_activation',\n",
    "                    values=['relu', 'tanh', 'sigmoid'],\n",
    "                    default='relu'),\n",
    "                input_shape = self.input_shape\n",
    "            )\n",
    "        )\n",
    "        \n",
    "        model.add(\n",
    "            tf.keras.layers.Dropout(\n",
    "                hp.Float(\n",
    "                    'dropout',\n",
    "                    min_value=0.0,\n",
    "                    max_value=0.6,\n",
    "                    default=0.3,\n",
    "                    step=0.1)\n",
    "            )\n",
    "        )\n",
    "        \n",
    "        model.add(\n",
    "            tf.keras.layers.Dense(\n",
    "                units=hp.Int('units', 10, 50, 10, default=40),\n",
    "                activation=hp.Choice(\n",
    "                    'dense_activation',\n",
    "                    values=['relu', 'tanh', 'sigmoid'],\n",
    "                    default='relu')\n",
    "            )\n",
    "        )\n",
    "        \n",
    "        model.add(\n",
    "            tf.keras.layers.Dropout(\n",
    "                hp.Float(\n",
    "                    'dropout',\n",
    "                    min_value=0.0,\n",
    "                    max_value=0.6,\n",
    "                    default=0.3,\n",
    "                    step=0.1)\n",
    "            )\n",
    "        )\n",
    "        \n",
    "        model.add(tf.keras.layers.Dense(5, name='encoder'))\n",
    "        \n",
    "        model.add(tf.keras.layers.Dense(1))\n",
    "        \n",
    "        model.compile(\n",
    "            optimizer='Adam',loss='mse',metrics=['mse']\n",
    "        )\n",
    "        \n",
    "        return model"
   ]
  },
  {
   "cell_type": "code",
   "execution_count": 16,
   "metadata": {
    "id": "4l4DavAnwphv"
   },
   "outputs": [],
   "source": [
    "def pretrain_MLP_model(X_train, y_train, X_test, y_test, params):\n",
    "    \n",
    "    print('Training MLP model...')\n",
    "\n",
    "    input_shape = (X_train.shape[1],)\n",
    "    print(input_shape)\n",
    "    hypermodel = RegressionHyperModel(input_shape)    \n",
    "    \n",
    "    ### using bayesian hyperparamter optimization\n",
    "    tuner_bo = BayesianOptimization(\n",
    "                hypermodel,\n",
    "                objective='mse',\n",
    "                max_trials=2,\n",
    "                seed=42,\n",
    "                executions_per_trial=2\n",
    "            )\n",
    "    \n",
    "    ### set epochs\n",
    "    tuner_bo.search(X_train, y_train, epochs=3, validation_split=0.2, verbose=1)\n",
    "    best_model = tuner_bo.get_best_models(num_models=1)[0]\n",
    "  \n",
    "    return best_model"
   ]
  },
  {
   "cell_type": "code",
   "execution_count": 17,
   "metadata": {
    "id": "6VpQBcyEAV-w"
   },
   "outputs": [],
   "source": [
    "def plot_R2_correlation(R2_his, rho_his):\n",
    "\n",
    "    fig, ax1 = plt.subplots()\n",
    "\n",
    "    color = 'tab:red'\n",
    "    ax1.set_xlabel('Epoch')\n",
    "    ax1.set_ylabel(r'$R^2$', color=color)\n",
    "    ax1.plot(R2_his, color=color)\n",
    "    ax1.tick_params(axis='y', labelcolor=color)\n",
    "\n",
    "    ax2 = ax1.twinx()  # instantiate a second axes that shares the same x-axis\n",
    "\n",
    "    color = 'tab:blue'\n",
    "    ax2.set_ylabel(r'$\\rho$', color=color)  # we already handled the x-label with ax1\n",
    "    ax2.plot(rho_his, color=color)\n",
    "    ax2.tick_params(axis='y', labelcolor=color)\n",
    "\n",
    "    fig.tight_layout()  # otherwise the right y-label is slightly clipped\n",
    "    plt.title(r'$R^2$ and $\\rho$ during training')\n",
    "    plt.show()"
   ]
  },
  {
   "cell_type": "code",
   "execution_count": 18,
   "metadata": {
    "id": "jSBPPvqXAV-x"
   },
   "outputs": [],
   "source": [
    "def plot_losses(train_loss,val_loss):\n",
    "\n",
    "    plt.yscale('log')\n",
    "    plt.plot(train_loss[1:], label='Train Loss')\n",
    "    plt.plot(val_loss[1:], label='Valid Loss')\n",
    "    plt.legend()\n",
    "    plt.title('Train vs. Valid Losses during Training')\n",
    "    plt.xlabel('Epoch')\n",
    "    plt.show()"
   ]
  },
  {
   "cell_type": "markdown",
   "metadata": {
    "id": "ofFt5StIAV-x"
   },
   "source": [
    "## 2. Transfer to MMRF patient data"
   ]
  },
  {
   "cell_type": "code",
   "execution_count": null,
   "metadata": {
    "id": "VOhK6SyXAV-x"
   },
   "outputs": [],
   "source": [
    "def preprocess_MMRF_genomic(genomic_fn, CCLE_cols, mapping):\n",
    "\n",
    "    print('\\nPreprocess patient genomic data in MMRF...')\n",
    "    genomic_df = MMRF_utils.preprocess_genomic_data(genomic_fn, nPCA=0)\n",
    "\n",
    "    mapping_dict = {}\n",
    "\n",
    "    # create mapping dict from Ensembl to HGNC\n",
    "    for i in range(mapping.shape[0]):\n",
    "        eid = mapping['Ensembl_ID'].iloc[i]\n",
    "        hid = mapping['HGNC_ID'].iloc[i]\n",
    "        mapping_dict[eid] = hid\n",
    "        \n",
    "    # average over columns with the same Ensembl ID\n",
    "    gene_df = genomic_df[mapping['Ensembl_ID']]\n",
    "    pids = genomic_df['pids']\n",
    "\n",
    "    HGNC_cols = [mapping_dict[eid] for eid in gene_df.columns]\n",
    "    gene_df.columns = HGNC_cols\n",
    "    # average over columns with the same HGNC name\n",
    "    gene_df = gene_df.groupby(by=gene_df.columns, axis=1).mean()\n",
    "    \n",
    "    gene_df = gene_df[CCLE_cols]\n",
    "    \n",
    "    # normalize each gene\n",
    "    for col in gene_df.columns:\n",
    "        mu = gene_df[col].mean()\n",
    "        sigma = gene_df[col].std()\n",
    "        gene_df[col] -= mu\n",
    "        if sigma>0: gene_df[col] /= sigma\n",
    "    \n",
    "    return gene_df, pids"
   ]
  },
  {
   "cell_type": "markdown",
   "metadata": {
    "id": "p6YkwuwUAV-y"
   },
   "source": [
    "## 3. Comparing AUC of three approaches"
   ]
  },
  {
   "cell_type": "code",
   "execution_count": null,
   "metadata": {
    "id": "E79nyLAsAV-y"
   },
   "outputs": [],
   "source": [
    "def predict_PFS(clf, model_name, train_X, train_y, test_X, test_y):\n",
    "    \n",
    "    print('Fitting model %s...'%model_name)\n",
    "    clf.fit(train_X, train_y)\n",
    "\n",
    "    # predict PoS in test set\n",
    "    print('Predicting on test set...')\n",
    "    y_pred = clf.predict_proba(test_X)[:,1]\n",
    "\n",
    "    auc = skmetrics.roc_auc_score(test_y, y_pred)\n",
    "    f1 = skmetrics.f1_score(test_y, y_pred.round())\n",
    "    pres = skmetrics.precision_score(test_y, y_pred.round())\n",
    "    rec = skmetrics.recall_score(test_y, y_pred.round())\n",
    "    acc = skmetrics.accuracy_score(test_y, y_pred.round())\n",
    "\n",
    "    print('Accuracy: %0.2f'%acc)\n",
    "    print('Precision: %0.2f'%pres)\n",
    "    print('Recall: %0.2f'%rec)\n",
    "    print('F1 score: %0.2f'%f1)\n",
    "    print('AUC: %0.2f'%auc)\n",
    "    print('')\n",
    "    \n",
    "    return clf"
   ]
  },
  {
   "cell_type": "markdown",
   "metadata": {
    "id": "K9xa7NVIAV-y"
   },
   "source": [
    "### 3.1 Only use patient data"
   ]
  },
  {
   "cell_type": "code",
   "execution_count": null,
   "metadata": {
    "id": "2LiVWQ6eAV-z"
   },
   "outputs": [],
   "source": [
    "def predict_pfs_patient_only(train_df,valid_df,test_df, clf, model_name='',drug='Bor'):\n",
    "\n",
    "    print('Predicting PFS using patient clinical data only...')\n",
    "    \n",
    "    assert drug == 'Bor' or drug == 'Len'\n",
    "    \n",
    "    print('Predicting patients with %s as first line treatment...'%drug)\n",
    "    \n",
    "    # no genomic data\n",
    "    train = pd.concat([train_df,valid_df])\n",
    "    train = train[(train[drug+'1']==1)]\n",
    "    print(train.shape)\n",
    "\n",
    "    test = test_df[test_df[drug+'1']==1]\n",
    "    print(test.shape)\n",
    "    \n",
    "    pfs_thresh = 12\n",
    "    train_y = np.array(train.pop('pfs'))\n",
    "    train_y = np.array([int(pfs>pfs_thresh) for pfs in train_y])\n",
    "    p1 = train.pop('pids')\n",
    "    train_X = np.array(train)\n",
    "\n",
    "    test_y = np.array(test.pop('pfs'))\n",
    "    test_y = np.array([int(pfs>pfs_thresh) for pfs in test_y])\n",
    "    p0 = test.pop('pids')\n",
    "    test_X = np.array(test)\n",
    "    \n",
    "    clf = predict_PFS(clf, model_name, train_X, train_y, test_X, test_y)\n",
    "    \n",
    "    return clf"
   ]
  },
  {
   "cell_type": "code",
   "execution_count": null,
   "metadata": {
    "id": "yTYigO1PAV-z"
   },
   "outputs": [],
   "source": []
  },
  {
   "cell_type": "markdown",
   "metadata": {
    "id": "3ijqqr15AV-0"
   },
   "source": [
    "### 3.2 PCA on raw RNA"
   ]
  },
  {
   "cell_type": "code",
   "execution_count": null,
   "metadata": {
    "id": "Dc8dyvDGAV-0"
   },
   "outputs": [],
   "source": [
    "def predict_pfs_patient_PCA(genomic_fn, train_df,valid_df,test_df, clf, model_name='',drug='Bor',nPCA=20):\n",
    "    \n",
    "    print('Predicting PFS using patient clinical data and PCA on RNAseq...')\n",
    "    \n",
    "    assert drug == 'Bor' or drug == 'Len'\n",
    "    assert nPCA > 0\n",
    "    \n",
    "    print('Predicting patients with %s as first line treatment...'%drug)\n",
    "    \n",
    "    print('\\nPreprocess patient genomic data in MMRF...')\n",
    "    \n",
    "    genomic_df = MMRF_utils.preprocess_genomic_data(genomic_fn, nPCA=nPCA)\n",
    "    print(genomic_df.shape)\n",
    "    \n",
    "    print('\\nMerging patient data with genomic data...')\n",
    "    train_patient_genomic = train_df.merge(genomic_df, left_on='pids', right_on='pids')\n",
    "    print(train_patient_genomic.shape)\n",
    "\n",
    "    valid_patient_genomic = valid_df.merge(genomic_df, left_on='pids', right_on='pids')\n",
    "    print(valid_patient_genomic.shape)\n",
    "\n",
    "    test_patient_genomic = test_df.merge(genomic_df, left_on='pids', right_on='pids')\n",
    "    print(test_patient_genomic.shape)\n",
    "    \n",
    "    train = pd.concat([train_patient_genomic,valid_patient_genomic])\n",
    "    train = train[(train[drug+'1']==1)]\n",
    "    print(train.shape)\n",
    "\n",
    "    test = test_patient_genomic[test_patient_genomic[drug+'1']==1]\n",
    "    print(test.shape)\n",
    "    \n",
    "    pfs_thresh = 12\n",
    "    train_y = np.array(train.pop('pfs'))\n",
    "    train_y = np.array([int(pfs>pfs_thresh) for pfs in train_y])\n",
    "    p1 = train.pop('pids')\n",
    "    train_X = np.array(train)\n",
    "\n",
    "    test_y = np.array(test.pop('pfs'))\n",
    "    test_y = np.array([int(pfs>pfs_thresh) for pfs in test_y])\n",
    "    p0 = test.pop('pids')\n",
    "    test_X = np.array(test)\n",
    "    \n",
    "    clf = predict_PFS(clf, model_name, train_X, train_y, test_X, test_y)\n",
    "    return clf"
   ]
  },
  {
   "cell_type": "markdown",
   "metadata": {
    "id": "ERhw6vN_AV-1"
   },
   "source": [
    "### 3.3 Transfer from CCLE"
   ]
  },
  {
   "cell_type": "code",
   "execution_count": null,
   "metadata": {
    "id": "YiO9FF0OAV-1"
   },
   "outputs": [],
   "source": [
    "def predict_pfs_patient_CCLE(enc_gene_df, train_df,valid_df,test_df, clf, model_name='',drug='Bor'):\n",
    "\n",
    "    print('\\nPredicing PFS with transfer model from CCLE...')\n",
    "    \n",
    "    print('\\nMerging patient data with genomic data...')\n",
    "    train_patient_genomic = train_df.merge(enc_gene_df, left_on='pids', right_on='pids')\n",
    "    print(train_patient_genomic.shape)\n",
    "\n",
    "    valid_patient_genomic = valid_df.merge(enc_gene_df, left_on='pids', right_on='pids')\n",
    "    print(valid_patient_genomic.shape)\n",
    "\n",
    "    test_patient_genomic = test_df.merge(enc_gene_df, left_on='pids', right_on='pids')\n",
    "    print(test_patient_genomic.shape)\n",
    "    \n",
    "    train = pd.concat([train_patient_genomic,valid_patient_genomic])\n",
    "    train = train[train[drug+'1']==1]\n",
    "    print(train.shape)\n",
    "\n",
    "    test = test_patient_genomic[test_patient_genomic[drug+'1']==1]\n",
    "    print(test.shape)\n",
    "    \n",
    "    pfs_thresh = 12\n",
    "    train_y = np.array(train.pop('pfs'))\n",
    "    train_y = np.array([int(pfs>pfs_thresh) for pfs in train_y])\n",
    "    p1 = train.pop('pids')\n",
    "    train_X = np.array(train)\n",
    "\n",
    "    test_y = np.array(test.pop('pfs'))\n",
    "    test_y = np.array([int(pfs>pfs_thresh) for pfs in test_y])\n",
    "    p0 = test.pop('pids')\n",
    "    test_X = np.array(test)\n",
    "    \n",
    "    clf = predict_PFS(clf, model_name, train_X, train_y, test_X, test_y)\n",
    "    return clf"
   ]
  },
  {
   "cell_type": "markdown",
   "metadata": {},
   "source": [
    "### 3.4 Auto-encoder for RNA-seq"
   ]
  },
  {
   "cell_type": "code",
   "execution_count": null,
   "metadata": {},
   "outputs": [],
   "source": [
    "def predict_pfs_patient_AE(ae_dict, ae_type, train_df, valid_df, test_df, clf, model_name='',drug='Bor'):\n",
    "    \n",
    "    print('\\nPredicing PFS with auto-encoded RNAseq...')\n",
    "\n",
    "    print('Using auto-encoder %s'%ae_type)\n",
    "    \n",
    "    train_ae = ae_dict['/mmrf_train_%s'%ae_type]\n",
    "    valid_ae = ae_dict['/mmrf_valid_%s'%ae_type]\n",
    "    test_ae = ae_dict['/mmrf_test_%s'%ae_type]\n",
    "\n",
    "    train_ae_df = train_df.merge(train_ae, left_on='pids', right_on='pids')\n",
    "    print(train_ae_df.shape)\n",
    "\n",
    "    valid_ae_df = valid_df.merge(valid_ae, left_on='pids', right_on='pids')\n",
    "    print(valid_ae_df.shape)\n",
    "\n",
    "    test_ae_df = test_df.merge(test_ae, left_on='pids', right_on='pids')\n",
    "    print(test_ae_df.shape)\n",
    "    \n",
    "    train = pd.concat([train_ae_df,valid_ae_df])\n",
    "    train = train[train[drug+'1']==1]\n",
    "    print(train.shape)\n",
    "\n",
    "    test = test_ae_df[test_ae_df[drug+'1']==1]\n",
    "    print(test.shape)\n",
    "    \n",
    "    pfs_thresh = 12\n",
    "    train_y = np.array(train.pop('pfs'))\n",
    "    train_y = np.array([int(pfs>pfs_thresh) for pfs in train_y])\n",
    "    p1 = train.pop('pids')\n",
    "    train_X = np.array(train)\n",
    "\n",
    "    test_y = np.array(test.pop('pfs'))\n",
    "    test_y = np.array([int(pfs>pfs_thresh) for pfs in test_y])\n",
    "    p0 = test.pop('pids')\n",
    "    test_X = np.array(test)\n",
    "    \n",
    "    clf = predict_PFS(clf, model_name, train_X, train_y, test_X, test_y)\n",
    "    \n",
    "    return clf"
   ]
  },
  {
   "cell_type": "markdown",
   "metadata": {},
   "source": [
    "### Main function"
   ]
  },
  {
   "cell_type": "code",
   "execution_count": null,
   "metadata": {
    "id": "30aNOyCWAV-1"
   },
   "outputs": [],
   "source": [
    "#if __name__ == '__main__':\n",
    "def main():\n",
    "    \n",
    "    print('Testing transfer learning pipeline from CCLE to MMRF...')\n",
    "    \n",
    "    print('Reading data files...')\n",
    "    \n",
    "    data_dir = './data/' # Enter the path to your folder here\n",
    "\n",
    "    # have the following files in your data folder\n",
    "    ccle_exp = pd.read_csv(data_dir+\"CCLE_expression.csv\")\n",
    "    sample_info = pd.read_csv(data_dir+\"sample_info.csv\")\n",
    "    sanger_dose_response = pd.read_csv(data_dir+\"sanger-dose-response.csv\")\n",
    "    mapping = pd.read_csv(data_dir+'Ensembl_HGNC_map_042421.csv')\n",
    "    genomic_fn = data_dir+'MMRF_CoMMpass_IA15a_E74GTF_Salmon_Gene_TPM.txt'\n",
    "   \n",
    "    ae_fn = data_dir + 'normalized_embeddings.pkl' # auto-encoder of RNA\n",
    "    \n",
    "    ind = 1\n",
    "    mmrf_filename = data_dir+'cleaned_mm%d_2mos_pfs_ind.pkl'%(ind)\n",
    "\n",
    "    print('\\nPart I. Pretraining on CCLE IC50 data')\n",
    "    \n",
    "    bort_data, bort_labels, lenal_data, lenal_labels = preprocess_CCLE(ccle_exp, sample_info, sanger_dose_response, mapping)\n",
    "\n",
    "    X_train, y_train, X_test, y_test, pca = split_train_test_CCLE(bort_data, bort_labels, normalize=True, nPCA=100)\n",
    "\n",
    "    #linear_regression_IC50(X_train, y_train, X_test, y_test) # linear regression baseline\n",
    "    \n",
    "    MLP_params = {'niter':30, 'nepoch':10,'batch_size':32,'hidden_layers':[50,20,10],'lr':1e-3}\n",
    "    pretrain_model = pretrain_MLP_model(X_train, y_train, X_test, y_test, MLP_params)\n",
    "    \n",
    "    print('')\n",
    "\n",
    "    ############################################################################\n",
    "    \n",
    "    print('\\nPart II. Preprocess MMRF genomic data')\n",
    "\n",
    "    # run PCA on MMRF genomic data and use IC50 model in Part I to encode\n",
    "    gene_df, pids = preprocess_MMRF_genomic(genomic_fn, bort_data.columns, mapping)\n",
    "    pca_gene = pca.transform(gene_df)\n",
    "    \n",
    "    layer_name = 'encoder'\n",
    "    encoder = tf.keras.Model(inputs=pretrain_model.input,\n",
    "                             outputs=pretrain_model.get_layer(layer_name).output)\n",
    "    enc_gene = encoder(pca_gene).numpy()\n",
    "    \n",
    "    enc_gene_df = pd.DataFrame(data=enc_gene, columns=['Enc%d'%(i+1) for i in range(enc_gene.shape[1])])\n",
    "    enc_gene_df['pids'] = pids\n",
    "    print('')\n",
    "    \n",
    "    ############################################################################\n",
    "   \n",
    "    print('\\nPart III. Predict PFS on MMRF patient data')\n",
    "    train, test, valid = MMRF_utils.get_train_test_valid(mmrf_filename, ind, show_features=True)\n",
    "\n",
    "    print('\\nPreprocess patient data in MMRF')\n",
    "    # include the first n clinical visit data for each patient (default 0)\n",
    "    train_df = MMRF_utils.preprocess_patient_data(train, num_clin_visits=3)  \n",
    "    print(train_df.shape)\n",
    "\n",
    "    valid_df = MMRF_utils.preprocess_patient_data(valid, num_clin_visits=3)  \n",
    "    print(valid_df.shape)\n",
    "\n",
    "    test_df = MMRF_utils.preprocess_patient_data(test, num_clin_visits=3)  \n",
    "    print(test_df.shape)\n",
    "\n",
    "    ############################################################################\n",
    "    \n",
    "    print('\\nPart IV. Predict PFS with auto-encoded RNA-seq')\n",
    "    \n",
    "    ae_dict = pickle.load(open(ae_fn, \"rb\" ))\n",
    "    ae_type = 'mmrfae' # other types: ['mmrfae', 'ccleae', 'combinedae']\n",
    "    \n",
    "    #############################################################################\n",
    "\n",
    "    print('\\nComparing prediction accuracy of different models... \\n')\n",
    "    \n",
    "    # Model 1: patient data only\n",
    "    print('Part I \\n')\n",
    "    clf1 = RandomForestClassifier(n_estimators=5000, max_depth=50, random_state=0)\n",
    "    clf1 = predict_pfs_patient_only(train_df, valid_df, test_df, clf1, model_name='RF', drug='Bor')\n",
    "    \n",
    "    # Model 2: patient data with PCA on MMRF RNAseq\n",
    "    print('Part II \\n')\n",
    "    clf2 = RandomForestClassifier(n_estimators=5000, max_depth=50, random_state=0)\n",
    "    clf2 = predict_pfs_patient_PCA(genomic_fn, train_df, valid_df, test_df, clf2, model_name='RF',drug='Bor',nPCA=50)\n",
    "    \n",
    "    # Model 3: Transfer from CCLE IC50 to MMRF\n",
    "    print('Part III \\n')\n",
    "    clf3 = RandomForestClassifier(n_estimators=5000, max_depth=50, random_state=0)\n",
    "    clf3 = predict_pfs_patient_CCLE(enc_gene_df, train_df, valid_df, test_df, clf3, model_name='RF',drug='Bor')\n",
    "    \n",
    "    # Model 4: Auto-encoder for CCLE/MMRF\n",
    "    print('Part IV \\n')\n",
    "    clf4 = RandomForestClassifier(n_estimators=5000, max_depth=50, random_state=0)\n",
    "    clf4 = predict_pfs_patient_AE(ae_dict, ae_type, train_df, valid_df, test_df, clf4, model_name='RF',drug='Bor')\n",
    "    \n",
    "    print('Work complete!')"
   ]
  },
  {
   "cell_type": "code",
   "execution_count": null,
   "metadata": {},
   "outputs": [],
   "source": [
    "main()"
   ]
  },
  {
   "cell_type": "code",
   "execution_count": null,
   "metadata": {},
   "outputs": [],
   "source": []
  }
 ],
 "metadata": {
  "colab": {
   "name": "Task1_CCLE_IC50_V_hypermodel.ipynb",
   "provenance": []
  },
  "kernelspec": {
   "display_name": "Python 3",
   "language": "python",
   "name": "python3"
  },
  "language_info": {
   "codemirror_mode": {
    "name": "ipython",
    "version": 3
   },
   "file_extension": ".py",
   "mimetype": "text/x-python",
   "name": "python",
   "nbconvert_exporter": "python",
   "pygments_lexer": "ipython3",
   "version": "3.8.8"
  }
 },
 "nbformat": 4,
 "nbformat_minor": 1
}
