{
 "cells": [
  {
   "cell_type": "markdown",
   "id": "statutory-rebecca",
   "metadata": {},
   "source": [
    "# Simulating RNA-seq profiles to represent the perturbed cell line transcriptome"
   ]
  },
  {
   "cell_type": "markdown",
   "id": "graduate-alexander",
   "metadata": {},
   "source": [
    "* Author: Eshika Saxena\n",
    "* Objective: Simulate RNA-seq profiles to represesnt the perturbed cell line transcriptome by setting the RNA-seq value for the perturbed gene to 0 "
   ]
  },
  {
   "cell_type": "markdown",
   "id": "removable-flexibility",
   "metadata": {},
   "source": [
    "## Load libraries"
   ]
  },
  {
   "cell_type": "code",
   "execution_count": 1,
   "id": "human-sailing",
   "metadata": {},
   "outputs": [],
   "source": [
    "import os\n",
    "import numpy as np\n",
    "import pandas as pd"
   ]
  },
  {
   "cell_type": "markdown",
   "id": "worldwide-hacker",
   "metadata": {},
   "source": [
    "## Read data"
   ]
  },
  {
   "cell_type": "code",
   "execution_count": 2,
   "id": "sunset-adventure",
   "metadata": {},
   "outputs": [],
   "source": [
    "data_dir = '/Users/eshikasaxena/Documents/MLHC/mm-cell_lines/data/'"
   ]
  },
  {
   "cell_type": "code",
   "execution_count": 3,
   "id": "finished-reception",
   "metadata": {},
   "outputs": [],
   "source": [
    "rnaseq = pd.read_csv(os.path.join(data_dir,'CCLE_expression.csv'))\n",
    "rnaseq = rnaseq.rename(columns={'Unnamed: 0': 'DepMap_ID'})"
   ]
  },
  {
   "cell_type": "code",
   "execution_count": 4,
   "id": "confidential-communication",
   "metadata": {},
   "outputs": [],
   "source": [
    "crispr = pd.read_csv(os.path.join(data_dir,'Achilles_gene_effect.csv'))"
   ]
  },
  {
   "cell_type": "code",
   "execution_count": 5,
   "id": "generous-garage",
   "metadata": {},
   "outputs": [],
   "source": [
    "doseresponse = pd.read_csv(os.path.join(data_dir,'sanger-dose-response.csv'))\n",
    "doseresponse = doseresponse.rename(columns={'ARXSPAN_ID':'DepMap_ID'})"
   ]
  },
  {
   "cell_type": "code",
   "execution_count": 6,
   "id": "classified-bahrain",
   "metadata": {},
   "outputs": [],
   "source": [
    "doseresponse_bortez = doseresponse[doseresponse.DRUG_NAME.str.contains(\"BORTEZOMIB\", na=False)]\n",
    "doseresponse_lenal = doseresponse[doseresponse.DRUG_NAME.str.contains(\"LENALIDOMIDE\", na=False)]"
   ]
  },
  {
   "cell_type": "markdown",
   "id": "dress-arlington",
   "metadata": {},
   "source": [
    "## Restrict data to IDs present in knockout, rnaseq, and doseresponse with 2 chosen drugs"
   ]
  },
  {
   "cell_type": "code",
   "execution_count": 7,
   "id": "inappropriate-rendering",
   "metadata": {},
   "outputs": [
    {
     "name": "stdout",
     "output_type": "stream",
     "text": [
      "800 366 405\n"
     ]
    }
   ],
   "source": [
    "ids = list(set(crispr.DepMap_ID).intersection(set(rnaseq.DepMap_ID)))\n",
    "bortez_ids = list(set(ids).intersection(set(doseresponse_bortez.DepMap_ID)))\n",
    "lenal_ids = list(set(ids).intersection(set(doseresponse_lenal.DepMap_ID)))\n",
    "\n",
    "print(len(ids), len(bortez_ids), len(lenal_ids))"
   ]
  },
  {
   "cell_type": "code",
   "execution_count": 8,
   "id": "departmental-fighter",
   "metadata": {},
   "outputs": [
    {
     "name": "stdout",
     "output_type": "stream",
     "text": [
      "['PSMB1 (5689)', 'PSMB10 (5699)', 'PSMB11 (122706)', 'PSMB2 (5690)', 'PSMB3 (5691)', 'PSMB4 (5692)', 'PSMB5 (5693)', 'PSMB6 (5694)', 'PSMB7 (5695)', 'PSMB8 (5696)', 'PSMB9 (5698)']\n",
      "['IKZF1 (10320)', 'IKZF3 (22806)']\n"
     ]
    }
   ],
   "source": [
    "# genes of interest\n",
    "bortez_genes = [col for col in crispr.columns if 'PSMB' in col]\n",
    "lenal_genes = [col for col in crispr.columns if 'IKZF1' in col or 'IKZF3' in col]\n",
    "\n",
    "print(bortez_genes)\n",
    "print(lenal_genes)"
   ]
  },
  {
   "cell_type": "code",
   "execution_count": 9,
   "id": "confused-adult",
   "metadata": {},
   "outputs": [],
   "source": [
    "crispr_bortez = crispr[crispr.DepMap_ID.isin(bortez_ids)][bortez_genes + ['DepMap_ID']]\n",
    "crispr_lenal = crispr[crispr.DepMap_ID.isin(lenal_ids)][lenal_genes + ['DepMap_ID']]"
   ]
  },
  {
   "cell_type": "code",
   "execution_count": 10,
   "id": "tropical-messaging",
   "metadata": {},
   "outputs": [],
   "source": [
    "mapping = pd.read_csv('../utils/Ensembl_HGNC_map_042421.csv')\n",
    "cols_to_keep = ['DepMap_ID'] + list(mapping.HGNC_ID) \n",
    "rnaseq = rnaseq[cols_to_keep]\n",
    "\n",
    "rnaseq_bortez = rnaseq[rnaseq.DepMap_ID.isin(bortez_ids)]\n",
    "rnaseq_lenal = rnaseq[rnaseq.DepMap_ID.isin(lenal_ids)]"
   ]
  },
  {
   "cell_type": "markdown",
   "id": "joined-elizabeth",
   "metadata": {},
   "source": [
    "## Manually knockout the genes in the RNA-seq and save corresponding cell viability score  "
   ]
  },
  {
   "cell_type": "code",
   "execution_count": 11,
   "id": "black-limit",
   "metadata": {},
   "outputs": [],
   "source": [
    "bortez_combined = []\n",
    "\n",
    "for index, row in rnaseq_bortez.iterrows():\n",
    "    for gene in bortez_genes:\n",
    "        new_row = row.copy()\n",
    "        new_row[gene] = 0\n",
    "        new_row['Knockout'] = gene\n",
    "        new_row['Response'] = crispr_bortez[crispr_bortez.DepMap_ID == new_row['DepMap_ID']][gene].values[0]\n",
    "        bortez_combined.append(new_row.to_dict())"
   ]
  },
  {
   "cell_type": "code",
   "execution_count": 12,
   "id": "challenging-brooklyn",
   "metadata": {},
   "outputs": [],
   "source": [
    "lenal_combined = []\n",
    "\n",
    "for index, row in rnaseq_lenal.iterrows():\n",
    "    for gene in lenal_genes:\n",
    "        new_row = row.copy()\n",
    "        new_row[gene] = 0\n",
    "        new_row['Knockout'] = gene\n",
    "        new_row['Response'] = crispr_lenal[crispr_lenal.DepMap_ID == new_row['DepMap_ID']][gene].values[0]\n",
    "        lenal_combined.append(new_row.to_dict())"
   ]
  },
  {
   "cell_type": "markdown",
   "id": "major-girlfriend",
   "metadata": {},
   "source": [
    "## Save data to csv files"
   ]
  },
  {
   "cell_type": "code",
   "execution_count": 13,
   "id": "removable-suicide",
   "metadata": {},
   "outputs": [],
   "source": [
    "bortez_df = pd.DataFrame(bortez_combined)\n",
    "lenal_df = pd.DataFrame(lenal_combined)"
   ]
  },
  {
   "cell_type": "code",
   "execution_count": 14,
   "id": "french-youth",
   "metadata": {},
   "outputs": [
    {
     "name": "stdout",
     "output_type": "stream",
     "text": [
      "4026 810\n"
     ]
    }
   ],
   "source": [
    "print(len(bortez_df), len(lenal_df))"
   ]
  },
  {
   "cell_type": "code",
   "execution_count": 15,
   "id": "buried-warning",
   "metadata": {},
   "outputs": [
    {
     "data": {
      "text/html": [
       "<div>\n",
       "<style scoped>\n",
       "    .dataframe tbody tr th:only-of-type {\n",
       "        vertical-align: middle;\n",
       "    }\n",
       "\n",
       "    .dataframe tbody tr th {\n",
       "        vertical-align: top;\n",
       "    }\n",
       "\n",
       "    .dataframe thead th {\n",
       "        text-align: right;\n",
       "    }\n",
       "</style>\n",
       "<table border=\"1\" class=\"dataframe\">\n",
       "  <thead>\n",
       "    <tr style=\"text-align: right;\">\n",
       "      <th></th>\n",
       "      <th>DepMap_ID</th>\n",
       "      <th>TSPAN6 (7105)</th>\n",
       "      <th>TNMD (64102)</th>\n",
       "      <th>DPM1 (8813)</th>\n",
       "      <th>SCYL3 (57147)</th>\n",
       "      <th>C1orf112 (55732)</th>\n",
       "      <th>FGR (2268)</th>\n",
       "      <th>CFH (3075)</th>\n",
       "      <th>FUCA2 (2519)</th>\n",
       "      <th>GCLC (2729)</th>\n",
       "      <th>...</th>\n",
       "      <th>PADI6 (353238)</th>\n",
       "      <th>CCL3L3 (414062)</th>\n",
       "      <th>OR13C2 (392376)</th>\n",
       "      <th>DUX4 (100288687)</th>\n",
       "      <th>LYPD8 (646627)</th>\n",
       "      <th>CCL15 (6359)</th>\n",
       "      <th>MTRNR2L12 (100462981)</th>\n",
       "      <th>ZNF8 (7554)</th>\n",
       "      <th>Knockout</th>\n",
       "      <th>Response</th>\n",
       "    </tr>\n",
       "  </thead>\n",
       "  <tbody>\n",
       "    <tr>\n",
       "      <th>0</th>\n",
       "      <td>ACH-000233</td>\n",
       "      <td>0.097611</td>\n",
       "      <td>0.0</td>\n",
       "      <td>5.919102</td>\n",
       "      <td>3.983678</td>\n",
       "      <td>3.733354</td>\n",
       "      <td>0.028569</td>\n",
       "      <td>6.11124</td>\n",
       "      <td>2.963474</td>\n",
       "      <td>3.415488</td>\n",
       "      <td>...</td>\n",
       "      <td>0.0</td>\n",
       "      <td>1.427606</td>\n",
       "      <td>0.0</td>\n",
       "      <td>0.028569</td>\n",
       "      <td>0.028569</td>\n",
       "      <td>0.0</td>\n",
       "      <td>1.124328</td>\n",
       "      <td>2.042644</td>\n",
       "      <td>PSMB1 (5689)</td>\n",
       "      <td>-0.921257</td>\n",
       "    </tr>\n",
       "    <tr>\n",
       "      <th>1</th>\n",
       "      <td>ACH-000233</td>\n",
       "      <td>0.097611</td>\n",
       "      <td>0.0</td>\n",
       "      <td>5.919102</td>\n",
       "      <td>3.983678</td>\n",
       "      <td>3.733354</td>\n",
       "      <td>0.028569</td>\n",
       "      <td>6.11124</td>\n",
       "      <td>2.963474</td>\n",
       "      <td>3.415488</td>\n",
       "      <td>...</td>\n",
       "      <td>0.0</td>\n",
       "      <td>1.427606</td>\n",
       "      <td>0.0</td>\n",
       "      <td>0.028569</td>\n",
       "      <td>0.028569</td>\n",
       "      <td>0.0</td>\n",
       "      <td>1.124328</td>\n",
       "      <td>2.042644</td>\n",
       "      <td>PSMB10 (5699)</td>\n",
       "      <td>-0.124671</td>\n",
       "    </tr>\n",
       "    <tr>\n",
       "      <th>2</th>\n",
       "      <td>ACH-000233</td>\n",
       "      <td>0.097611</td>\n",
       "      <td>0.0</td>\n",
       "      <td>5.919102</td>\n",
       "      <td>3.983678</td>\n",
       "      <td>3.733354</td>\n",
       "      <td>0.028569</td>\n",
       "      <td>6.11124</td>\n",
       "      <td>2.963474</td>\n",
       "      <td>3.415488</td>\n",
       "      <td>...</td>\n",
       "      <td>0.0</td>\n",
       "      <td>1.427606</td>\n",
       "      <td>0.0</td>\n",
       "      <td>0.028569</td>\n",
       "      <td>0.028569</td>\n",
       "      <td>0.0</td>\n",
       "      <td>1.124328</td>\n",
       "      <td>2.042644</td>\n",
       "      <td>PSMB11 (122706)</td>\n",
       "      <td>0.194359</td>\n",
       "    </tr>\n",
       "    <tr>\n",
       "      <th>3</th>\n",
       "      <td>ACH-000233</td>\n",
       "      <td>0.097611</td>\n",
       "      <td>0.0</td>\n",
       "      <td>5.919102</td>\n",
       "      <td>3.983678</td>\n",
       "      <td>3.733354</td>\n",
       "      <td>0.028569</td>\n",
       "      <td>6.11124</td>\n",
       "      <td>2.963474</td>\n",
       "      <td>3.415488</td>\n",
       "      <td>...</td>\n",
       "      <td>0.0</td>\n",
       "      <td>1.427606</td>\n",
       "      <td>0.0</td>\n",
       "      <td>0.028569</td>\n",
       "      <td>0.028569</td>\n",
       "      <td>0.0</td>\n",
       "      <td>1.124328</td>\n",
       "      <td>2.042644</td>\n",
       "      <td>PSMB2 (5690)</td>\n",
       "      <td>-1.266868</td>\n",
       "    </tr>\n",
       "    <tr>\n",
       "      <th>4</th>\n",
       "      <td>ACH-000233</td>\n",
       "      <td>0.097611</td>\n",
       "      <td>0.0</td>\n",
       "      <td>5.919102</td>\n",
       "      <td>3.983678</td>\n",
       "      <td>3.733354</td>\n",
       "      <td>0.028569</td>\n",
       "      <td>6.11124</td>\n",
       "      <td>2.963474</td>\n",
       "      <td>3.415488</td>\n",
       "      <td>...</td>\n",
       "      <td>0.0</td>\n",
       "      <td>1.427606</td>\n",
       "      <td>0.0</td>\n",
       "      <td>0.028569</td>\n",
       "      <td>0.028569</td>\n",
       "      <td>0.0</td>\n",
       "      <td>1.124328</td>\n",
       "      <td>2.042644</td>\n",
       "      <td>PSMB3 (5691)</td>\n",
       "      <td>-2.250744</td>\n",
       "    </tr>\n",
       "  </tbody>\n",
       "</table>\n",
       "<p>5 rows × 18930 columns</p>\n",
       "</div>"
      ],
      "text/plain": [
       "    DepMap_ID  TSPAN6 (7105)  TNMD (64102)  DPM1 (8813)  SCYL3 (57147)  \\\n",
       "0  ACH-000233       0.097611           0.0     5.919102       3.983678   \n",
       "1  ACH-000233       0.097611           0.0     5.919102       3.983678   \n",
       "2  ACH-000233       0.097611           0.0     5.919102       3.983678   \n",
       "3  ACH-000233       0.097611           0.0     5.919102       3.983678   \n",
       "4  ACH-000233       0.097611           0.0     5.919102       3.983678   \n",
       "\n",
       "   C1orf112 (55732)  FGR (2268)  CFH (3075)  FUCA2 (2519)  GCLC (2729)  ...  \\\n",
       "0          3.733354    0.028569     6.11124      2.963474     3.415488  ...   \n",
       "1          3.733354    0.028569     6.11124      2.963474     3.415488  ...   \n",
       "2          3.733354    0.028569     6.11124      2.963474     3.415488  ...   \n",
       "3          3.733354    0.028569     6.11124      2.963474     3.415488  ...   \n",
       "4          3.733354    0.028569     6.11124      2.963474     3.415488  ...   \n",
       "\n",
       "   PADI6 (353238)  CCL3L3 (414062)  OR13C2 (392376)  DUX4 (100288687)  \\\n",
       "0             0.0         1.427606              0.0          0.028569   \n",
       "1             0.0         1.427606              0.0          0.028569   \n",
       "2             0.0         1.427606              0.0          0.028569   \n",
       "3             0.0         1.427606              0.0          0.028569   \n",
       "4             0.0         1.427606              0.0          0.028569   \n",
       "\n",
       "   LYPD8 (646627)  CCL15 (6359)  MTRNR2L12 (100462981)  ZNF8 (7554)  \\\n",
       "0        0.028569           0.0               1.124328     2.042644   \n",
       "1        0.028569           0.0               1.124328     2.042644   \n",
       "2        0.028569           0.0               1.124328     2.042644   \n",
       "3        0.028569           0.0               1.124328     2.042644   \n",
       "4        0.028569           0.0               1.124328     2.042644   \n",
       "\n",
       "          Knockout  Response  \n",
       "0     PSMB1 (5689) -0.921257  \n",
       "1    PSMB10 (5699) -0.124671  \n",
       "2  PSMB11 (122706)  0.194359  \n",
       "3     PSMB2 (5690) -1.266868  \n",
       "4     PSMB3 (5691) -2.250744  \n",
       "\n",
       "[5 rows x 18930 columns]"
      ]
     },
     "execution_count": 15,
     "metadata": {},
     "output_type": "execute_result"
    }
   ],
   "source": [
    "bortez_df.head()"
   ]
  },
  {
   "cell_type": "code",
   "execution_count": 16,
   "id": "necessary-grain",
   "metadata": {},
   "outputs": [],
   "source": [
    "save_data = False\n",
    "if save_data: \n",
    "    bortez_df.to_csv(os.path.join(data_dir,'bortezomib_crispr_knockout.csv'), index=False)\n",
    "    lenal_df.to_csv(os.path.join(data_dir,'lenalidomide_crispr_knockout.csv'), index=False)"
   ]
  }
 ],
 "metadata": {
  "kernelspec": {
   "display_name": "Python 3",
   "language": "python",
   "name": "python3"
  },
  "language_info": {
   "codemirror_mode": {
    "name": "ipython",
    "version": 3
   },
   "file_extension": ".py",
   "mimetype": "text/x-python",
   "name": "python",
   "nbconvert_exporter": "python",
   "pygments_lexer": "ipython3",
   "version": "3.8.6"
  }
 },
 "nbformat": 4,
 "nbformat_minor": 5
}
