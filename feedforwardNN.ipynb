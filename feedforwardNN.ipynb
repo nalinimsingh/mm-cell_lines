{
 "cells": [
  {
   "cell_type": "markdown",
   "metadata": {
    "heading_collapsed": true
   },
   "source": [
    "# A simple feed forward model"
   ]
  },
  {
   "cell_type": "code",
   "execution_count": 1,
   "metadata": {
    "colab": {},
    "colab_type": "code",
    "hidden": true,
    "id": "Mfd7i8PIBNHk"
   },
   "outputs": [],
   "source": [
    "import numpy as np\n",
    "from matplotlib import pyplot as plt\n",
    "import pandas as pd\n",
    "\n",
    "import os \n",
    "import shutil\n",
    "\n",
    "import copy\n",
    "\n",
    "import tensorflow as tf\n",
    "import tensorflow.keras as K"
   ]
  },
  {
   "cell_type": "markdown",
   "metadata": {
    "hidden": true
   },
   "source": [
    "## Load train and test sets"
   ]
  },
  {
   "cell_type": "code",
   "execution_count": 2,
   "metadata": {
    "hidden": true
   },
   "outputs": [],
   "source": [
    "#place holder data: 100 samples with 5000 genes\n",
    "X_cell_train = np.random.rand(100,5000)*100\n",
    "y_cell_train = X_cell_train.mean(axis=1)+np.random.rand(100,)*10\n"
   ]
  },
  {
   "cell_type": "code",
   "execution_count": 5,
   "metadata": {
    "hidden": true
   },
   "outputs": [],
   "source": [
    "X_cell_test = np.random.rand(10,5000)*100\n",
    "y_cell_test = X_cell_test.mean(axis=1)+np.random.rand(10,)*10\n"
   ]
  },
  {
   "cell_type": "code",
   "execution_count": 14,
   "metadata": {
    "hidden": true
   },
   "outputs": [],
   "source": [
    "#place holder patient data: 50 samples with 5000 genes\n",
    "X_pt_train = np.random.rand(50,5000)*80\n",
    "y_pt_train = X_pt_train.mean(axis=1)+np.random.rand(50,)*40"
   ]
  },
  {
   "cell_type": "code",
   "execution_count": 15,
   "metadata": {
    "hidden": true
   },
   "outputs": [],
   "source": [
    "X_pt_test = np.random.rand(10,5000)*80\n",
    "y_pt_test = X_pt_test.mean(axis=1)+np.random.rand(10,)*40"
   ]
  },
  {
   "cell_type": "markdown",
   "metadata": {
    "heading_collapsed": true
   },
   "source": [
    "# Train NN on cell line"
   ]
  },
  {
   "cell_type": "code",
   "execution_count": 8,
   "metadata": {},
   "outputs": [],
   "source": [
    "# number of genes \n",
    "N = X_cell_train.shape[1]\n",
    "\n",
    "model = K.Sequential([\n",
    "    K.layers.Dropout(0.2, input_shape=(N,)),\n",
    "    K.layers.Dense(1024, activation='relu', kernel_regularizer=K.regularizers.l2(l=0.001)),\n",
    "    K.layers.Dropout(0.5),\n",
    "    K.layers.Dense(128, activation='relu', kernel_regularizer=K.regularizers.l2(l=0.001)),\n",
    "    K.layers.Dropout(0.5),\n",
    "    K.layers.Dense(32, activation='relu', kernel_regularizer=K.regularizers.l2(l=0.001)),\n",
    "    K.layers.Dense(1, kernel_regularizer=K.regularizers.l2(l=0.001))\n",
    "])\n",
    "\n",
    "model.compile(optimizer='adam',\n",
    "              loss=tf.keras.losses.MeanSquaredError(),\n",
    "              metrics=[tf.keras.metrics.RootMeanSquaredError()])"
   ]
  },
  {
   "cell_type": "code",
   "execution_count": 6,
   "metadata": {
    "hidden": true,
    "scrolled": true
   },
   "outputs": [
    {
     "name": "stdout",
     "output_type": "stream",
     "text": [
      "Epoch 1/100\n",
      "4/4 [==============================] - 2s 314ms/step - loss: 455254.0947 - root_mean_squared_error: 626.2181 - val_loss: 15367.1377 - val_root_mean_squared_error: 123.9566\n",
      "Epoch 2/100\n",
      "4/4 [==============================] - 0s 79ms/step - loss: 66801.7883 - root_mean_squared_error: 257.9433 - val_loss: 2430.7690 - val_root_mean_squared_error: 49.2835\n",
      "Epoch 3/100\n",
      "4/4 [==============================] - 0s 83ms/step - loss: 64504.4492 - root_mean_squared_error: 253.8748 - val_loss: 23478.1328 - val_root_mean_squared_error: 153.2195\n",
      "Epoch 4/100\n",
      "4/4 [==============================] - 0s 95ms/step - loss: 68627.7625 - root_mean_squared_error: 261.7113 - val_loss: 496.6357 - val_root_mean_squared_error: 22.2422\n",
      "Epoch 5/100\n",
      "4/4 [==============================] - 0s 80ms/step - loss: 50086.7805 - root_mean_squared_error: 223.7433 - val_loss: 83.0549 - val_root_mean_squared_error: 9.0071\n",
      "Epoch 6/100\n",
      "4/4 [==============================] - 0s 86ms/step - loss: 26568.8789 - root_mean_squared_error: 162.7008 - val_loss: 528.5126 - val_root_mean_squared_error: 22.9473\n",
      "Epoch 7/100\n",
      "4/4 [==============================] - 0s 92ms/step - loss: 21680.5633 - root_mean_squared_error: 146.6993 - val_loss: 299.1647 - val_root_mean_squared_error: 17.2403\n",
      "Epoch 8/100\n",
      "4/4 [==============================] - 0s 86ms/step - loss: 7779.9030 - root_mean_squared_error: 88.1691 - val_loss: 456.7465 - val_root_mean_squared_error: 21.3262\n",
      "Epoch 9/100\n",
      "4/4 [==============================] - 0s 85ms/step - loss: 5595.3665 - root_mean_squared_error: 74.7161 - val_loss: 752.3556 - val_root_mean_squared_error: 27.3936\n",
      "Epoch 10/100\n",
      "4/4 [==============================] - 0s 80ms/step - loss: 6389.4467 - root_mean_squared_error: 79.7173 - val_loss: 888.2762 - val_root_mean_squared_error: 29.7713\n",
      "Epoch 11/100\n",
      "4/4 [==============================] - 0s 82ms/step - loss: 3993.4765 - root_mean_squared_error: 63.1376 - val_loss: 948.3258 - val_root_mean_squared_error: 30.7633\n",
      "Epoch 12/100\n",
      "4/4 [==============================] - 0s 93ms/step - loss: 4280.8524 - root_mean_squared_error: 65.3993 - val_loss: 921.3098 - val_root_mean_squared_error: 30.3210\n",
      "Epoch 13/100\n",
      "4/4 [==============================] - 0s 88ms/step - loss: 3470.1932 - root_mean_squared_error: 58.8548 - val_loss: 720.6512 - val_root_mean_squared_error: 26.8086\n",
      "Epoch 14/100\n",
      "4/4 [==============================] - 0s 94ms/step - loss: 2494.0631 - root_mean_squared_error: 49.7600 - val_loss: 345.7391 - val_root_mean_squared_error: 18.5416\n",
      "Epoch 15/100\n",
      "4/4 [==============================] - 0s 99ms/step - loss: 1704.6617 - root_mean_squared_error: 41.0035 - val_loss: 77.8470 - val_root_mean_squared_error: 8.7119\n",
      "Epoch 16/100\n",
      "4/4 [==============================] - 0s 91ms/step - loss: 1986.8762 - root_mean_squared_error: 44.5428 - val_loss: 15.7957 - val_root_mean_squared_error: 3.7210\n",
      "Epoch 17/100\n",
      "4/4 [==============================] - 0s 86ms/step - loss: 1928.4696 - root_mean_squared_error: 43.8848 - val_loss: 167.3538 - val_root_mean_squared_error: 12.8609\n",
      "Epoch 18/100\n",
      "4/4 [==============================] - 0s 98ms/step - loss: 2339.2153 - root_mean_squared_error: 48.1399 - val_loss: 453.6690 - val_root_mean_squared_error: 21.2537\n",
      "Epoch 19/100\n",
      "4/4 [==============================] - 0s 91ms/step - loss: 2146.4548 - root_mean_squared_error: 46.3000 - val_loss: 635.9112 - val_root_mean_squared_error: 25.1786\n",
      "Epoch 20/100\n",
      "4/4 [==============================] - 0s 80ms/step - loss: 1226.4196 - root_mean_squared_error: 34.9836 - val_loss: 761.5047 - val_root_mean_squared_error: 27.5600\n",
      "Epoch 21/100\n",
      "4/4 [==============================] - 0s 127ms/step - loss: 2550.5102 - root_mean_squared_error: 50.4551 - val_loss: 859.4921 - val_root_mean_squared_error: 29.2838\n",
      "Epoch 22/100\n",
      "4/4 [==============================] - 0s 81ms/step - loss: 1222.9406 - root_mean_squared_error: 34.9407 - val_loss: 649.6613 - val_root_mean_squared_error: 25.4502\n",
      "Epoch 23/100\n",
      "4/4 [==============================] - 0s 125ms/step - loss: 1664.1879 - root_mean_squared_error: 40.6960 - val_loss: 260.7314 - val_root_mean_squared_error: 16.0867\n",
      "Epoch 24/100\n",
      "4/4 [==============================] - 0s 124ms/step - loss: 1621.8452 - root_mean_squared_error: 40.1794 - val_loss: 31.7530 - val_root_mean_squared_error: 5.4592\n",
      "Epoch 25/100\n",
      "4/4 [==============================] - 0s 112ms/step - loss: 1423.1919 - root_mean_squared_error: 37.3837 - val_loss: 73.0951 - val_root_mean_squared_error: 8.4347\n",
      "Epoch 26/100\n",
      "4/4 [==============================] - 0s 81ms/step - loss: 1330.0403 - root_mean_squared_error: 36.4208 - val_loss: 493.5845 - val_root_mean_squared_error: 22.1728\n",
      "Epoch 27/100\n",
      "4/4 [==============================] - 0s 105ms/step - loss: 1072.8036 - root_mean_squared_error: 32.6045 - val_loss: 663.1050 - val_root_mean_squared_error: 25.7129\n",
      "Epoch 28/100\n",
      "4/4 [==============================] - 0s 87ms/step - loss: 1972.2946 - root_mean_squared_error: 44.2108 - val_loss: 555.1381 - val_root_mean_squared_error: 23.5199\n",
      "Epoch 29/100\n",
      "4/4 [==============================] - 0s 120ms/step - loss: 996.5961 - root_mean_squared_error: 31.5139 - val_loss: 380.2488 - val_root_mean_squared_error: 19.4499\n",
      "Epoch 30/100\n",
      "4/4 [==============================] - 0s 102ms/step - loss: 1101.2849 - root_mean_squared_error: 33.1304 - val_loss: 290.4557 - val_root_mean_squared_error: 16.9854\n",
      "Epoch 31/100\n",
      "4/4 [==============================] - 0s 91ms/step - loss: 903.3630 - root_mean_squared_error: 30.0159 - val_loss: 366.4071 - val_root_mean_squared_error: 19.0908\n",
      "Epoch 32/100\n",
      "4/4 [==============================] - 0s 89ms/step - loss: 791.0304 - root_mean_squared_error: 28.0866 - val_loss: 395.5466 - val_root_mean_squared_error: 19.8393\n",
      "Epoch 33/100\n",
      "4/4 [==============================] - 0s 103ms/step - loss: 699.0363 - root_mean_squared_error: 26.3870 - val_loss: 390.3072 - val_root_mean_squared_error: 19.7068\n",
      "Epoch 34/100\n",
      "4/4 [==============================] - 0s 105ms/step - loss: 715.6365 - root_mean_squared_error: 26.4824 - val_loss: 436.0753 - val_root_mean_squared_error: 20.8357\n",
      "Epoch 35/100\n",
      "4/4 [==============================] - 0s 84ms/step - loss: 851.7084 - root_mean_squared_error: 29.1159 - val_loss: 287.9655 - val_root_mean_squared_error: 16.9120\n",
      "Epoch 36/100\n",
      "4/4 [==============================] - 0s 102ms/step - loss: 993.2491 - root_mean_squared_error: 31.3826 - val_loss: 145.6511 - val_root_mean_squared_error: 11.9875\n",
      "Epoch 37/100\n",
      "4/4 [==============================] - 0s 95ms/step - loss: 625.2119 - root_mean_squared_error: 24.9633 - val_loss: 132.2838 - val_root_mean_squared_error: 11.4163\n",
      "Epoch 38/100\n",
      "4/4 [==============================] - 0s 86ms/step - loss: 778.4658 - root_mean_squared_error: 27.8494 - val_loss: 177.0841 - val_root_mean_squared_error: 13.2338\n",
      "Epoch 39/100\n",
      "4/4 [==============================] - 0s 80ms/step - loss: 596.6081 - root_mean_squared_error: 24.3804 - val_loss: 255.0257 - val_root_mean_squared_error: 15.9083\n",
      "Epoch 40/100\n",
      "4/4 [==============================] - 0s 91ms/step - loss: 649.5729 - root_mean_squared_error: 25.3820 - val_loss: 246.9173 - val_root_mean_squared_error: 15.6514\n",
      "Epoch 41/100\n",
      "4/4 [==============================] - 0s 85ms/step - loss: 685.9288 - root_mean_squared_error: 25.9957 - val_loss: 169.1339 - val_root_mean_squared_error: 12.9299\n",
      "Epoch 42/100\n",
      "4/4 [==============================] - 0s 95ms/step - loss: 712.8761 - root_mean_squared_error: 26.5761 - val_loss: 132.1657 - val_root_mean_squared_error: 11.4112\n",
      "Epoch 43/100\n",
      "4/4 [==============================] - 0s 126ms/step - loss: 510.3486 - root_mean_squared_error: 22.5215 - val_loss: 183.0435 - val_root_mean_squared_error: 13.4571\n",
      "Epoch 44/100\n",
      "4/4 [==============================] - 0s 92ms/step - loss: 1274.1731 - root_mean_squared_error: 35.4337 - val_loss: 276.1457 - val_root_mean_squared_error: 16.5588\n",
      "Epoch 45/100\n",
      "4/4 [==============================] - 0s 127ms/step - loss: 647.0582 - root_mean_squared_error: 25.3943 - val_loss: 223.8215 - val_root_mean_squared_error: 14.8953\n",
      "Epoch 46/100\n",
      "4/4 [==============================] - 0s 91ms/step - loss: 586.7256 - root_mean_squared_error: 24.1805 - val_loss: 214.6237 - val_root_mean_squared_error: 14.5833\n",
      "Epoch 47/100\n"
     ]
    },
    {
     "name": "stdout",
     "output_type": "stream",
     "text": [
      "4/4 [==============================] - 0s 93ms/step - loss: 508.5426 - root_mean_squared_error: 22.4761 - val_loss: 130.0868 - val_root_mean_squared_error: 11.3197\n",
      "Epoch 48/100\n",
      "4/4 [==============================] - 0s 91ms/step - loss: 477.2228 - root_mean_squared_error: 21.7081 - val_loss: 153.3488 - val_root_mean_squared_error: 12.3044\n",
      "Epoch 49/100\n",
      "4/4 [==============================] - 0s 82ms/step - loss: 471.7377 - root_mean_squared_error: 21.6638 - val_loss: 138.2433 - val_root_mean_squared_error: 11.6744\n",
      "Epoch 50/100\n",
      "4/4 [==============================] - 0s 101ms/step - loss: 615.2510 - root_mean_squared_error: 24.7199 - val_loss: 124.1088 - val_root_mean_squared_error: 11.0525\n",
      "Epoch 51/100\n",
      "4/4 [==============================] - 0s 84ms/step - loss: 656.2202 - root_mean_squared_error: 25.5770 - val_loss: 210.7405 - val_root_mean_squared_error: 14.4495\n",
      "Epoch 52/100\n",
      "4/4 [==============================] - 0s 82ms/step - loss: 541.3591 - root_mean_squared_error: 23.2173 - val_loss: 197.7516 - val_root_mean_squared_error: 13.9929\n",
      "Epoch 53/100\n",
      "4/4 [==============================] - 0s 82ms/step - loss: 432.8051 - root_mean_squared_error: 20.7426 - val_loss: 104.6267 - val_root_mean_squared_error: 10.1329\n",
      "Epoch 54/100\n",
      "4/4 [==============================] - 0s 97ms/step - loss: 455.3847 - root_mean_squared_error: 21.2633 - val_loss: 131.1436 - val_root_mean_squared_error: 11.3663\n",
      "Epoch 55/100\n",
      "4/4 [==============================] - 0s 76ms/step - loss: 746.1084 - root_mean_squared_error: 27.2726 - val_loss: 251.8262 - val_root_mean_squared_error: 15.8074\n",
      "Epoch 56/100\n",
      "4/4 [==============================] - 0s 81ms/step - loss: 591.3874 - root_mean_squared_error: 24.2021 - val_loss: 193.2326 - val_root_mean_squared_error: 13.8304\n",
      "Epoch 57/100\n",
      "4/4 [==============================] - 0s 83ms/step - loss: 631.6501 - root_mean_squared_error: 25.0133 - val_loss: 78.9045 - val_root_mean_squared_error: 8.7723\n",
      "Epoch 58/100\n",
      "4/4 [==============================] - 0s 88ms/step - loss: 760.5051 - root_mean_squared_error: 27.5225 - val_loss: 76.1915 - val_root_mean_squared_error: 8.6163\n",
      "Epoch 59/100\n",
      "4/4 [==============================] - 0s 88ms/step - loss: 465.4384 - root_mean_squared_error: 21.4339 - val_loss: 157.8776 - val_root_mean_squared_error: 12.4870\n",
      "Epoch 60/100\n",
      "4/4 [==============================] - 0s 89ms/step - loss: 532.8417 - root_mean_squared_error: 22.9833 - val_loss: 173.4551 - val_root_mean_squared_error: 13.0959\n",
      "Epoch 61/100\n",
      "4/4 [==============================] - 0s 83ms/step - loss: 464.9903 - root_mean_squared_error: 21.4927 - val_loss: 126.7087 - val_root_mean_squared_error: 11.1695\n",
      "Epoch 62/100\n",
      "4/4 [==============================] - 0s 86ms/step - loss: 334.5921 - root_mean_squared_error: 18.2364 - val_loss: 55.0765 - val_root_mean_squared_error: 7.2887\n",
      "Epoch 63/100\n",
      "4/4 [==============================] - 0s 86ms/step - loss: 525.7350 - root_mean_squared_error: 22.8783 - val_loss: 46.0147 - val_root_mean_squared_error: 6.6380\n",
      "Epoch 64/100\n",
      "4/4 [==============================] - 0s 76ms/step - loss: 409.8379 - root_mean_squared_error: 20.1811 - val_loss: 35.5027 - val_root_mean_squared_error: 5.7923\n",
      "Epoch 65/100\n",
      "4/4 [==============================] - 0s 84ms/step - loss: 715.6363 - root_mean_squared_error: 26.7028 - val_loss: 130.2664 - val_root_mean_squared_error: 11.3276\n",
      "Epoch 66/100\n",
      "4/4 [==============================] - 0s 77ms/step - loss: 324.1713 - root_mean_squared_error: 17.8990 - val_loss: 243.8353 - val_root_mean_squared_error: 15.5526\n",
      "Epoch 67/100\n",
      "4/4 [==============================] - 0s 82ms/step - loss: 449.1531 - root_mean_squared_error: 21.1162 - val_loss: 70.3064 - val_root_mean_squared_error: 8.2677\n",
      "Epoch 68/100\n",
      "4/4 [==============================] - 0s 93ms/step - loss: 529.8130 - root_mean_squared_error: 22.9417 - val_loss: 7.2223 - val_root_mean_squared_error: 2.2958\n",
      "Epoch 69/100\n",
      "4/4 [==============================] - 0s 108ms/step - loss: 523.5815 - root_mean_squared_error: 22.8303 - val_loss: 80.6941 - val_root_mean_squared_error: 8.8737\n",
      "Epoch 70/100\n",
      "4/4 [==============================] - 0s 89ms/step - loss: 330.9271 - root_mean_squared_error: 18.0721 - val_loss: 284.3618 - val_root_mean_squared_error: 16.8051\n",
      "Epoch 71/100\n",
      "4/4 [==============================] - 0s 85ms/step - loss: 554.7363 - root_mean_squared_error: 23.5021 - val_loss: 195.0873 - val_root_mean_squared_error: 13.8973\n",
      "Epoch 72/100\n",
      "4/4 [==============================] - 0s 112ms/step - loss: 527.0034 - root_mean_squared_error: 22.9044 - val_loss: 37.2275 - val_root_mean_squared_error: 5.9393\n",
      "Epoch 73/100\n",
      "4/4 [==============================] - 0s 91ms/step - loss: 481.0501 - root_mean_squared_error: 21.7816 - val_loss: 8.8717 - val_root_mean_squared_error: 2.6306\n",
      "Epoch 74/100\n",
      "4/4 [==============================] - 0s 94ms/step - loss: 472.6569 - root_mean_squared_error: 21.6942 - val_loss: 157.0877 - val_root_mean_squared_error: 12.4553\n",
      "Epoch 75/100\n",
      "4/4 [==============================] - 0s 96ms/step - loss: 471.3026 - root_mean_squared_error: 21.6513 - val_loss: 204.0057 - val_root_mean_squared_error: 14.2146\n",
      "Epoch 76/100\n",
      "4/4 [==============================] - 0s 83ms/step - loss: 443.9892 - root_mean_squared_error: 21.0188 - val_loss: 129.4466 - val_root_mean_squared_error: 11.2913\n",
      "Epoch 77/100\n",
      "4/4 [==============================] - 0s 88ms/step - loss: 479.4553 - root_mean_squared_error: 21.8408 - val_loss: 102.5960 - val_root_mean_squared_error: 10.0321\n",
      "Epoch 78/100\n",
      "4/4 [==============================] - 0s 83ms/step - loss: 440.2827 - root_mean_squared_error: 20.9239 - val_loss: 156.4553 - val_root_mean_squared_error: 12.4299\n",
      "Epoch 79/100\n",
      "4/4 [==============================] - 0s 83ms/step - loss: 389.2577 - root_mean_squared_error: 19.6658 - val_loss: 77.5174 - val_root_mean_squared_error: 8.6928\n",
      "Epoch 80/100\n",
      "4/4 [==============================] - 0s 77ms/step - loss: 421.4419 - root_mean_squared_error: 20.4794 - val_loss: 92.8140 - val_root_mean_squared_error: 9.5321\n",
      "Epoch 81/100\n",
      "4/4 [==============================] - 0s 116ms/step - loss: 442.8980 - root_mean_squared_error: 20.9927 - val_loss: 192.5898 - val_root_mean_squared_error: 13.8071\n",
      "Epoch 82/100\n",
      "4/4 [==============================] - 0s 114ms/step - loss: 389.1960 - root_mean_squared_error: 19.6378 - val_loss: 41.9699 - val_root_mean_squared_error: 6.3259\n",
      "Epoch 83/100\n",
      "4/4 [==============================] - 0s 84ms/step - loss: 561.0682 - root_mean_squared_error: 23.6252 - val_loss: 9.6108 - val_root_mean_squared_error: 2.7673\n",
      "Epoch 84/100\n",
      "4/4 [==============================] - 0s 103ms/step - loss: 413.0512 - root_mean_squared_error: 20.2645 - val_loss: 65.5801 - val_root_mean_squared_error: 7.9767\n",
      "Epoch 85/100\n",
      "4/4 [==============================] - 0s 90ms/step - loss: 389.3672 - root_mean_squared_error: 19.6760 - val_loss: 134.1407 - val_root_mean_squared_error: 11.4973\n",
      "Epoch 86/100\n",
      "4/4 [==============================] - 0s 79ms/step - loss: 438.1773 - root_mean_squared_error: 20.8722 - val_loss: 29.1439 - val_root_mean_squared_error: 5.2145\n",
      "Epoch 87/100\n",
      "4/4 [==============================] - 0s 79ms/step - loss: 304.6441 - root_mean_squared_error: 17.3866 - val_loss: 23.4118 - val_root_mean_squared_error: 4.6324\n",
      "Epoch 88/100\n",
      "4/4 [==============================] - 0s 109ms/step - loss: 313.2420 - root_mean_squared_error: 17.6190 - val_loss: 122.0711 - val_root_mean_squared_error: 10.9599\n",
      "Epoch 89/100\n",
      "4/4 [==============================] - 0s 108ms/step - loss: 431.9964 - root_mean_squared_error: 20.7358 - val_loss: 140.3418 - val_root_mean_squared_error: 11.7639\n",
      "Epoch 90/100\n",
      "4/4 [==============================] - 0s 85ms/step - loss: 411.1017 - root_mean_squared_error: 20.2201 - val_loss: 34.5184 - val_root_mean_squared_error: 5.7067\n",
      "Epoch 91/100\n",
      "4/4 [==============================] - 0s 83ms/step - loss: 445.5449 - root_mean_squared_error: 21.0566 - val_loss: 8.5844 - val_root_mean_squared_error: 2.5753\n",
      "Epoch 92/100\n",
      "4/4 [==============================] - 0s 88ms/step - loss: 430.7751 - root_mean_squared_error: 20.7017 - val_loss: 152.7867 - val_root_mean_squared_error: 12.2815\n",
      "Epoch 93/100\n"
     ]
    },
    {
     "name": "stdout",
     "output_type": "stream",
     "text": [
      "4/4 [==============================] - 0s 89ms/step - loss: 431.2588 - root_mean_squared_error: 20.6827 - val_loss: 27.2087 - val_root_mean_squared_error: 5.0256\n",
      "Epoch 94/100\n",
      "4/4 [==============================] - 0s 83ms/step - loss: 292.7073 - root_mean_squared_error: 16.9669 - val_loss: 8.1548 - val_root_mean_squared_error: 2.4906\n",
      "Epoch 95/100\n",
      "4/4 [==============================] - 0s 99ms/step - loss: 583.5381 - root_mean_squared_error: 24.1098 - val_loss: 15.6753 - val_root_mean_squared_error: 3.7045\n",
      "Epoch 96/100\n",
      "4/4 [==============================] - 0s 79ms/step - loss: 377.3365 - root_mean_squared_error: 19.3694 - val_loss: 152.9606 - val_root_mean_squared_error: 12.2886\n",
      "Epoch 97/100\n",
      "4/4 [==============================] - 0s 100ms/step - loss: 450.0145 - root_mean_squared_error: 21.0964 - val_loss: 120.1928 - val_root_mean_squared_error: 10.8739\n",
      "Epoch 98/100\n",
      "4/4 [==============================] - 0s 82ms/step - loss: 381.9651 - root_mean_squared_error: 19.4810 - val_loss: 6.6103 - val_root_mean_squared_error: 2.1583\n",
      "Epoch 99/100\n",
      "4/4 [==============================] - 0s 79ms/step - loss: 360.9897 - root_mean_squared_error: 18.9401 - val_loss: 56.0485 - val_root_mean_squared_error: 7.3550\n",
      "Epoch 100/100\n",
      "4/4 [==============================] - 0s 83ms/step - loss: 403.6391 - root_mean_squared_error: 20.0228 - val_loss: 146.1096 - val_root_mean_squared_error: 12.0066\n"
     ]
    }
   ],
   "source": [
    "history = model.fit(X_cell_train, y_cell_train, epochs=100, validation_data=(X_cell_test, y_cell_test))"
   ]
  },
  {
   "cell_type": "markdown",
   "metadata": {},
   "source": [
    "# Eval performance on cell line test set"
   ]
  },
  {
   "cell_type": "code",
   "execution_count": 12,
   "metadata": {
    "hidden": true
   },
   "outputs": [
    {
     "data": {
      "image/png": "[encoded data removed]",
      "text/plain": [
       "<Figure size 1080x720 with 2 Axes>"
      ]
     },
     "metadata": {
      "needs_background": "light"
     },
     "output_type": "display_data"
    }
   ],
   "source": [
    "fig = plt.figure(figsize=(15,10))\n",
    "ax1 = plt.subplot(2,2,1)\n",
    "ax2 = plt.subplot(2,2,2)\n",
    "perf_dict = history.history\n",
    "loss = perf_dict['loss']\n",
    "val_loss = perf_dict['val_loss']\n",
    "ax1.plot(loss)\n",
    "ax2.plot(val_loss)\n",
    "ax1.set_xlabel('epochs')\n",
    "ax2.set_xlabel('epochs')\n",
    "\n",
    "ax1.set_ylabel('loss')\n",
    "ax2.set_ylabel('val_loss')\n",
    "plt.show()"
   ]
  },
  {
   "cell_type": "code",
   "execution_count": 13,
   "metadata": {},
   "outputs": [
    {
     "data": {
      "text/plain": [
       "<matplotlib.collections.PathCollection at 0x7f9cef52f9d0>"
      ]
     },
     "execution_count": 13,
     "metadata": {},
     "output_type": "execute_result"
    },
    {
     "data": {
      "image/png": "[encoded data removed]",
      "text/plain": [
       "<Figure size 432x288 with 1 Axes>"
      ]
     },
     "metadata": {
      "needs_background": "light"
     },
     "output_type": "display_data"
    }
   ],
   "source": [
    "plt.scatter(y_cell_test,model.predict(X_cell_test))"
   ]
  },
  {
   "cell_type": "markdown",
   "metadata": {},
   "source": [
    "# Feature transfer patient data\n",
    "Freeze network except the last layer, then train on patient data"
   ]
  },
  {
   "cell_type": "code",
   "execution_count": 10,
   "metadata": {},
   "outputs": [
    {
     "name": "stdout",
     "output_type": "stream",
     "text": [
      "Model: \"sequential_1\"\n",
      "_________________________________________________________________\n",
      "Layer (type)                 Output Shape              Param #   \n",
      "=================================================================\n",
      "dropout_3 (Dropout)          (None, 5000)              0         \n",
      "_________________________________________________________________\n",
      "dense_3 (Dense)              (None, 1024)              5121024   \n",
      "_________________________________________________________________\n",
      "dropout_4 (Dropout)          (None, 1024)              0         \n",
      "_________________________________________________________________\n",
      "dense_4 (Dense)              (None, 128)               131200    \n",
      "_________________________________________________________________\n",
      "dropout_5 (Dropout)          (None, 128)               0         \n",
      "_________________________________________________________________\n",
      "dense_5 (Dense)              (None, 32)                4128      \n",
      "_________________________________________________________________\n",
      "dense_6 (Dense)              (None, 1)                 33        \n",
      "=================================================================\n",
      "Total params: 5,256,385\n",
      "Trainable params: 5,256,385\n",
      "Non-trainable params: 0\n",
      "_________________________________________________________________\n"
     ]
    }
   ],
   "source": [
    "model.summary()"
   ]
  },
  {
   "cell_type": "code",
   "execution_count": 11,
   "metadata": {},
   "outputs": [
    {
     "data": {
      "text/html": [
       "<div>\n",
       "<style scoped>\n",
       "    .dataframe tbody tr th:only-of-type {\n",
       "        vertical-align: middle;\n",
       "    }\n",
       "\n",
       "    .dataframe tbody tr th {\n",
       "        vertical-align: top;\n",
       "    }\n",
       "\n",
       "    .dataframe thead th {\n",
       "        text-align: right;\n",
       "    }\n",
       "</style>\n",
       "<table border=\"1\" class=\"dataframe\">\n",
       "  <thead>\n",
       "    <tr style=\"text-align: right;\">\n",
       "      <th></th>\n",
       "      <th>Layer Type</th>\n",
       "      <th>Layer Name</th>\n",
       "      <th>Layer Trainable</th>\n",
       "    </tr>\n",
       "  </thead>\n",
       "  <tbody>\n",
       "    <tr>\n",
       "      <th>0</th>\n",
       "      <td>&lt;tensorflow.python.keras.layers.core.Dropout o...</td>\n",
       "      <td>dropout_3</td>\n",
       "      <td>False</td>\n",
       "    </tr>\n",
       "    <tr>\n",
       "      <th>1</th>\n",
       "      <td>&lt;tensorflow.python.keras.layers.core.Dense obj...</td>\n",
       "      <td>dense_3</td>\n",
       "      <td>False</td>\n",
       "    </tr>\n",
       "    <tr>\n",
       "      <th>2</th>\n",
       "      <td>&lt;tensorflow.python.keras.layers.core.Dropout o...</td>\n",
       "      <td>dropout_4</td>\n",
       "      <td>False</td>\n",
       "    </tr>\n",
       "    <tr>\n",
       "      <th>3</th>\n",
       "      <td>&lt;tensorflow.python.keras.layers.core.Dense obj...</td>\n",
       "      <td>dense_4</td>\n",
       "      <td>False</td>\n",
       "    </tr>\n",
       "    <tr>\n",
       "      <th>4</th>\n",
       "      <td>&lt;tensorflow.python.keras.layers.core.Dropout o...</td>\n",
       "      <td>dropout_5</td>\n",
       "      <td>False</td>\n",
       "    </tr>\n",
       "    <tr>\n",
       "      <th>5</th>\n",
       "      <td>&lt;tensorflow.python.keras.layers.core.Dense obj...</td>\n",
       "      <td>dense_5</td>\n",
       "      <td>False</td>\n",
       "    </tr>\n",
       "    <tr>\n",
       "      <th>6</th>\n",
       "      <td>&lt;tensorflow.python.keras.layers.core.Dense obj...</td>\n",
       "      <td>dense_6</td>\n",
       "      <td>True</td>\n",
       "    </tr>\n",
       "  </tbody>\n",
       "</table>\n",
       "</div>"
      ],
      "text/plain": [
       "                                          Layer Type Layer Name  \\\n",
       "0  <tensorflow.python.keras.layers.core.Dropout o...  dropout_3   \n",
       "1  <tensorflow.python.keras.layers.core.Dense obj...    dense_3   \n",
       "2  <tensorflow.python.keras.layers.core.Dropout o...  dropout_4   \n",
       "3  <tensorflow.python.keras.layers.core.Dense obj...    dense_4   \n",
       "4  <tensorflow.python.keras.layers.core.Dropout o...  dropout_5   \n",
       "5  <tensorflow.python.keras.layers.core.Dense obj...    dense_5   \n",
       "6  <tensorflow.python.keras.layers.core.Dense obj...    dense_6   \n",
       "\n",
       "   Layer Trainable  \n",
       "0            False  \n",
       "1            False  \n",
       "2            False  \n",
       "3            False  \n",
       "4            False  \n",
       "5            False  \n",
       "6             True  "
      ]
     },
     "execution_count": 11,
     "metadata": {},
     "output_type": "execute_result"
    }
   ],
   "source": [
    "model.trainable = False\n",
    "model.layers[-1].trainable = True\n",
    "\n",
    "layers = [(layer, layer.name, layer.trainable) for layer in model.layers]\n",
    "pd.DataFrame(layers, columns=['Layer Type', 'Layer Name', 'Layer Trainable'])      "
   ]
  },
  {
   "cell_type": "code",
   "execution_count": 16,
   "metadata": {},
   "outputs": [
    {
     "name": "stdout",
     "output_type": "stream",
     "text": [
      "Epoch 1/100\n",
      "2/2 [==============================] - 1s 340ms/step - loss: 8341.6136 - root_mean_squared_error: 90.8768 - val_loss: 196871.7812 - val_root_mean_squared_error: 443.7002\n",
      "Epoch 2/100\n",
      "2/2 [==============================] - 0s 142ms/step - loss: 241161.6979 - root_mean_squared_error: 488.8926 - val_loss: 37863.6953 - val_root_mean_squared_error: 194.5810\n",
      "Epoch 3/100\n",
      "2/2 [==============================] - 0s 119ms/step - loss: 45642.4870 - root_mean_squared_error: 213.6315 - val_loss: 3434.3918 - val_root_mean_squared_error: 58.5871\n",
      "Epoch 4/100\n",
      "2/2 [==============================] - 0s 119ms/step - loss: 35564.2487 - root_mean_squared_error: 188.5789 - val_loss: 3160.7910 - val_root_mean_squared_error: 56.2036\n",
      "Epoch 5/100\n",
      "2/2 [==============================] - 0s 143ms/step - loss: 30382.0703 - root_mean_squared_error: 173.9869 - val_loss: 6553.4961 - val_root_mean_squared_error: 80.9417\n",
      "Epoch 6/100\n",
      "2/2 [==============================] - 0s 135ms/step - loss: 30973.2083 - root_mean_squared_error: 175.8287 - val_loss: 5039.9985 - val_root_mean_squared_error: 70.9792\n",
      "Epoch 7/100\n",
      "2/2 [==============================] - 0s 119ms/step - loss: 22533.3685 - root_mean_squared_error: 150.0827 - val_loss: 4407.1826 - val_root_mean_squared_error: 66.3719\n",
      "Epoch 8/100\n",
      "2/2 [==============================] - 0s 112ms/step - loss: 16512.7285 - root_mean_squared_error: 128.4517 - val_loss: 3163.1289 - val_root_mean_squared_error: 56.2243\n",
      "Epoch 9/100\n",
      "2/2 [==============================] - 0s 136ms/step - loss: 11369.1113 - root_mean_squared_error: 106.5846 - val_loss: 1778.1989 - val_root_mean_squared_error: 42.1455\n",
      "Epoch 10/100\n",
      "2/2 [==============================] - 0s 163ms/step - loss: 11277.0511 - root_mean_squared_error: 106.1091 - val_loss: 986.7067 - val_root_mean_squared_error: 31.3807\n",
      "Epoch 11/100\n",
      "2/2 [==============================] - 0s 145ms/step - loss: 12617.2376 - root_mean_squared_error: 112.2777 - val_loss: 736.7757 - val_root_mean_squared_error: 27.1075\n",
      "Epoch 12/100\n",
      "2/2 [==============================] - 0s 151ms/step - loss: 12021.6748 - root_mean_squared_error: 109.6190 - val_loss: 514.3375 - val_root_mean_squared_error: 22.6357\n",
      "Epoch 13/100\n",
      "2/2 [==============================] - 0s 121ms/step - loss: 12159.8682 - root_mean_squared_error: 110.2199 - val_loss: 642.4541 - val_root_mean_squared_error: 25.3079\n",
      "Epoch 14/100\n",
      "2/2 [==============================] - 0s 125ms/step - loss: 8312.0817 - root_mean_squared_error: 91.1445 - val_loss: 655.2059 - val_root_mean_squared_error: 25.5585\n",
      "Epoch 15/100\n",
      "2/2 [==============================] - 0s 121ms/step - loss: 6802.3503 - root_mean_squared_error: 82.3235 - val_loss: 695.0168 - val_root_mean_squared_error: 26.3258\n",
      "Epoch 16/100\n",
      "2/2 [==============================] - 0s 122ms/step - loss: 5766.9268 - root_mean_squared_error: 75.8927 - val_loss: 686.3819 - val_root_mean_squared_error: 26.1613\n",
      "Epoch 17/100\n",
      "2/2 [==============================] - 0s 153ms/step - loss: 3875.5452 - root_mean_squared_error: 62.1945 - val_loss: 511.9654 - val_root_mean_squared_error: 22.5830\n",
      "Epoch 18/100\n",
      "2/2 [==============================] - 0s 140ms/step - loss: 2856.1192 - root_mean_squared_error: 53.2938 - val_loss: 407.2206 - val_root_mean_squared_error: 20.1308\n",
      "Epoch 19/100\n",
      "2/2 [==============================] - 0s 116ms/step - loss: 5723.6367 - root_mean_squared_error: 75.6140 - val_loss: 463.4940 - val_root_mean_squared_error: 21.4830\n",
      "Epoch 20/100\n",
      "2/2 [==============================] - 0s 125ms/step - loss: 3310.0264 - root_mean_squared_error: 57.4484 - val_loss: 847.5372 - val_root_mean_squared_error: 29.0786\n",
      "Epoch 21/100\n",
      "2/2 [==============================] - 0s 127ms/step - loss: 2951.0832 - root_mean_squared_error: 54.2977 - val_loss: 896.6105 - val_root_mean_squared_error: 29.9105\n",
      "Epoch 22/100\n",
      "2/2 [==============================] - 0s 111ms/step - loss: 4393.6437 - root_mean_squared_error: 66.2510 - val_loss: 842.7004 - val_root_mean_squared_error: 28.9953\n",
      "Epoch 23/100\n",
      "2/2 [==============================] - 0s 114ms/step - loss: 3878.4925 - root_mean_squared_error: 62.2090 - val_loss: 710.1316 - val_root_mean_squared_error: 26.6112\n",
      "Epoch 24/100\n",
      "2/2 [==============================] - 0s 113ms/step - loss: 1798.7166 - root_mean_squared_error: 42.3514 - val_loss: 605.0385 - val_root_mean_squared_error: 24.5573\n",
      "Epoch 25/100\n",
      "2/2 [==============================] - 0s 116ms/step - loss: 3446.6371 - root_mean_squared_error: 58.6789 - val_loss: 477.9700 - val_root_mean_squared_error: 21.8173\n",
      "Epoch 26/100\n",
      "2/2 [==============================] - 0s 124ms/step - loss: 3178.7319 - root_mean_squared_error: 56.2222 - val_loss: 326.6783 - val_root_mean_squared_error: 18.0195\n",
      "Epoch 27/100\n",
      "2/2 [==============================] - 0s 157ms/step - loss: 2085.4685 - root_mean_squared_error: 45.6416 - val_loss: 241.3140 - val_root_mean_squared_error: 15.4705\n",
      "Epoch 28/100\n",
      "2/2 [==============================] - 0s 143ms/step - loss: 2848.3515 - root_mean_squared_error: 53.3240 - val_loss: 208.5163 - val_root_mean_squared_error: 14.3715\n",
      "Epoch 29/100\n",
      "2/2 [==============================] - 0s 157ms/step - loss: 1929.6859 - root_mean_squared_error: 43.8852 - val_loss: 190.2045 - val_root_mean_squared_error: 13.7196\n",
      "Epoch 30/100\n",
      "2/2 [==============================] - 0s 148ms/step - loss: 2635.9119 - root_mean_squared_error: 51.2645 - val_loss: 192.7173 - val_root_mean_squared_error: 13.8109\n",
      "Epoch 31/100\n",
      "2/2 [==============================] - 0s 149ms/step - loss: 2523.6816 - root_mean_squared_error: 50.2154 - val_loss: 201.7685 - val_root_mean_squared_error: 14.1348\n",
      "Epoch 32/100\n",
      "2/2 [==============================] - 0s 137ms/step - loss: 2049.9131 - root_mean_squared_error: 45.1777 - val_loss: 212.5193 - val_root_mean_squared_error: 14.5101\n",
      "Epoch 33/100\n",
      "2/2 [==============================] - 0s 159ms/step - loss: 1677.4099 - root_mean_squared_error: 40.8752 - val_loss: 216.3789 - val_root_mean_squared_error: 14.6425\n",
      "Epoch 34/100\n",
      "2/2 [==============================] - 0s 122ms/step - loss: 1807.1073 - root_mean_squared_error: 42.4347 - val_loss: 209.9483 - val_root_mean_squared_error: 14.4212\n",
      "Epoch 35/100\n",
      "2/2 [==============================] - 0s 154ms/step - loss: 1877.8475 - root_mean_squared_error: 43.3099 - val_loss: 212.4741 - val_root_mean_squared_error: 14.5085\n",
      "Epoch 36/100\n",
      "2/2 [==============================] - 0s 139ms/step - loss: 1805.8384 - root_mean_squared_error: 42.4690 - val_loss: 219.3986 - val_root_mean_squared_error: 14.7452\n",
      "Epoch 37/100\n",
      "2/2 [==============================] - 0s 135ms/step - loss: 1064.3397 - root_mean_squared_error: 32.5938 - val_loss: 244.7962 - val_root_mean_squared_error: 15.5827\n",
      "Epoch 38/100\n",
      "2/2 [==============================] - 0s 127ms/step - loss: 1472.5129 - root_mean_squared_error: 38.3290 - val_loss: 253.1370 - val_root_mean_squared_error: 15.8480\n",
      "Epoch 39/100\n",
      "2/2 [==============================] - 0s 151ms/step - loss: 1342.0427 - root_mean_squared_error: 36.6034 - val_loss: 287.9855 - val_root_mean_squared_error: 16.9118\n",
      "Epoch 40/100\n",
      "2/2 [==============================] - 0s 117ms/step - loss: 1486.2799 - root_mean_squared_error: 38.5265 - val_loss: 330.5593 - val_root_mean_squared_error: 18.1269\n",
      "Epoch 41/100\n",
      "2/2 [==============================] - 0s 136ms/step - loss: 984.2450 - root_mean_squared_error: 31.3392 - val_loss: 367.6211 - val_root_mean_squared_error: 19.1218\n",
      "Epoch 42/100\n",
      "2/2 [==============================] - 0s 154ms/step - loss: 878.2875 - root_mean_squared_error: 29.4721 - val_loss: 395.2056 - val_root_mean_squared_error: 19.8300\n",
      "Epoch 43/100\n",
      "2/2 [==============================] - 0s 120ms/step - loss: 985.2248 - root_mean_squared_error: 31.3398 - val_loss: 410.3681 - val_root_mean_squared_error: 20.2087\n",
      "Epoch 44/100\n",
      "2/2 [==============================] - 0s 119ms/step - loss: 1334.6018 - root_mean_squared_error: 36.4849 - val_loss: 426.3599 - val_root_mean_squared_error: 20.6006\n",
      "Epoch 45/100\n",
      "2/2 [==============================] - 0s 141ms/step - loss: 907.0753 - root_mean_squared_error: 30.0651 - val_loss: 468.7864 - val_root_mean_squared_error: 21.6058\n",
      "Epoch 46/100\n",
      "2/2 [==============================] - 0s 144ms/step - loss: 839.3115 - root_mean_squared_error: 28.9360 - val_loss: 525.3482 - val_root_mean_squared_error: 22.8773\n"
     ]
    },
    {
     "name": "stdout",
     "output_type": "stream",
     "text": [
      "Epoch 47/100\n",
      "2/2 [==============================] - 0s 114ms/step - loss: 983.2045 - root_mean_squared_error: 31.2715 - val_loss: 582.7436 - val_root_mean_squared_error: 24.0991\n",
      "Epoch 48/100\n",
      "2/2 [==============================] - 0s 145ms/step - loss: 1154.4702 - root_mean_squared_error: 33.9483 - val_loss: 663.7257 - val_root_mean_squared_error: 25.7245\n",
      "Epoch 49/100\n",
      "2/2 [==============================] - 0s 148ms/step - loss: 1185.9080 - root_mean_squared_error: 34.3919 - val_loss: 744.7966 - val_root_mean_squared_error: 27.2547\n",
      "Epoch 50/100\n",
      "2/2 [==============================] - 0s 123ms/step - loss: 1001.8069 - root_mean_squared_error: 31.6140 - val_loss: 758.9801 - val_root_mean_squared_error: 27.5137\n",
      "Epoch 51/100\n",
      "2/2 [==============================] - 0s 233ms/step - loss: 1190.7305 - root_mean_squared_error: 34.4719 - val_loss: 754.9266 - val_root_mean_squared_error: 27.4400\n",
      "Epoch 52/100\n",
      "2/2 [==============================] - 0s 140ms/step - loss: 1013.6923 - root_mean_squared_error: 31.8074 - val_loss: 771.9130 - val_root_mean_squared_error: 27.7477\n",
      "Epoch 53/100\n",
      "2/2 [==============================] - 0s 138ms/step - loss: 994.8012 - root_mean_squared_error: 31.5068 - val_loss: 799.8469 - val_root_mean_squared_error: 28.2466\n",
      "Epoch 54/100\n",
      "2/2 [==============================] - 0s 116ms/step - loss: 438.3212 - root_mean_squared_error: 20.8820 - val_loss: 800.2737 - val_root_mean_squared_error: 28.2542\n",
      "Epoch 55/100\n",
      "2/2 [==============================] - 0s 195ms/step - loss: 919.9246 - root_mean_squared_error: 30.2614 - val_loss: 802.5873 - val_root_mean_squared_error: 28.2951\n",
      "Epoch 56/100\n",
      "2/2 [==============================] - 0s 127ms/step - loss: 1018.6348 - root_mean_squared_error: 31.8346 - val_loss: 830.9797 - val_root_mean_squared_error: 28.7924\n",
      "Epoch 57/100\n",
      "2/2 [==============================] - 0s 129ms/step - loss: 695.2127 - root_mean_squared_error: 26.3289 - val_loss: 887.2432 - val_root_mean_squared_error: 29.7535\n",
      "Epoch 58/100\n",
      "2/2 [==============================] - 0s 155ms/step - loss: 490.7831 - root_mean_squared_error: 22.1064 - val_loss: 908.8939 - val_root_mean_squared_error: 30.1151\n",
      "Epoch 59/100\n",
      "2/2 [==============================] - 0s 123ms/step - loss: 659.6814 - root_mean_squared_error: 25.6310 - val_loss: 916.3796 - val_root_mean_squared_error: 30.2391\n",
      "Epoch 60/100\n",
      "2/2 [==============================] - 0s 130ms/step - loss: 772.9543 - root_mean_squared_error: 27.7561 - val_loss: 933.3777 - val_root_mean_squared_error: 30.5189\n",
      "Epoch 61/100\n",
      "2/2 [==============================] - 0s 128ms/step - loss: 953.8398 - root_mean_squared_error: 30.8439 - val_loss: 927.4764 - val_root_mean_squared_error: 30.4221\n",
      "Epoch 62/100\n",
      "2/2 [==============================] - 0s 110ms/step - loss: 1171.0361 - root_mean_squared_error: 34.1689 - val_loss: 902.9049 - val_root_mean_squared_error: 30.0155\n",
      "Epoch 63/100\n",
      "2/2 [==============================] - 0s 114ms/step - loss: 856.7479 - root_mean_squared_error: 29.2217 - val_loss: 866.8160 - val_root_mean_squared_error: 29.4082\n",
      "Epoch 64/100\n",
      "2/2 [==============================] - 0s 132ms/step - loss: 695.9772 - root_mean_squared_error: 26.3410 - val_loss: 817.5908 - val_root_mean_squared_error: 28.5590\n",
      "Epoch 65/100\n",
      "2/2 [==============================] - 0s 118ms/step - loss: 574.1878 - root_mean_squared_error: 23.9171 - val_loss: 776.9383 - val_root_mean_squared_error: 27.8382\n",
      "Epoch 66/100\n",
      "2/2 [==============================] - 0s 115ms/step - loss: 781.6943 - root_mean_squared_error: 27.9150 - val_loss: 776.5865 - val_root_mean_squared_error: 27.8318\n",
      "Epoch 67/100\n",
      "2/2 [==============================] - 0s 112ms/step - loss: 753.2502 - root_mean_squared_error: 27.3778 - val_loss: 801.3132 - val_root_mean_squared_error: 28.2726\n",
      "Epoch 68/100\n",
      "2/2 [==============================] - 0s 101ms/step - loss: 586.9013 - root_mean_squared_error: 24.1760 - val_loss: 855.4880 - val_root_mean_squared_error: 29.2149\n",
      "Epoch 69/100\n",
      "2/2 [==============================] - 0s 109ms/step - loss: 866.7419 - root_mean_squared_error: 29.3850 - val_loss: 889.8448 - val_root_mean_squared_error: 29.7971\n",
      "Epoch 70/100\n",
      "2/2 [==============================] - 0s 109ms/step - loss: 571.0327 - root_mean_squared_error: 23.8549 - val_loss: 939.1632 - val_root_mean_squared_error: 30.6135\n",
      "Epoch 71/100\n",
      "2/2 [==============================] - 0s 116ms/step - loss: 860.7546 - root_mean_squared_error: 29.2818 - val_loss: 967.7596 - val_root_mean_squared_error: 31.0771\n",
      "Epoch 72/100\n",
      "2/2 [==============================] - 0s 106ms/step - loss: 698.2335 - root_mean_squared_error: 26.3811 - val_loss: 977.7085 - val_root_mean_squared_error: 31.2367\n",
      "Epoch 73/100\n",
      "2/2 [==============================] - 0s 105ms/step - loss: 567.9550 - root_mean_squared_error: 23.7852 - val_loss: 956.5148 - val_root_mean_squared_error: 30.8956\n",
      "Epoch 74/100\n",
      "2/2 [==============================] - 0s 142ms/step - loss: 642.6346 - root_mean_squared_error: 25.3110 - val_loss: 903.8040 - val_root_mean_squared_error: 30.0305\n",
      "Epoch 75/100\n",
      "2/2 [==============================] - 0s 125ms/step - loss: 864.6415 - root_mean_squared_error: 29.3602 - val_loss: 810.3493 - val_root_mean_squared_error: 28.4319\n",
      "Epoch 76/100\n",
      "2/2 [==============================] - 0s 137ms/step - loss: 692.3084 - root_mean_squared_error: 26.1671 - val_loss: 745.0248 - val_root_mean_squared_error: 27.2590\n",
      "Epoch 77/100\n",
      "2/2 [==============================] - 0s 114ms/step - loss: 615.8903 - root_mean_squared_error: 24.7680 - val_loss: 709.3398 - val_root_mean_squared_error: 26.5963\n",
      "Epoch 78/100\n",
      "2/2 [==============================] - 0s 106ms/step - loss: 963.2456 - root_mean_squared_error: 30.9370 - val_loss: 730.1250 - val_root_mean_squared_error: 26.9843\n",
      "Epoch 79/100\n",
      "2/2 [==============================] - 0s 118ms/step - loss: 885.5850 - root_mean_squared_error: 29.7220 - val_loss: 752.3980 - val_root_mean_squared_error: 27.3939\n",
      "Epoch 80/100\n",
      "2/2 [==============================] - 0s 119ms/step - loss: 786.3791 - root_mean_squared_error: 27.9919 - val_loss: 791.4044 - val_root_mean_squared_error: 28.0968\n",
      "Epoch 81/100\n",
      "2/2 [==============================] - 0s 110ms/step - loss: 656.7930 - root_mean_squared_error: 25.5887 - val_loss: 825.9069 - val_root_mean_squared_error: 28.7042\n",
      "Epoch 82/100\n",
      "2/2 [==============================] - 0s 111ms/step - loss: 893.9688 - root_mean_squared_error: 29.8604 - val_loss: 869.4855 - val_root_mean_squared_error: 29.4535\n",
      "Epoch 83/100\n",
      "2/2 [==============================] - 0s 109ms/step - loss: 1153.0703 - root_mean_squared_error: 33.9253 - val_loss: 912.5002 - val_root_mean_squared_error: 30.1749\n",
      "Epoch 84/100\n",
      "2/2 [==============================] - 0s 104ms/step - loss: 695.3437 - root_mean_squared_error: 26.3179 - val_loss: 946.7723 - val_root_mean_squared_error: 30.7376\n",
      "Epoch 85/100\n",
      "2/2 [==============================] - 0s 123ms/step - loss: 554.5291 - root_mean_squared_error: 23.5065 - val_loss: 961.3522 - val_root_mean_squared_error: 30.9738\n",
      "Epoch 86/100\n",
      "2/2 [==============================] - 0s 224ms/step - loss: 690.3412 - root_mean_squared_error: 26.2314 - val_loss: 952.9245 - val_root_mean_squared_error: 30.8375\n",
      "Epoch 87/100\n",
      "2/2 [==============================] - 0s 249ms/step - loss: 637.8281 - root_mean_squared_error: 25.1273 - val_loss: 953.2080 - val_root_mean_squared_error: 30.8421\n",
      "Epoch 88/100\n",
      "2/2 [==============================] - 0s 173ms/step - loss: 712.1726 - root_mean_squared_error: 26.6485 - val_loss: 938.7565 - val_root_mean_squared_error: 30.6069\n",
      "Epoch 89/100\n",
      "2/2 [==============================] - 0s 157ms/step - loss: 669.8326 - root_mean_squared_error: 25.8224 - val_loss: 900.5028 - val_root_mean_squared_error: 29.9755\n",
      "Epoch 90/100\n",
      "2/2 [==============================] - 0s 124ms/step - loss: 536.3793 - root_mean_squared_error: 23.1124 - val_loss: 836.2645 - val_root_mean_squared_error: 28.8841\n",
      "Epoch 91/100\n",
      "2/2 [==============================] - 0s 140ms/step - loss: 633.9533 - root_mean_squared_error: 25.1301 - val_loss: 781.1719 - val_root_mean_squared_error: 27.9141\n",
      "Epoch 92/100\n",
      "2/2 [==============================] - 0s 113ms/step - loss: 636.4539 - root_mean_squared_error: 25.1677 - val_loss: 747.4745 - val_root_mean_squared_error: 27.3039\n"
     ]
    },
    {
     "name": "stdout",
     "output_type": "stream",
     "text": [
      "Epoch 93/100\n",
      "2/2 [==============================] - 0s 131ms/step - loss: 665.7370 - root_mean_squared_error: 25.7571 - val_loss: 721.4131 - val_root_mean_squared_error: 26.8224\n",
      "Epoch 94/100\n",
      "2/2 [==============================] - 0s 108ms/step - loss: 813.6643 - root_mean_squared_error: 28.4843 - val_loss: 700.7407 - val_root_mean_squared_error: 26.4342\n",
      "Epoch 95/100\n",
      "2/2 [==============================] - 0s 117ms/step - loss: 802.2664 - root_mean_squared_error: 28.2876 - val_loss: 678.8312 - val_root_mean_squared_error: 26.0165\n",
      "Epoch 96/100\n",
      "2/2 [==============================] - 0s 141ms/step - loss: 1000.0700 - root_mean_squared_error: 31.5554 - val_loss: 700.8516 - val_root_mean_squared_error: 26.4363\n",
      "Epoch 97/100\n",
      "2/2 [==============================] - 0s 121ms/step - loss: 602.3001 - root_mean_squared_error: 24.4853 - val_loss: 723.7021 - val_root_mean_squared_error: 26.8650\n",
      "Epoch 98/100\n",
      "2/2 [==============================] - 0s 129ms/step - loss: 558.7613 - root_mean_squared_error: 23.5182 - val_loss: 744.4570 - val_root_mean_squared_error: 27.2486\n",
      "Epoch 99/100\n",
      "2/2 [==============================] - 0s 122ms/step - loss: 743.2213 - root_mean_squared_error: 27.2245 - val_loss: 760.1323 - val_root_mean_squared_error: 27.5347\n",
      "Epoch 100/100\n",
      "2/2 [==============================] - 0s 132ms/step - loss: 571.7681 - root_mean_squared_error: 23.8641 - val_loss: 756.1827 - val_root_mean_squared_error: 27.4629\n"
     ]
    }
   ],
   "source": [
    "history_pt = model.fit(X_pt_train, y_pt_train, epochs=100, validation_data=(X_pt_test, y_pt_test))"
   ]
  },
  {
   "cell_type": "code",
   "execution_count": 17,
   "metadata": {},
   "outputs": [
    {
     "data": {
      "text/plain": [
       "<matplotlib.collections.PathCollection at 0x7f9cf2663790>"
      ]
     },
     "execution_count": 17,
     "metadata": {},
     "output_type": "execute_result"
    },
    {
     "data": {
      "image/png": "[encoded data removed]",
      "text/plain": [
       "<Figure size 432x288 with 1 Axes>"
      ]
     },
     "metadata": {
      "needs_background": "light"
     },
     "output_type": "display_data"
    }
   ],
   "source": [
    "plt.scatter(y_pt_test,model.predict(X_pt_test))"
   ]
  },
  {
   "cell_type": "markdown",
   "metadata": {},
   "source": [
    "# Save model"
   ]
  },
  {
   "cell_type": "code",
   "execution_count": null,
   "metadata": {
    "hidden": true
   },
   "outputs": [],
   "source": [
    "model = K.models.load_model(model_dir)"
   ]
  },
  {
   "cell_type": "code",
   "execution_count": null,
   "metadata": {
    "hidden": true
   },
   "outputs": [],
   "source": [
    "model_dir = os.path.join('6.871models', 'simpleNN042721')\n",
    "shutil.rmtree(model_dir)\n",
    "model.save(model_dir)\n"
   ]
  }
 ],
 "metadata": {
  "kernelspec": {
   "display_name": "Python 3",
   "language": "python",
   "name": "python3"
  },
  "language_info": {
   "codemirror_mode": {
    "name": "ipython",
    "version": 3
   },
   "file_extension": ".py",
   "mimetype": "text/x-python",
   "name": "python",
   "nbconvert_exporter": "python",
   "pygments_lexer": "ipython3",
   "version": "3.8.8"
  },
  "toc": {
   "base_numbering": 1,
   "nav_menu": {
    "height": "236px",
    "width": "368px"
   },
   "number_sections": true,
   "sideBar": true,
   "skip_h1_title": false,
   "title_cell": "Table of Contents",
   "title_sidebar": "Contents",
   "toc_cell": false,
   "toc_position": {},
   "toc_section_display": true,
   "toc_window_display": false
  }
 },
 "nbformat": 4,
 "nbformat_minor": 4
}
