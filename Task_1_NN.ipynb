{
  "nbformat": 4,
  "nbformat_minor": 0,
  "metadata": {
    "colab": {
      "name": "Task 1 NN.ipynb",
      "provenance": []
    },
    "kernelspec": {
      "name": "python3",
      "display_name": "Python 3"
    },
    "language_info": {
      "name": "python"
    }
  },
  "cells": [
    {
      "cell_type": "code",
      "metadata": {
        "id": "Dl5gEjZlpx9L",
        "colab": {
          "base_uri": "https://localhost:8080/"
        },
        "outputId": "67ea1fed-e64b-474a-9f1d-ecab1e6eaa90"
      },
      "source": [
        "from google.colab import drive\n",
        "import os\n",
        "import pandas as pd\n",
        "from sklearn.model_selection import train_test_split\n",
        "import tensorflow as tf\n",
        "!pip install -q -U keras-tuner\n",
        "from kerastuner import HyperModel\n",
        "from keras import models, layers,regularizers\n",
        "from tensorflow.keras.optimizers import Adam\n",
        "from kerastuner.tuners.bayesian import BayesianOptimization\n",
        "from tqdm import tqdm\n",
        "import numpy as np"
      ],
      "execution_count": 1,
      "outputs": [
        {
          "output_type": "stream",
          "text": [
            "\u001b[?25l\r\u001b[K     |█████▏                          | 10kB 15.5MB/s eta 0:00:01\r\u001b[K     |██████████▍                     | 20kB 13.4MB/s eta 0:00:01\r\u001b[K     |███████████████▋                | 30kB 6.8MB/s eta 0:00:01\r\u001b[K     |████████████████████▉           | 40kB 6.4MB/s eta 0:00:01\r\u001b[K     |██████████████████████████      | 51kB 5.0MB/s eta 0:00:01\r\u001b[K     |███████████████████████████████▎| 61kB 5.7MB/s eta 0:00:01\r\u001b[K     |████████████████████████████████| 71kB 3.1MB/s \n",
            "\u001b[?25h  Building wheel for keras-tuner (setup.py) ... \u001b[?25l\u001b[?25hdone\n",
            "  Building wheel for terminaltables (setup.py) ... \u001b[?25l\u001b[?25hdone\n"
          ],
          "name": "stdout"
        }
      ]
    },
    {
      "cell_type": "code",
      "metadata": {
        "colab": {
          "base_uri": "https://localhost:8080/"
        },
        "id": "BR2-PSkBqB7K",
        "outputId": "97e69f46-c455-4807-f3de-90e336c6d94b"
      },
      "source": [
        "drive.mount('/content/gdrive')"
      ],
      "execution_count": 2,
      "outputs": [
        {
          "output_type": "stream",
          "text": [
            "Mounted at /content/gdrive\n"
          ],
          "name": "stdout"
        }
      ]
    },
    {
      "cell_type": "code",
      "metadata": {
        "id": "herOe4ZLqDmW"
      },
      "source": [
        "path_to_project = '/content/gdrive/My Drive/ML_HC_Project/' # Enter the path to your folder here\n",
        "os.chdir(path_to_project)"
      ],
      "execution_count": 3,
      "outputs": []
    },
    {
      "cell_type": "code",
      "metadata": {
        "id": "N29jLNJ4qMi6"
      },
      "source": [
        "ccle_exp = pd.read_csv(\"CCLE_expression.csv\")\n",
        "sample_info = pd.read_csv(\"sample_info.csv\")\n",
        "sanger_dose_response = pd.read_csv(\"sanger-dose-response.csv\")\n",
        "mapping = pd.read_csv('Ensembl_HGNC_map_042421.csv')"
      ],
      "execution_count": 4,
      "outputs": []
    },
    {
      "cell_type": "code",
      "metadata": {
        "id": "v5P_TPRVqj1g",
        "colab": {
          "base_uri": "https://localhost:8080/",
          "height": 373
        },
        "outputId": "8000cdf8-e371-4560-fce0-9206fa3a9095"
      },
      "source": [
        "ccle_exp = ccle_exp.rename(columns={'Unnamed: 0':'DepMap_ID'})\n",
        "ccle_exp.head()"
      ],
      "execution_count": 5,
      "outputs": [
        {
          "output_type": "execute_result",
          "data": {
            "text/html": [
              "<div>\n",
              "<style scoped>\n",
              "    .dataframe tbody tr th:only-of-type {\n",
              "        vertical-align: middle;\n",
              "    }\n",
              "\n",
              "    .dataframe tbody tr th {\n",
              "        vertical-align: top;\n",
              "    }\n",
              "\n",
              "    .dataframe thead th {\n",
              "        text-align: right;\n",
              "    }\n",
              "</style>\n",
              "<table border=\"1\" class=\"dataframe\">\n",
              "  <thead>\n",
              "    <tr style=\"text-align: right;\">\n",
              "      <th></th>\n",
              "      <th>DepMap_ID</th>\n",
              "      <th>TSPAN6 (7105)</th>\n",
              "      <th>TNMD (64102)</th>\n",
              "      <th>DPM1 (8813)</th>\n",
              "      <th>SCYL3 (57147)</th>\n",
              "      <th>C1orf112 (55732)</th>\n",
              "      <th>FGR (2268)</th>\n",
              "      <th>CFH (3075)</th>\n",
              "      <th>FUCA2 (2519)</th>\n",
              "      <th>GCLC (2729)</th>\n",
              "      <th>NFYA (4800)</th>\n",
              "      <th>STPG1 (90529)</th>\n",
              "      <th>NIPAL3 (57185)</th>\n",
              "      <th>LAS1L (81887)</th>\n",
              "      <th>ENPP4 (22875)</th>\n",
              "      <th>SEMA3F (6405)</th>\n",
              "      <th>CFTR (1080)</th>\n",
              "      <th>ANKIB1 (54467)</th>\n",
              "      <th>CYP51A1 (1595)</th>\n",
              "      <th>KRIT1 (889)</th>\n",
              "      <th>RAD52 (5893)</th>\n",
              "      <th>BAD (572)</th>\n",
              "      <th>LAP3 (51056)</th>\n",
              "      <th>CD99 (4267)</th>\n",
              "      <th>HS3ST1 (9957)</th>\n",
              "      <th>AOC1 (26)</th>\n",
              "      <th>WNT16 (51384)</th>\n",
              "      <th>HECW1 (23072)</th>\n",
              "      <th>MAD1L1 (8379)</th>\n",
              "      <th>LASP1 (3927)</th>\n",
              "      <th>SNX11 (29916)</th>\n",
              "      <th>TMEM176A (55365)</th>\n",
              "      <th>M6PR (4074)</th>\n",
              "      <th>KLHL13 (90293)</th>\n",
              "      <th>CYP26B1 (56603)</th>\n",
              "      <th>ICA1 (3382)</th>\n",
              "      <th>DBNDD1 (79007)</th>\n",
              "      <th>ALS2 (57679)</th>\n",
              "      <th>CASP10 (843)</th>\n",
              "      <th>CFLAR (8837)</th>\n",
              "      <th>...</th>\n",
              "      <th>PRSS50 (29122)</th>\n",
              "      <th>CPHXL (105371346)</th>\n",
              "      <th>AC131160.1 (55486)</th>\n",
              "      <th>TPTEP2-CSNK1E (102800317)</th>\n",
              "      <th>GNG14 (105372280)</th>\n",
              "      <th>SLURP2 (432355)</th>\n",
              "      <th>AC069544.2 (100421372)</th>\n",
              "      <th>SCO2 (9997)</th>\n",
              "      <th>C2orf81 (388963)</th>\n",
              "      <th>PERCC1 (105371045)</th>\n",
              "      <th>THSD8 (10535)</th>\n",
              "      <th>LYNX1-SLURP2 (111188157)</th>\n",
              "      <th>OR8B3 (390271)</th>\n",
              "      <th>OR4F16 (81399)</th>\n",
              "      <th>OR8B2 (26595)</th>\n",
              "      <th>TMEM247 (388946)</th>\n",
              "      <th>SMIM38 (107984345)</th>\n",
              "      <th>OR8S1 (341568)</th>\n",
              "      <th>OR4F29 (729759)</th>\n",
              "      <th>EEF1AKMT4 (110599564)</th>\n",
              "      <th>AC022414.1 (8622)</th>\n",
              "      <th>TBCE (6905)</th>\n",
              "      <th>SMIM41 (113523638)</th>\n",
              "      <th>AC008397.1 (729966)</th>\n",
              "      <th>GCSAML-AS1 (148824)</th>\n",
              "      <th>CCDC39 (339829)</th>\n",
              "      <th>EEF1AKMT4-ECE2 (110599583)</th>\n",
              "      <th>AP000812.4 (220074)</th>\n",
              "      <th>UPK3BL2 (107983993)</th>\n",
              "      <th>AC093512.2 (112694756)</th>\n",
              "      <th>ARHGAP11B (89839)</th>\n",
              "      <th>AC004593.2 (1124)</th>\n",
              "      <th>AC090517.4 (54816)</th>\n",
              "      <th>AL160269.1 (11046)</th>\n",
              "      <th>ABCF2-H2BE1 (114483834)</th>\n",
              "      <th>POLR2J3 (548644)</th>\n",
              "      <th>H2BE1 (114483833)</th>\n",
              "      <th>AL445238.1 (647264)</th>\n",
              "      <th>GET1-SH3BGR (106865373)</th>\n",
              "      <th>AC113348.1 (102724657)</th>\n",
              "    </tr>\n",
              "  </thead>\n",
              "  <tbody>\n",
              "    <tr>\n",
              "      <th>0</th>\n",
              "      <td>ACH-001113</td>\n",
              "      <td>4.990501</td>\n",
              "      <td>0.000000</td>\n",
              "      <td>7.273702</td>\n",
              "      <td>2.765535</td>\n",
              "      <td>4.480265</td>\n",
              "      <td>0.028569</td>\n",
              "      <td>1.269033</td>\n",
              "      <td>3.058316</td>\n",
              "      <td>6.483171</td>\n",
              "      <td>5.053980</td>\n",
              "      <td>3.456806</td>\n",
              "      <td>4.415488</td>\n",
              "      <td>4.766595</td>\n",
              "      <td>2.280956</td>\n",
              "      <td>3.237258</td>\n",
              "      <td>0.000000</td>\n",
              "      <td>5.125982</td>\n",
              "      <td>6.636770</td>\n",
              "      <td>5.638364</td>\n",
              "      <td>3.881665</td>\n",
              "      <td>5.156639</td>\n",
              "      <td>4.775051</td>\n",
              "      <td>5.904966</td>\n",
              "      <td>0.097611</td>\n",
              "      <td>0.111031</td>\n",
              "      <td>0.042644</td>\n",
              "      <td>2.847997</td>\n",
              "      <td>3.336283</td>\n",
              "      <td>5.371210</td>\n",
              "      <td>4.313971</td>\n",
              "      <td>0.000000</td>\n",
              "      <td>7.536830</td>\n",
              "      <td>5.207893</td>\n",
              "      <td>2.965323</td>\n",
              "      <td>1.922198</td>\n",
              "      <td>2.049631</td>\n",
              "      <td>4.478972</td>\n",
              "      <td>2.077243</td>\n",
              "      <td>5.101818</td>\n",
              "      <td>...</td>\n",
              "      <td>0.748461</td>\n",
              "      <td>0.042644</td>\n",
              "      <td>1.782409</td>\n",
              "      <td>0.356144</td>\n",
              "      <td>0.650765</td>\n",
              "      <td>0.411426</td>\n",
              "      <td>2.895303</td>\n",
              "      <td>0.765535</td>\n",
              "      <td>1.731183</td>\n",
              "      <td>0.056584</td>\n",
              "      <td>0.695994</td>\n",
              "      <td>0.070389</td>\n",
              "      <td>0.0</td>\n",
              "      <td>0.070389</td>\n",
              "      <td>0.0</td>\n",
              "      <td>0.0</td>\n",
              "      <td>0.389567</td>\n",
              "      <td>0.0</td>\n",
              "      <td>0.070389</td>\n",
              "      <td>4.578335</td>\n",
              "      <td>0.000000</td>\n",
              "      <td>5.761019</td>\n",
              "      <td>0.0</td>\n",
              "      <td>0.000000</td>\n",
              "      <td>0.0</td>\n",
              "      <td>0.028569</td>\n",
              "      <td>0.000000</td>\n",
              "      <td>1.464668</td>\n",
              "      <td>5.234961</td>\n",
              "      <td>4.139961</td>\n",
              "      <td>1.214125</td>\n",
              "      <td>0.000000</td>\n",
              "      <td>0.111031</td>\n",
              "      <td>0.150560</td>\n",
              "      <td>1.427606</td>\n",
              "      <td>5.781884</td>\n",
              "      <td>0.0</td>\n",
              "      <td>0.000000</td>\n",
              "      <td>0.799087</td>\n",
              "      <td>0.000000</td>\n",
              "    </tr>\n",
              "    <tr>\n",
              "      <th>1</th>\n",
              "      <td>ACH-001289</td>\n",
              "      <td>5.209843</td>\n",
              "      <td>0.545968</td>\n",
              "      <td>7.070604</td>\n",
              "      <td>2.538538</td>\n",
              "      <td>3.510962</td>\n",
              "      <td>0.000000</td>\n",
              "      <td>0.176323</td>\n",
              "      <td>3.836934</td>\n",
              "      <td>4.200850</td>\n",
              "      <td>3.832890</td>\n",
              "      <td>1.910733</td>\n",
              "      <td>3.374344</td>\n",
              "      <td>4.861955</td>\n",
              "      <td>3.625270</td>\n",
              "      <td>1.275007</td>\n",
              "      <td>0.028569</td>\n",
              "      <td>5.177121</td>\n",
              "      <td>7.130313</td>\n",
              "      <td>5.061776</td>\n",
              "      <td>3.023255</td>\n",
              "      <td>5.542258</td>\n",
              "      <td>6.305423</td>\n",
              "      <td>6.641546</td>\n",
              "      <td>0.084064</td>\n",
              "      <td>0.014355</td>\n",
              "      <td>0.275007</td>\n",
              "      <td>0.189034</td>\n",
              "      <td>2.903038</td>\n",
              "      <td>4.955127</td>\n",
              "      <td>4.421560</td>\n",
              "      <td>0.042644</td>\n",
              "      <td>7.133091</td>\n",
              "      <td>2.861955</td>\n",
              "      <td>0.124328</td>\n",
              "      <td>3.513491</td>\n",
              "      <td>4.056584</td>\n",
              "      <td>4.286142</td>\n",
              "      <td>0.333424</td>\n",
              "      <td>4.520422</td>\n",
              "      <td>...</td>\n",
              "      <td>0.000000</td>\n",
              "      <td>0.000000</td>\n",
              "      <td>1.799087</td>\n",
              "      <td>0.526069</td>\n",
              "      <td>0.000000</td>\n",
              "      <td>0.000000</td>\n",
              "      <td>4.202418</td>\n",
              "      <td>0.298658</td>\n",
              "      <td>0.765535</td>\n",
              "      <td>0.000000</td>\n",
              "      <td>4.173927</td>\n",
              "      <td>0.189034</td>\n",
              "      <td>0.0</td>\n",
              "      <td>0.014355</td>\n",
              "      <td>0.0</td>\n",
              "      <td>0.0</td>\n",
              "      <td>0.028569</td>\n",
              "      <td>0.0</td>\n",
              "      <td>0.014355</td>\n",
              "      <td>2.182692</td>\n",
              "      <td>0.042644</td>\n",
              "      <td>5.771357</td>\n",
              "      <td>0.0</td>\n",
              "      <td>0.000000</td>\n",
              "      <td>0.0</td>\n",
              "      <td>1.090853</td>\n",
              "      <td>0.000000</td>\n",
              "      <td>1.490570</td>\n",
              "      <td>0.941106</td>\n",
              "      <td>4.107688</td>\n",
              "      <td>1.835924</td>\n",
              "      <td>0.000000</td>\n",
              "      <td>0.310340</td>\n",
              "      <td>0.000000</td>\n",
              "      <td>0.807355</td>\n",
              "      <td>4.704319</td>\n",
              "      <td>0.0</td>\n",
              "      <td>0.000000</td>\n",
              "      <td>0.464668</td>\n",
              "      <td>0.070389</td>\n",
              "    </tr>\n",
              "    <tr>\n",
              "      <th>2</th>\n",
              "      <td>ACH-001339</td>\n",
              "      <td>3.779260</td>\n",
              "      <td>0.000000</td>\n",
              "      <td>7.346425</td>\n",
              "      <td>2.339137</td>\n",
              "      <td>4.254745</td>\n",
              "      <td>0.056584</td>\n",
              "      <td>1.339137</td>\n",
              "      <td>6.724241</td>\n",
              "      <td>3.671293</td>\n",
              "      <td>3.775051</td>\n",
              "      <td>2.895303</td>\n",
              "      <td>3.613532</td>\n",
              "      <td>4.300856</td>\n",
              "      <td>0.799087</td>\n",
              "      <td>0.275007</td>\n",
              "      <td>0.042644</td>\n",
              "      <td>4.149747</td>\n",
              "      <td>5.655352</td>\n",
              "      <td>4.858976</td>\n",
              "      <td>2.675816</td>\n",
              "      <td>4.560715</td>\n",
              "      <td>6.170125</td>\n",
              "      <td>8.182245</td>\n",
              "      <td>0.389567</td>\n",
              "      <td>0.084064</td>\n",
              "      <td>0.084064</td>\n",
              "      <td>0.084064</td>\n",
              "      <td>5.733625</td>\n",
              "      <td>6.274262</td>\n",
              "      <td>4.407353</td>\n",
              "      <td>0.214125</td>\n",
              "      <td>7.361417</td>\n",
              "      <td>0.137504</td>\n",
              "      <td>0.454176</td>\n",
              "      <td>2.301588</td>\n",
              "      <td>3.317594</td>\n",
              "      <td>3.746313</td>\n",
              "      <td>1.232661</td>\n",
              "      <td>4.750607</td>\n",
              "      <td>...</td>\n",
              "      <td>0.014355</td>\n",
              "      <td>0.000000</td>\n",
              "      <td>0.992768</td>\n",
              "      <td>0.201634</td>\n",
              "      <td>0.000000</td>\n",
              "      <td>0.014355</td>\n",
              "      <td>3.209453</td>\n",
              "      <td>0.344828</td>\n",
              "      <td>0.555816</td>\n",
              "      <td>0.000000</td>\n",
              "      <td>2.952334</td>\n",
              "      <td>0.070389</td>\n",
              "      <td>0.0</td>\n",
              "      <td>0.014355</td>\n",
              "      <td>0.0</td>\n",
              "      <td>0.0</td>\n",
              "      <td>0.028569</td>\n",
              "      <td>0.0</td>\n",
              "      <td>0.014355</td>\n",
              "      <td>3.012569</td>\n",
              "      <td>0.000000</td>\n",
              "      <td>4.744699</td>\n",
              "      <td>0.0</td>\n",
              "      <td>0.000000</td>\n",
              "      <td>0.0</td>\n",
              "      <td>0.000000</td>\n",
              "      <td>0.000000</td>\n",
              "      <td>0.985500</td>\n",
              "      <td>1.124328</td>\n",
              "      <td>2.313246</td>\n",
              "      <td>1.823749</td>\n",
              "      <td>0.084064</td>\n",
              "      <td>0.176323</td>\n",
              "      <td>0.042644</td>\n",
              "      <td>1.384050</td>\n",
              "      <td>4.931683</td>\n",
              "      <td>0.0</td>\n",
              "      <td>0.028569</td>\n",
              "      <td>0.263034</td>\n",
              "      <td>0.000000</td>\n",
              "    </tr>\n",
              "    <tr>\n",
              "      <th>3</th>\n",
              "      <td>ACH-001538</td>\n",
              "      <td>5.726831</td>\n",
              "      <td>0.000000</td>\n",
              "      <td>7.086189</td>\n",
              "      <td>2.543496</td>\n",
              "      <td>3.102658</td>\n",
              "      <td>0.000000</td>\n",
              "      <td>5.914565</td>\n",
              "      <td>6.099716</td>\n",
              "      <td>4.475733</td>\n",
              "      <td>4.294253</td>\n",
              "      <td>2.472488</td>\n",
              "      <td>4.573496</td>\n",
              "      <td>5.314697</td>\n",
              "      <td>3.488001</td>\n",
              "      <td>2.980025</td>\n",
              "      <td>0.028569</td>\n",
              "      <td>3.872829</td>\n",
              "      <td>6.176921</td>\n",
              "      <td>3.714795</td>\n",
              "      <td>2.726831</td>\n",
              "      <td>5.565293</td>\n",
              "      <td>5.230357</td>\n",
              "      <td>6.811728</td>\n",
              "      <td>2.657640</td>\n",
              "      <td>0.084064</td>\n",
              "      <td>0.124328</td>\n",
              "      <td>0.367371</td>\n",
              "      <td>4.161888</td>\n",
              "      <td>6.703211</td>\n",
              "      <td>3.541019</td>\n",
              "      <td>0.070389</td>\n",
              "      <td>7.208478</td>\n",
              "      <td>0.014355</td>\n",
              "      <td>1.124328</td>\n",
              "      <td>3.946731</td>\n",
              "      <td>3.237258</td>\n",
              "      <td>2.931683</td>\n",
              "      <td>2.797013</td>\n",
              "      <td>4.591560</td>\n",
              "      <td>...</td>\n",
              "      <td>0.000000</td>\n",
              "      <td>0.000000</td>\n",
              "      <td>0.641546</td>\n",
              "      <td>0.042644</td>\n",
              "      <td>0.000000</td>\n",
              "      <td>1.454176</td>\n",
              "      <td>2.438293</td>\n",
              "      <td>0.678072</td>\n",
              "      <td>1.117695</td>\n",
              "      <td>0.000000</td>\n",
              "      <td>0.000000</td>\n",
              "      <td>0.150560</td>\n",
              "      <td>0.0</td>\n",
              "      <td>0.000000</td>\n",
              "      <td>0.0</td>\n",
              "      <td>0.0</td>\n",
              "      <td>0.124328</td>\n",
              "      <td>0.0</td>\n",
              "      <td>0.000000</td>\n",
              "      <td>3.000000</td>\n",
              "      <td>0.000000</td>\n",
              "      <td>4.164304</td>\n",
              "      <td>0.0</td>\n",
              "      <td>0.454176</td>\n",
              "      <td>0.0</td>\n",
              "      <td>0.000000</td>\n",
              "      <td>0.000000</td>\n",
              "      <td>1.448901</td>\n",
              "      <td>0.201634</td>\n",
              "      <td>3.001802</td>\n",
              "      <td>0.871844</td>\n",
              "      <td>0.137504</td>\n",
              "      <td>0.263034</td>\n",
              "      <td>2.485427</td>\n",
              "      <td>0.713696</td>\n",
              "      <td>3.858976</td>\n",
              "      <td>0.0</td>\n",
              "      <td>0.000000</td>\n",
              "      <td>0.000000</td>\n",
              "      <td>0.000000</td>\n",
              "    </tr>\n",
              "    <tr>\n",
              "      <th>4</th>\n",
              "      <td>ACH-000242</td>\n",
              "      <td>7.465648</td>\n",
              "      <td>0.000000</td>\n",
              "      <td>6.435462</td>\n",
              "      <td>2.414136</td>\n",
              "      <td>3.864929</td>\n",
              "      <td>0.831877</td>\n",
              "      <td>7.198003</td>\n",
              "      <td>5.452530</td>\n",
              "      <td>7.112492</td>\n",
              "      <td>4.710944</td>\n",
              "      <td>1.914565</td>\n",
              "      <td>2.746313</td>\n",
              "      <td>5.010780</td>\n",
              "      <td>0.871844</td>\n",
              "      <td>5.815319</td>\n",
              "      <td>0.070389</td>\n",
              "      <td>4.269033</td>\n",
              "      <td>6.759156</td>\n",
              "      <td>4.878725</td>\n",
              "      <td>3.157044</td>\n",
              "      <td>6.103917</td>\n",
              "      <td>5.683135</td>\n",
              "      <td>7.321026</td>\n",
              "      <td>3.247928</td>\n",
              "      <td>0.014355</td>\n",
              "      <td>0.014355</td>\n",
              "      <td>0.000000</td>\n",
              "      <td>4.205549</td>\n",
              "      <td>7.029342</td>\n",
              "      <td>4.006298</td>\n",
              "      <td>0.000000</td>\n",
              "      <td>7.275752</td>\n",
              "      <td>2.025029</td>\n",
              "      <td>0.669027</td>\n",
              "      <td>5.591859</td>\n",
              "      <td>2.528571</td>\n",
              "      <td>3.613532</td>\n",
              "      <td>1.992768</td>\n",
              "      <td>4.440288</td>\n",
              "      <td>...</td>\n",
              "      <td>0.014355</td>\n",
              "      <td>0.000000</td>\n",
              "      <td>0.748461</td>\n",
              "      <td>0.163499</td>\n",
              "      <td>0.226509</td>\n",
              "      <td>0.000000</td>\n",
              "      <td>3.201634</td>\n",
              "      <td>1.739848</td>\n",
              "      <td>0.823749</td>\n",
              "      <td>0.000000</td>\n",
              "      <td>0.042644</td>\n",
              "      <td>0.000000</td>\n",
              "      <td>0.0</td>\n",
              "      <td>0.014355</td>\n",
              "      <td>0.0</td>\n",
              "      <td>0.0</td>\n",
              "      <td>0.014355</td>\n",
              "      <td>0.0</td>\n",
              "      <td>0.014355</td>\n",
              "      <td>2.700440</td>\n",
              "      <td>0.000000</td>\n",
              "      <td>4.673556</td>\n",
              "      <td>0.0</td>\n",
              "      <td>1.056584</td>\n",
              "      <td>0.0</td>\n",
              "      <td>0.000000</td>\n",
              "      <td>0.014355</td>\n",
              "      <td>0.516015</td>\n",
              "      <td>4.925050</td>\n",
              "      <td>2.056584</td>\n",
              "      <td>2.324811</td>\n",
              "      <td>0.163499</td>\n",
              "      <td>0.163499</td>\n",
              "      <td>0.000000</td>\n",
              "      <td>1.117695</td>\n",
              "      <td>4.990501</td>\n",
              "      <td>0.0</td>\n",
              "      <td>0.000000</td>\n",
              "      <td>0.000000</td>\n",
              "      <td>0.000000</td>\n",
              "    </tr>\n",
              "  </tbody>\n",
              "</table>\n",
              "<p>5 rows × 19178 columns</p>\n",
              "</div>"
            ],
            "text/plain": [
              "    DepMap_ID  TSPAN6 (7105)  ...  GET1-SH3BGR (106865373)  AC113348.1 (102724657)\n",
              "0  ACH-001113       4.990501  ...                 0.799087                0.000000\n",
              "1  ACH-001289       5.209843  ...                 0.464668                0.070389\n",
              "2  ACH-001339       3.779260  ...                 0.263034                0.000000\n",
              "3  ACH-001538       5.726831  ...                 0.000000                0.000000\n",
              "4  ACH-000242       7.465648  ...                 0.000000                0.000000\n",
              "\n",
              "[5 rows x 19178 columns]"
            ]
          },
          "metadata": {
            "tags": []
          },
          "execution_count": 5
        }
      ]
    },
    {
      "cell_type": "code",
      "metadata": {
        "colab": {
          "base_uri": "https://localhost:8080/",
          "height": 430
        },
        "id": "L-u4QBcR5tLW",
        "outputId": "b47e3645-3b52-4dae-f6e8-74b834602e06"
      },
      "source": [
        "sample_info.head()"
      ],
      "execution_count": 6,
      "outputs": [
        {
          "output_type": "execute_result",
          "data": {
            "text/html": [
              "<div>\n",
              "<style scoped>\n",
              "    .dataframe tbody tr th:only-of-type {\n",
              "        vertical-align: middle;\n",
              "    }\n",
              "\n",
              "    .dataframe tbody tr th {\n",
              "        vertical-align: top;\n",
              "    }\n",
              "\n",
              "    .dataframe thead th {\n",
              "        text-align: right;\n",
              "    }\n",
              "</style>\n",
              "<table border=\"1\" class=\"dataframe\">\n",
              "  <thead>\n",
              "    <tr style=\"text-align: right;\">\n",
              "      <th></th>\n",
              "      <th>DepMap_ID</th>\n",
              "      <th>cell_line_name</th>\n",
              "      <th>stripped_cell_line_name</th>\n",
              "      <th>CCLE_Name</th>\n",
              "      <th>Alias</th>\n",
              "      <th>COSMICID</th>\n",
              "      <th>sex</th>\n",
              "      <th>source</th>\n",
              "      <th>Achilles_n_replicates</th>\n",
              "      <th>cell_line_NNMD</th>\n",
              "      <th>culture_type</th>\n",
              "      <th>culture_medium</th>\n",
              "      <th>cas9_activity</th>\n",
              "      <th>RRID</th>\n",
              "      <th>WTSI_Master_Cell_ID</th>\n",
              "      <th>sample_collection_site</th>\n",
              "      <th>primary_or_metastasis</th>\n",
              "      <th>primary_disease</th>\n",
              "      <th>Subtype</th>\n",
              "      <th>age</th>\n",
              "      <th>Sanger_Model_ID</th>\n",
              "      <th>depmap_public_comments</th>\n",
              "      <th>lineage</th>\n",
              "      <th>lineage_subtype</th>\n",
              "      <th>lineage_sub_subtype</th>\n",
              "      <th>lineage_molecular_subtype</th>\n",
              "    </tr>\n",
              "  </thead>\n",
              "  <tbody>\n",
              "    <tr>\n",
              "      <th>0</th>\n",
              "      <td>ACH-000001</td>\n",
              "      <td>NIH:OVCAR-3</td>\n",
              "      <td>NIHOVCAR3</td>\n",
              "      <td>NIHOVCAR3_OVARY</td>\n",
              "      <td>OVCAR3</td>\n",
              "      <td>905933.0</td>\n",
              "      <td>Female</td>\n",
              "      <td>ATCC</td>\n",
              "      <td>NaN</td>\n",
              "      <td>NaN</td>\n",
              "      <td>NaN</td>\n",
              "      <td>NaN</td>\n",
              "      <td>NaN</td>\n",
              "      <td>CVCL_0465</td>\n",
              "      <td>2201.0</td>\n",
              "      <td>ascites</td>\n",
              "      <td>Metastasis</td>\n",
              "      <td>Ovarian Cancer</td>\n",
              "      <td>Adenocarcinoma, high grade serous</td>\n",
              "      <td>60.0</td>\n",
              "      <td>SIDM00105</td>\n",
              "      <td>NaN</td>\n",
              "      <td>ovary</td>\n",
              "      <td>ovary_adenocarcinoma</td>\n",
              "      <td>high_grade_serous</td>\n",
              "      <td>NaN</td>\n",
              "    </tr>\n",
              "    <tr>\n",
              "      <th>1</th>\n",
              "      <td>ACH-000002</td>\n",
              "      <td>HL-60</td>\n",
              "      <td>HL60</td>\n",
              "      <td>HL60_HAEMATOPOIETIC_AND_LYMPHOID_TISSUE</td>\n",
              "      <td>NaN</td>\n",
              "      <td>905938.0</td>\n",
              "      <td>Female</td>\n",
              "      <td>ATCC</td>\n",
              "      <td>NaN</td>\n",
              "      <td>NaN</td>\n",
              "      <td>NaN</td>\n",
              "      <td>NaN</td>\n",
              "      <td>NaN</td>\n",
              "      <td>CVCL_0002</td>\n",
              "      <td>55.0</td>\n",
              "      <td>haematopoietic_and_lymphoid_tissue</td>\n",
              "      <td>Primary</td>\n",
              "      <td>Leukemia</td>\n",
              "      <td>Acute Myelogenous Leukemia (AML), M3 (Promyelo...</td>\n",
              "      <td>35.0</td>\n",
              "      <td>SIDM00829</td>\n",
              "      <td>NaN</td>\n",
              "      <td>blood</td>\n",
              "      <td>AML</td>\n",
              "      <td>M3</td>\n",
              "      <td>NaN</td>\n",
              "    </tr>\n",
              "    <tr>\n",
              "      <th>2</th>\n",
              "      <td>ACH-000003</td>\n",
              "      <td>CACO2</td>\n",
              "      <td>CACO2</td>\n",
              "      <td>CACO2_LARGE_INTESTINE</td>\n",
              "      <td>CACO2, CaCo-2</td>\n",
              "      <td>NaN</td>\n",
              "      <td>Male</td>\n",
              "      <td>ATCC</td>\n",
              "      <td>NaN</td>\n",
              "      <td>NaN</td>\n",
              "      <td>NaN</td>\n",
              "      <td>NaN</td>\n",
              "      <td>NaN</td>\n",
              "      <td>CVCL_0025</td>\n",
              "      <td>NaN</td>\n",
              "      <td>Colon</td>\n",
              "      <td>NaN</td>\n",
              "      <td>Colon/Colorectal Cancer</td>\n",
              "      <td>Adenocarcinoma</td>\n",
              "      <td>NaN</td>\n",
              "      <td>SIDM00891</td>\n",
              "      <td>NaN</td>\n",
              "      <td>colorectal</td>\n",
              "      <td>colorectal_adenocarcinoma</td>\n",
              "      <td>NaN</td>\n",
              "      <td>NaN</td>\n",
              "    </tr>\n",
              "    <tr>\n",
              "      <th>3</th>\n",
              "      <td>ACH-000004</td>\n",
              "      <td>HEL</td>\n",
              "      <td>HEL</td>\n",
              "      <td>HEL_HAEMATOPOIETIC_AND_LYMPHOID_TISSUE</td>\n",
              "      <td>NaN</td>\n",
              "      <td>907053.0</td>\n",
              "      <td>Male</td>\n",
              "      <td>DSMZ</td>\n",
              "      <td>2.0</td>\n",
              "      <td>-3.079202</td>\n",
              "      <td>Suspension</td>\n",
              "      <td>RPMI + 10% FBS</td>\n",
              "      <td>52.4</td>\n",
              "      <td>CVCL_0001</td>\n",
              "      <td>783.0</td>\n",
              "      <td>haematopoietic_and_lymphoid_tissue</td>\n",
              "      <td>NaN</td>\n",
              "      <td>Leukemia</td>\n",
              "      <td>Acute Myelogenous Leukemia (AML), M6 (Erythrol...</td>\n",
              "      <td>30.0</td>\n",
              "      <td>SIDM00594</td>\n",
              "      <td>NaN</td>\n",
              "      <td>blood</td>\n",
              "      <td>AML</td>\n",
              "      <td>M6</td>\n",
              "      <td>NaN</td>\n",
              "    </tr>\n",
              "    <tr>\n",
              "      <th>4</th>\n",
              "      <td>ACH-000005</td>\n",
              "      <td>HEL 92.1.7</td>\n",
              "      <td>HEL9217</td>\n",
              "      <td>HEL9217_HAEMATOPOIETIC_AND_LYMPHOID_TISSUE</td>\n",
              "      <td>NaN</td>\n",
              "      <td>NaN</td>\n",
              "      <td>Male</td>\n",
              "      <td>ATCC</td>\n",
              "      <td>2.0</td>\n",
              "      <td>-2.404409</td>\n",
              "      <td>Suspension</td>\n",
              "      <td>RPMI + 10% FBS</td>\n",
              "      <td>86.6</td>\n",
              "      <td>CVCL_2481</td>\n",
              "      <td>NaN</td>\n",
              "      <td>bone_marrow</td>\n",
              "      <td>NaN</td>\n",
              "      <td>Leukemia</td>\n",
              "      <td>Acute Myelogenous Leukemia (AML), M6 (Erythrol...</td>\n",
              "      <td>30.0</td>\n",
              "      <td>SIDM00593</td>\n",
              "      <td>NaN</td>\n",
              "      <td>blood</td>\n",
              "      <td>AML</td>\n",
              "      <td>M6</td>\n",
              "      <td>NaN</td>\n",
              "    </tr>\n",
              "  </tbody>\n",
              "</table>\n",
              "</div>"
            ],
            "text/plain": [
              "    DepMap_ID cell_line_name  ... lineage_sub_subtype lineage_molecular_subtype\n",
              "0  ACH-000001    NIH:OVCAR-3  ...   high_grade_serous                       NaN\n",
              "1  ACH-000002          HL-60  ...                  M3                       NaN\n",
              "2  ACH-000003          CACO2  ...                 NaN                       NaN\n",
              "3  ACH-000004            HEL  ...                  M6                       NaN\n",
              "4  ACH-000005     HEL 92.1.7  ...                  M6                       NaN\n",
              "\n",
              "[5 rows x 26 columns]"
            ]
          },
          "metadata": {
            "tags": []
          },
          "execution_count": 6
        }
      ]
    },
    {
      "cell_type": "code",
      "metadata": {
        "colab": {
          "base_uri": "https://localhost:8080/",
          "height": 309
        },
        "id": "hvXM76wJ5yv9",
        "outputId": "b0dabe13-b061-44a0-c4b6-fc27fe6a4665"
      },
      "source": [
        "sanger_dose_response.head()"
      ],
      "execution_count": 7,
      "outputs": [
        {
          "output_type": "execute_result",
          "data": {
            "text/html": [
              "<div>\n",
              "<style scoped>\n",
              "    .dataframe tbody tr th:only-of-type {\n",
              "        vertical-align: middle;\n",
              "    }\n",
              "\n",
              "    .dataframe tbody tr th {\n",
              "        vertical-align: top;\n",
              "    }\n",
              "\n",
              "    .dataframe thead th {\n",
              "        text-align: right;\n",
              "    }\n",
              "</style>\n",
              "<table border=\"1\" class=\"dataframe\">\n",
              "  <thead>\n",
              "    <tr style=\"text-align: right;\">\n",
              "      <th></th>\n",
              "      <th>DATASET</th>\n",
              "      <th>COSMIC_ID</th>\n",
              "      <th>DRUG_ID</th>\n",
              "      <th>MIN_CONC</th>\n",
              "      <th>MAX_CONC</th>\n",
              "      <th>RMSE_PUBLISHED</th>\n",
              "      <th>Z_SCORE_PUBLISHED</th>\n",
              "      <th>IC50_PUBLISHED</th>\n",
              "      <th>AUC_PUBLISHED</th>\n",
              "      <th>ARXSPAN_ID</th>\n",
              "      <th>DRUG_NAME</th>\n",
              "      <th>BROAD_ID</th>\n",
              "      <th>upper_limit</th>\n",
              "      <th>ec50</th>\n",
              "      <th>slope</th>\n",
              "      <th>lower_limit</th>\n",
              "      <th>auc</th>\n",
              "      <th>log2.ic50</th>\n",
              "      <th>mse</th>\n",
              "      <th>R2</th>\n",
              "    </tr>\n",
              "  </thead>\n",
              "  <tbody>\n",
              "    <tr>\n",
              "      <th>0</th>\n",
              "      <td>GDSC1</td>\n",
              "      <td>683665</td>\n",
              "      <td>1</td>\n",
              "      <td>0.007813</td>\n",
              "      <td>2.0</td>\n",
              "      <td>0.022518</td>\n",
              "      <td>-0.192056</td>\n",
              "      <td>10.977393</td>\n",
              "      <td>0.982116</td>\n",
              "      <td>ACH-002270</td>\n",
              "      <td>ERLOTINIB</td>\n",
              "      <td>BRD-K70401845</td>\n",
              "      <td>0.992788</td>\n",
              "      <td>2.839376</td>\n",
              "      <td>-5.670993</td>\n",
              "      <td>0.514389</td>\n",
              "      <td>0.990834</td>\n",
              "      <td>NaN</td>\n",
              "      <td>0.000034</td>\n",
              "      <td>0.904675</td>\n",
              "    </tr>\n",
              "    <tr>\n",
              "      <th>1</th>\n",
              "      <td>GDSC1</td>\n",
              "      <td>684055</td>\n",
              "      <td>1</td>\n",
              "      <td>0.007813</td>\n",
              "      <td>2.0</td>\n",
              "      <td>0.031831</td>\n",
              "      <td>0.505823</td>\n",
              "      <td>23.133991</td>\n",
              "      <td>0.984820</td>\n",
              "      <td>ACH-002104</td>\n",
              "      <td>ERLOTINIB</td>\n",
              "      <td>BRD-K70401845</td>\n",
              "      <td>1.006405</td>\n",
              "      <td>0.028649</td>\n",
              "      <td>-0.186377</td>\n",
              "      <td>0.990054</td>\n",
              "      <td>0.997138</td>\n",
              "      <td>NaN</td>\n",
              "      <td>0.000057</td>\n",
              "      <td>0.028903</td>\n",
              "    </tr>\n",
              "    <tr>\n",
              "      <th>2</th>\n",
              "      <td>GDSC1</td>\n",
              "      <td>684057</td>\n",
              "      <td>1</td>\n",
              "      <td>0.007813</td>\n",
              "      <td>2.0</td>\n",
              "      <td>0.026047</td>\n",
              "      <td>1.280750</td>\n",
              "      <td>52.935278</td>\n",
              "      <td>0.985696</td>\n",
              "      <td>ACH-002106</td>\n",
              "      <td>ERLOTINIB</td>\n",
              "      <td>BRD-K70401845</td>\n",
              "      <td>NaN</td>\n",
              "      <td>NaN</td>\n",
              "      <td>NaN</td>\n",
              "      <td>NaN</td>\n",
              "      <td>NaN</td>\n",
              "      <td>NaN</td>\n",
              "      <td>NaN</td>\n",
              "      <td>NaN</td>\n",
              "    </tr>\n",
              "    <tr>\n",
              "      <th>3</th>\n",
              "      <td>GDSC1</td>\n",
              "      <td>684059</td>\n",
              "      <td>1</td>\n",
              "      <td>0.007813</td>\n",
              "      <td>2.0</td>\n",
              "      <td>0.110056</td>\n",
              "      <td>0.086028</td>\n",
              "      <td>14.774223</td>\n",
              "      <td>0.972701</td>\n",
              "      <td>ACH-002108</td>\n",
              "      <td>ERLOTINIB</td>\n",
              "      <td>BRD-K70401845</td>\n",
              "      <td>NaN</td>\n",
              "      <td>NaN</td>\n",
              "      <td>NaN</td>\n",
              "      <td>NaN</td>\n",
              "      <td>NaN</td>\n",
              "      <td>NaN</td>\n",
              "      <td>NaN</td>\n",
              "      <td>NaN</td>\n",
              "    </tr>\n",
              "    <tr>\n",
              "      <th>4</th>\n",
              "      <td>GDSC1</td>\n",
              "      <td>684062</td>\n",
              "      <td>1</td>\n",
              "      <td>0.007813</td>\n",
              "      <td>2.0</td>\n",
              "      <td>0.087010</td>\n",
              "      <td>-0.114395</td>\n",
              "      <td>11.926884</td>\n",
              "      <td>0.944463</td>\n",
              "      <td>ACH-002111</td>\n",
              "      <td>ERLOTINIB</td>\n",
              "      <td>BRD-K70401845</td>\n",
              "      <td>0.989580</td>\n",
              "      <td>0.075804</td>\n",
              "      <td>-12.222777</td>\n",
              "      <td>0.894027</td>\n",
              "      <td>0.933185</td>\n",
              "      <td>NaN</td>\n",
              "      <td>0.000623</td>\n",
              "      <td>0.777093</td>\n",
              "    </tr>\n",
              "  </tbody>\n",
              "</table>\n",
              "</div>"
            ],
            "text/plain": [
              "  DATASET  COSMIC_ID  DRUG_ID  ...  log2.ic50       mse        R2\n",
              "0   GDSC1     683665        1  ...        NaN  0.000034  0.904675\n",
              "1   GDSC1     684055        1  ...        NaN  0.000057  0.028903\n",
              "2   GDSC1     684057        1  ...        NaN       NaN       NaN\n",
              "3   GDSC1     684059        1  ...        NaN       NaN       NaN\n",
              "4   GDSC1     684062        1  ...        NaN  0.000623  0.777093\n",
              "\n",
              "[5 rows x 20 columns]"
            ]
          },
          "metadata": {
            "tags": []
          },
          "execution_count": 7
        }
      ]
    },
    {
      "cell_type": "code",
      "metadata": {
        "colab": {
          "base_uri": "https://localhost:8080/",
          "height": 202
        },
        "id": "7n2iQvU2xXFv",
        "outputId": "1c87c365-a363-4aee-fb27-c90f0607259d"
      },
      "source": [
        "mapping.head()"
      ],
      "execution_count": 8,
      "outputs": [
        {
          "output_type": "execute_result",
          "data": {
            "text/html": [
              "<div>\n",
              "<style scoped>\n",
              "    .dataframe tbody tr th:only-of-type {\n",
              "        vertical-align: middle;\n",
              "    }\n",
              "\n",
              "    .dataframe tbody tr th {\n",
              "        vertical-align: top;\n",
              "    }\n",
              "\n",
              "    .dataframe thead th {\n",
              "        text-align: right;\n",
              "    }\n",
              "</style>\n",
              "<table border=\"1\" class=\"dataframe\">\n",
              "  <thead>\n",
              "    <tr style=\"text-align: right;\">\n",
              "      <th></th>\n",
              "      <th>Ensembl_ID</th>\n",
              "      <th>HGNC_ID</th>\n",
              "    </tr>\n",
              "  </thead>\n",
              "  <tbody>\n",
              "    <tr>\n",
              "      <th>0</th>\n",
              "      <td>ENSG00000000003</td>\n",
              "      <td>TSPAN6 (7105)</td>\n",
              "    </tr>\n",
              "    <tr>\n",
              "      <th>1</th>\n",
              "      <td>ENSG00000000005</td>\n",
              "      <td>TNMD (64102)</td>\n",
              "    </tr>\n",
              "    <tr>\n",
              "      <th>2</th>\n",
              "      <td>ENSG00000000419</td>\n",
              "      <td>DPM1 (8813)</td>\n",
              "    </tr>\n",
              "    <tr>\n",
              "      <th>3</th>\n",
              "      <td>ENSG00000000457</td>\n",
              "      <td>SCYL3 (57147)</td>\n",
              "    </tr>\n",
              "    <tr>\n",
              "      <th>4</th>\n",
              "      <td>ENSG00000000460</td>\n",
              "      <td>C1orf112 (55732)</td>\n",
              "    </tr>\n",
              "  </tbody>\n",
              "</table>\n",
              "</div>"
            ],
            "text/plain": [
              "        Ensembl_ID           HGNC_ID\n",
              "0  ENSG00000000003     TSPAN6 (7105)\n",
              "1  ENSG00000000005      TNMD (64102)\n",
              "2  ENSG00000000419       DPM1 (8813)\n",
              "3  ENSG00000000457     SCYL3 (57147)\n",
              "4  ENSG00000000460  C1orf112 (55732)"
            ]
          },
          "metadata": {
            "tags": []
          },
          "execution_count": 8
        }
      ]
    },
    {
      "cell_type": "code",
      "metadata": {
        "colab": {
          "base_uri": "https://localhost:8080/",
          "height": 373
        },
        "id": "kSyOiD_lyq_9",
        "outputId": "c867f82c-746b-4e9a-d220-9b0d4b4d0068"
      },
      "source": [
        "cols_to_keep = ['DepMap_ID'] + list(mapping.HGNC_ID) \n",
        "ccle_chosen = ccle_exp[cols_to_keep]\n",
        "ccle_chosen.head()"
      ],
      "execution_count": 9,
      "outputs": [
        {
          "output_type": "execute_result",
          "data": {
            "text/html": [
              "<div>\n",
              "<style scoped>\n",
              "    .dataframe tbody tr th:only-of-type {\n",
              "        vertical-align: middle;\n",
              "    }\n",
              "\n",
              "    .dataframe tbody tr th {\n",
              "        vertical-align: top;\n",
              "    }\n",
              "\n",
              "    .dataframe thead th {\n",
              "        text-align: right;\n",
              "    }\n",
              "</style>\n",
              "<table border=\"1\" class=\"dataframe\">\n",
              "  <thead>\n",
              "    <tr style=\"text-align: right;\">\n",
              "      <th></th>\n",
              "      <th>DepMap_ID</th>\n",
              "      <th>TSPAN6 (7105)</th>\n",
              "      <th>TNMD (64102)</th>\n",
              "      <th>DPM1 (8813)</th>\n",
              "      <th>SCYL3 (57147)</th>\n",
              "      <th>C1orf112 (55732)</th>\n",
              "      <th>FGR (2268)</th>\n",
              "      <th>CFH (3075)</th>\n",
              "      <th>FUCA2 (2519)</th>\n",
              "      <th>GCLC (2729)</th>\n",
              "      <th>NFYA (4800)</th>\n",
              "      <th>STPG1 (90529)</th>\n",
              "      <th>NIPAL3 (57185)</th>\n",
              "      <th>LAS1L (81887)</th>\n",
              "      <th>ENPP4 (22875)</th>\n",
              "      <th>SEMA3F (6405)</th>\n",
              "      <th>CFTR (1080)</th>\n",
              "      <th>ANKIB1 (54467)</th>\n",
              "      <th>CYP51A1 (1595)</th>\n",
              "      <th>KRIT1 (889)</th>\n",
              "      <th>RAD52 (5893)</th>\n",
              "      <th>BAD (572)</th>\n",
              "      <th>LAP3 (51056)</th>\n",
              "      <th>CD99 (4267)</th>\n",
              "      <th>HS3ST1 (9957)</th>\n",
              "      <th>AOC1 (26)</th>\n",
              "      <th>WNT16 (51384)</th>\n",
              "      <th>HECW1 (23072)</th>\n",
              "      <th>MAD1L1 (8379)</th>\n",
              "      <th>LASP1 (3927)</th>\n",
              "      <th>SNX11 (29916)</th>\n",
              "      <th>TMEM176A (55365)</th>\n",
              "      <th>M6PR (4074)</th>\n",
              "      <th>KLHL13 (90293)</th>\n",
              "      <th>CYP26B1 (56603)</th>\n",
              "      <th>ICA1 (3382)</th>\n",
              "      <th>DBNDD1 (79007)</th>\n",
              "      <th>ALS2 (57679)</th>\n",
              "      <th>CASP10 (843)</th>\n",
              "      <th>CFLAR (8837)</th>\n",
              "      <th>...</th>\n",
              "      <th>GCSAML-AS1 (148824)</th>\n",
              "      <th>EPPK1 (83481)</th>\n",
              "      <th>TSTD3 (100130890)</th>\n",
              "      <th>CISD3 (284106)</th>\n",
              "      <th>PPIAL4F (728945)</th>\n",
              "      <th>PPIAL4E (730262)</th>\n",
              "      <th>CT45A3 (441519)</th>\n",
              "      <th>CT45A1 (541466)</th>\n",
              "      <th>SPATA31A5 (727905)</th>\n",
              "      <th>SPATA31A7 (26165)</th>\n",
              "      <th>TBC1D3C (414060)</th>\n",
              "      <th>OR4F29 (729759)</th>\n",
              "      <th>SPANXB1 (728695)</th>\n",
              "      <th>GRIFIN (402635)</th>\n",
              "      <th>GAGE13 (645051)</th>\n",
              "      <th>C2orf15 (150590)</th>\n",
              "      <th>USP27X (389856)</th>\n",
              "      <th>OR51B5 (282763)</th>\n",
              "      <th>CT45A2 (728911)</th>\n",
              "      <th>CT45A5 (441521)</th>\n",
              "      <th>TBC1D3H (729877)</th>\n",
              "      <th>NBPF15 (284565)</th>\n",
              "      <th>WDR92 (116143)</th>\n",
              "      <th>IQCJ-SCHIP1 (100505385)</th>\n",
              "      <th>TYW1B (441250)</th>\n",
              "      <th>ZNF286A (57335)</th>\n",
              "      <th>OR13C5 (138799)</th>\n",
              "      <th>PPIAL4A (653505)</th>\n",
              "      <th>CCDC177 (56936)</th>\n",
              "      <th>PADI6 (353238)</th>\n",
              "      <th>CCL3L3 (414062)</th>\n",
              "      <th>OR13C2 (392376)</th>\n",
              "      <th>ZNF727 (442319)</th>\n",
              "      <th>DUX4 (100288687)</th>\n",
              "      <th>LYPD8 (646627)</th>\n",
              "      <th>CCL15 (6359)</th>\n",
              "      <th>POLR2J2 (246721)</th>\n",
              "      <th>MTRNR2L12 (100462981)</th>\n",
              "      <th>UGT2A1 (10941)</th>\n",
              "      <th>ZNF8 (7554)</th>\n",
              "    </tr>\n",
              "  </thead>\n",
              "  <tbody>\n",
              "    <tr>\n",
              "      <th>0</th>\n",
              "      <td>ACH-001113</td>\n",
              "      <td>4.990501</td>\n",
              "      <td>0.000000</td>\n",
              "      <td>7.273702</td>\n",
              "      <td>2.765535</td>\n",
              "      <td>4.480265</td>\n",
              "      <td>0.028569</td>\n",
              "      <td>1.269033</td>\n",
              "      <td>3.058316</td>\n",
              "      <td>6.483171</td>\n",
              "      <td>5.053980</td>\n",
              "      <td>3.456806</td>\n",
              "      <td>4.415488</td>\n",
              "      <td>4.766595</td>\n",
              "      <td>2.280956</td>\n",
              "      <td>3.237258</td>\n",
              "      <td>0.000000</td>\n",
              "      <td>5.125982</td>\n",
              "      <td>6.636770</td>\n",
              "      <td>5.638364</td>\n",
              "      <td>3.881665</td>\n",
              "      <td>5.156639</td>\n",
              "      <td>4.775051</td>\n",
              "      <td>5.904966</td>\n",
              "      <td>0.097611</td>\n",
              "      <td>0.111031</td>\n",
              "      <td>0.042644</td>\n",
              "      <td>2.847997</td>\n",
              "      <td>3.336283</td>\n",
              "      <td>5.371210</td>\n",
              "      <td>4.313971</td>\n",
              "      <td>0.000000</td>\n",
              "      <td>7.536830</td>\n",
              "      <td>5.207893</td>\n",
              "      <td>2.965323</td>\n",
              "      <td>1.922198</td>\n",
              "      <td>2.049631</td>\n",
              "      <td>4.478972</td>\n",
              "      <td>2.077243</td>\n",
              "      <td>5.101818</td>\n",
              "      <td>...</td>\n",
              "      <td>0.0</td>\n",
              "      <td>0.422233</td>\n",
              "      <td>0.028569</td>\n",
              "      <td>4.330558</td>\n",
              "      <td>0.097611</td>\n",
              "      <td>0.0</td>\n",
              "      <td>5.081936</td>\n",
              "      <td>6.491051</td>\n",
              "      <td>0.0</td>\n",
              "      <td>0.0</td>\n",
              "      <td>0.000000</td>\n",
              "      <td>0.070389</td>\n",
              "      <td>0.000000</td>\n",
              "      <td>0.0</td>\n",
              "      <td>0.0</td>\n",
              "      <td>1.257011</td>\n",
              "      <td>1.124328</td>\n",
              "      <td>0.000000</td>\n",
              "      <td>2.950468</td>\n",
              "      <td>4.426265</td>\n",
              "      <td>0.0</td>\n",
              "      <td>5.100137</td>\n",
              "      <td>3.166715</td>\n",
              "      <td>4.187451</td>\n",
              "      <td>1.389567</td>\n",
              "      <td>4.753284</td>\n",
              "      <td>0.0</td>\n",
              "      <td>0.000000</td>\n",
              "      <td>0.014355</td>\n",
              "      <td>0.000000</td>\n",
              "      <td>0.214125</td>\n",
              "      <td>0.0</td>\n",
              "      <td>0.000000</td>\n",
              "      <td>0.000000</td>\n",
              "      <td>0.042644</td>\n",
              "      <td>0.000000</td>\n",
              "      <td>2.344828</td>\n",
              "      <td>0.000000</td>\n",
              "      <td>0.0</td>\n",
              "      <td>2.097611</td>\n",
              "    </tr>\n",
              "    <tr>\n",
              "      <th>1</th>\n",
              "      <td>ACH-001289</td>\n",
              "      <td>5.209843</td>\n",
              "      <td>0.545968</td>\n",
              "      <td>7.070604</td>\n",
              "      <td>2.538538</td>\n",
              "      <td>3.510962</td>\n",
              "      <td>0.000000</td>\n",
              "      <td>0.176323</td>\n",
              "      <td>3.836934</td>\n",
              "      <td>4.200850</td>\n",
              "      <td>3.832890</td>\n",
              "      <td>1.910733</td>\n",
              "      <td>3.374344</td>\n",
              "      <td>4.861955</td>\n",
              "      <td>3.625270</td>\n",
              "      <td>1.275007</td>\n",
              "      <td>0.028569</td>\n",
              "      <td>5.177121</td>\n",
              "      <td>7.130313</td>\n",
              "      <td>5.061776</td>\n",
              "      <td>3.023255</td>\n",
              "      <td>5.542258</td>\n",
              "      <td>6.305423</td>\n",
              "      <td>6.641546</td>\n",
              "      <td>0.084064</td>\n",
              "      <td>0.014355</td>\n",
              "      <td>0.275007</td>\n",
              "      <td>0.189034</td>\n",
              "      <td>2.903038</td>\n",
              "      <td>4.955127</td>\n",
              "      <td>4.421560</td>\n",
              "      <td>0.042644</td>\n",
              "      <td>7.133091</td>\n",
              "      <td>2.861955</td>\n",
              "      <td>0.124328</td>\n",
              "      <td>3.513491</td>\n",
              "      <td>4.056584</td>\n",
              "      <td>4.286142</td>\n",
              "      <td>0.333424</td>\n",
              "      <td>4.520422</td>\n",
              "      <td>...</td>\n",
              "      <td>0.0</td>\n",
              "      <td>0.000000</td>\n",
              "      <td>0.111031</td>\n",
              "      <td>3.740928</td>\n",
              "      <td>0.000000</td>\n",
              "      <td>0.0</td>\n",
              "      <td>0.000000</td>\n",
              "      <td>0.000000</td>\n",
              "      <td>0.0</td>\n",
              "      <td>0.0</td>\n",
              "      <td>0.056584</td>\n",
              "      <td>0.014355</td>\n",
              "      <td>0.000000</td>\n",
              "      <td>0.0</td>\n",
              "      <td>0.0</td>\n",
              "      <td>3.831877</td>\n",
              "      <td>2.687061</td>\n",
              "      <td>0.000000</td>\n",
              "      <td>0.000000</td>\n",
              "      <td>0.084064</td>\n",
              "      <td>0.0</td>\n",
              "      <td>3.504620</td>\n",
              "      <td>3.160275</td>\n",
              "      <td>1.298658</td>\n",
              "      <td>0.545968</td>\n",
              "      <td>5.245267</td>\n",
              "      <td>0.0</td>\n",
              "      <td>0.000000</td>\n",
              "      <td>0.226509</td>\n",
              "      <td>0.000000</td>\n",
              "      <td>0.000000</td>\n",
              "      <td>0.0</td>\n",
              "      <td>1.831877</td>\n",
              "      <td>0.028569</td>\n",
              "      <td>0.042644</td>\n",
              "      <td>0.000000</td>\n",
              "      <td>0.286881</td>\n",
              "      <td>0.310340</td>\n",
              "      <td>0.0</td>\n",
              "      <td>1.618239</td>\n",
              "    </tr>\n",
              "    <tr>\n",
              "      <th>2</th>\n",
              "      <td>ACH-001339</td>\n",
              "      <td>3.779260</td>\n",
              "      <td>0.000000</td>\n",
              "      <td>7.346425</td>\n",
              "      <td>2.339137</td>\n",
              "      <td>4.254745</td>\n",
              "      <td>0.056584</td>\n",
              "      <td>1.339137</td>\n",
              "      <td>6.724241</td>\n",
              "      <td>3.671293</td>\n",
              "      <td>3.775051</td>\n",
              "      <td>2.895303</td>\n",
              "      <td>3.613532</td>\n",
              "      <td>4.300856</td>\n",
              "      <td>0.799087</td>\n",
              "      <td>0.275007</td>\n",
              "      <td>0.042644</td>\n",
              "      <td>4.149747</td>\n",
              "      <td>5.655352</td>\n",
              "      <td>4.858976</td>\n",
              "      <td>2.675816</td>\n",
              "      <td>4.560715</td>\n",
              "      <td>6.170125</td>\n",
              "      <td>8.182245</td>\n",
              "      <td>0.389567</td>\n",
              "      <td>0.084064</td>\n",
              "      <td>0.084064</td>\n",
              "      <td>0.084064</td>\n",
              "      <td>5.733625</td>\n",
              "      <td>6.274262</td>\n",
              "      <td>4.407353</td>\n",
              "      <td>0.214125</td>\n",
              "      <td>7.361417</td>\n",
              "      <td>0.137504</td>\n",
              "      <td>0.454176</td>\n",
              "      <td>2.301588</td>\n",
              "      <td>3.317594</td>\n",
              "      <td>3.746313</td>\n",
              "      <td>1.232661</td>\n",
              "      <td>4.750607</td>\n",
              "      <td>...</td>\n",
              "      <td>0.0</td>\n",
              "      <td>0.000000</td>\n",
              "      <td>0.014355</td>\n",
              "      <td>4.732269</td>\n",
              "      <td>0.000000</td>\n",
              "      <td>0.0</td>\n",
              "      <td>0.000000</td>\n",
              "      <td>0.333424</td>\n",
              "      <td>0.0</td>\n",
              "      <td>0.0</td>\n",
              "      <td>0.000000</td>\n",
              "      <td>0.014355</td>\n",
              "      <td>3.157044</td>\n",
              "      <td>0.0</td>\n",
              "      <td>0.0</td>\n",
              "      <td>0.333424</td>\n",
              "      <td>1.321928</td>\n",
              "      <td>0.495695</td>\n",
              "      <td>0.000000</td>\n",
              "      <td>0.056584</td>\n",
              "      <td>0.0</td>\n",
              "      <td>2.680324</td>\n",
              "      <td>3.452859</td>\n",
              "      <td>4.926474</td>\n",
              "      <td>1.803227</td>\n",
              "      <td>4.311067</td>\n",
              "      <td>0.0</td>\n",
              "      <td>0.000000</td>\n",
              "      <td>0.028569</td>\n",
              "      <td>0.000000</td>\n",
              "      <td>0.176323</td>\n",
              "      <td>0.0</td>\n",
              "      <td>0.000000</td>\n",
              "      <td>0.000000</td>\n",
              "      <td>1.475085</td>\n",
              "      <td>0.000000</td>\n",
              "      <td>0.545968</td>\n",
              "      <td>0.189034</td>\n",
              "      <td>0.0</td>\n",
              "      <td>0.799087</td>\n",
              "    </tr>\n",
              "    <tr>\n",
              "      <th>3</th>\n",
              "      <td>ACH-001538</td>\n",
              "      <td>5.726831</td>\n",
              "      <td>0.000000</td>\n",
              "      <td>7.086189</td>\n",
              "      <td>2.543496</td>\n",
              "      <td>3.102658</td>\n",
              "      <td>0.000000</td>\n",
              "      <td>5.914565</td>\n",
              "      <td>6.099716</td>\n",
              "      <td>4.475733</td>\n",
              "      <td>4.294253</td>\n",
              "      <td>2.472488</td>\n",
              "      <td>4.573496</td>\n",
              "      <td>5.314697</td>\n",
              "      <td>3.488001</td>\n",
              "      <td>2.980025</td>\n",
              "      <td>0.028569</td>\n",
              "      <td>3.872829</td>\n",
              "      <td>6.176921</td>\n",
              "      <td>3.714795</td>\n",
              "      <td>2.726831</td>\n",
              "      <td>5.565293</td>\n",
              "      <td>5.230357</td>\n",
              "      <td>6.811728</td>\n",
              "      <td>2.657640</td>\n",
              "      <td>0.084064</td>\n",
              "      <td>0.124328</td>\n",
              "      <td>0.367371</td>\n",
              "      <td>4.161888</td>\n",
              "      <td>6.703211</td>\n",
              "      <td>3.541019</td>\n",
              "      <td>0.070389</td>\n",
              "      <td>7.208478</td>\n",
              "      <td>0.014355</td>\n",
              "      <td>1.124328</td>\n",
              "      <td>3.946731</td>\n",
              "      <td>3.237258</td>\n",
              "      <td>2.931683</td>\n",
              "      <td>2.797013</td>\n",
              "      <td>4.591560</td>\n",
              "      <td>...</td>\n",
              "      <td>0.0</td>\n",
              "      <td>0.321928</td>\n",
              "      <td>0.000000</td>\n",
              "      <td>3.697107</td>\n",
              "      <td>0.000000</td>\n",
              "      <td>0.0</td>\n",
              "      <td>0.000000</td>\n",
              "      <td>0.000000</td>\n",
              "      <td>0.0</td>\n",
              "      <td>0.0</td>\n",
              "      <td>0.028569</td>\n",
              "      <td>0.000000</td>\n",
              "      <td>0.263034</td>\n",
              "      <td>0.0</td>\n",
              "      <td>0.0</td>\n",
              "      <td>2.518535</td>\n",
              "      <td>2.508429</td>\n",
              "      <td>1.682573</td>\n",
              "      <td>0.000000</td>\n",
              "      <td>0.028569</td>\n",
              "      <td>0.0</td>\n",
              "      <td>2.666757</td>\n",
              "      <td>3.040892</td>\n",
              "      <td>4.547820</td>\n",
              "      <td>1.604071</td>\n",
              "      <td>3.257011</td>\n",
              "      <td>0.0</td>\n",
              "      <td>0.014355</td>\n",
              "      <td>0.000000</td>\n",
              "      <td>0.042644</td>\n",
              "      <td>0.000000</td>\n",
              "      <td>0.0</td>\n",
              "      <td>0.475085</td>\n",
              "      <td>0.000000</td>\n",
              "      <td>0.863938</td>\n",
              "      <td>0.056584</td>\n",
              "      <td>0.275007</td>\n",
              "      <td>0.298658</td>\n",
              "      <td>0.0</td>\n",
              "      <td>2.111031</td>\n",
              "    </tr>\n",
              "    <tr>\n",
              "      <th>4</th>\n",
              "      <td>ACH-000242</td>\n",
              "      <td>7.465648</td>\n",
              "      <td>0.000000</td>\n",
              "      <td>6.435462</td>\n",
              "      <td>2.414136</td>\n",
              "      <td>3.864929</td>\n",
              "      <td>0.831877</td>\n",
              "      <td>7.198003</td>\n",
              "      <td>5.452530</td>\n",
              "      <td>7.112492</td>\n",
              "      <td>4.710944</td>\n",
              "      <td>1.914565</td>\n",
              "      <td>2.746313</td>\n",
              "      <td>5.010780</td>\n",
              "      <td>0.871844</td>\n",
              "      <td>5.815319</td>\n",
              "      <td>0.070389</td>\n",
              "      <td>4.269033</td>\n",
              "      <td>6.759156</td>\n",
              "      <td>4.878725</td>\n",
              "      <td>3.157044</td>\n",
              "      <td>6.103917</td>\n",
              "      <td>5.683135</td>\n",
              "      <td>7.321026</td>\n",
              "      <td>3.247928</td>\n",
              "      <td>0.014355</td>\n",
              "      <td>0.014355</td>\n",
              "      <td>0.000000</td>\n",
              "      <td>4.205549</td>\n",
              "      <td>7.029342</td>\n",
              "      <td>4.006298</td>\n",
              "      <td>0.000000</td>\n",
              "      <td>7.275752</td>\n",
              "      <td>2.025029</td>\n",
              "      <td>0.669027</td>\n",
              "      <td>5.591859</td>\n",
              "      <td>2.528571</td>\n",
              "      <td>3.613532</td>\n",
              "      <td>1.992768</td>\n",
              "      <td>4.440288</td>\n",
              "      <td>...</td>\n",
              "      <td>0.0</td>\n",
              "      <td>2.107688</td>\n",
              "      <td>0.014355</td>\n",
              "      <td>4.683135</td>\n",
              "      <td>0.000000</td>\n",
              "      <td>0.0</td>\n",
              "      <td>0.137504</td>\n",
              "      <td>0.226509</td>\n",
              "      <td>0.0</td>\n",
              "      <td>0.0</td>\n",
              "      <td>0.000000</td>\n",
              "      <td>0.014355</td>\n",
              "      <td>0.000000</td>\n",
              "      <td>0.0</td>\n",
              "      <td>0.0</td>\n",
              "      <td>3.598127</td>\n",
              "      <td>0.887525</td>\n",
              "      <td>0.124328</td>\n",
              "      <td>0.084064</td>\n",
              "      <td>0.310340</td>\n",
              "      <td>0.0</td>\n",
              "      <td>3.752749</td>\n",
              "      <td>3.377124</td>\n",
              "      <td>2.107688</td>\n",
              "      <td>0.823749</td>\n",
              "      <td>3.528571</td>\n",
              "      <td>0.0</td>\n",
              "      <td>0.000000</td>\n",
              "      <td>0.014355</td>\n",
              "      <td>0.000000</td>\n",
              "      <td>0.000000</td>\n",
              "      <td>0.0</td>\n",
              "      <td>0.000000</td>\n",
              "      <td>0.000000</td>\n",
              "      <td>0.000000</td>\n",
              "      <td>0.454176</td>\n",
              "      <td>2.718088</td>\n",
              "      <td>0.150560</td>\n",
              "      <td>0.0</td>\n",
              "      <td>2.467279</td>\n",
              "    </tr>\n",
              "  </tbody>\n",
              "</table>\n",
              "<p>5 rows × 18972 columns</p>\n",
              "</div>"
            ],
            "text/plain": [
              "    DepMap_ID  TSPAN6 (7105)  ...  UGT2A1 (10941)  ZNF8 (7554)\n",
              "0  ACH-001113       4.990501  ...             0.0     2.097611\n",
              "1  ACH-001289       5.209843  ...             0.0     1.618239\n",
              "2  ACH-001339       3.779260  ...             0.0     0.799087\n",
              "3  ACH-001538       5.726831  ...             0.0     2.111031\n",
              "4  ACH-000242       7.465648  ...             0.0     2.467279\n",
              "\n",
              "[5 rows x 18972 columns]"
            ]
          },
          "metadata": {
            "tags": []
          },
          "execution_count": 9
        }
      ]
    },
    {
      "cell_type": "code",
      "metadata": {
        "colab": {
          "base_uri": "https://localhost:8080/"
        },
        "id": "OFPHkKhh2cNh",
        "outputId": "0f149975-9d7c-44be-ae50-5d57cd8907fc"
      },
      "source": [
        "#### intersecting columns\n",
        "len(set(list(ccle_chosen.DepMap_ID.unique())).intersection(list(sanger_dose_response.ARXSPAN_ID.unique())))"
      ],
      "execution_count": 10,
      "outputs": [
        {
          "output_type": "execute_result",
          "data": {
            "text/plain": [
              "692"
            ]
          },
          "metadata": {
            "tags": []
          },
          "execution_count": 10
        }
      ]
    },
    {
      "cell_type": "code",
      "metadata": {
        "colab": {
          "base_uri": "https://localhost:8080/",
          "height": 482
        },
        "id": "YhfxanN75NIZ",
        "outputId": "4408e8e3-d8cb-483e-a0f3-c50c3ac5dce7"
      },
      "source": [
        "#### CHOSEN DRUGS\n",
        "\n",
        "sanger_dose_response_filt = sanger_dose_response[(sanger_dose_response.DRUG_NAME.str.contains(\"BORTEZOMIB\"))\n",
        "                                                | (sanger_dose_response.DRUG_NAME.str.contains(\"LENALIDOMIDE\"))\n",
        "                                                ]\n",
        "\n",
        "sanger_dose_response_filt = sanger_dose_response_filt.rename(columns={'ARXSPAN_ID':'DepMap_ID'})\n",
        "sanger_dose_response_filt.head()"
      ],
      "execution_count": 11,
      "outputs": [
        {
          "output_type": "execute_result",
          "data": {
            "text/html": [
              "<div>\n",
              "<style scoped>\n",
              "    .dataframe tbody tr th:only-of-type {\n",
              "        vertical-align: middle;\n",
              "    }\n",
              "\n",
              "    .dataframe tbody tr th {\n",
              "        vertical-align: top;\n",
              "    }\n",
              "\n",
              "    .dataframe thead th {\n",
              "        text-align: right;\n",
              "    }\n",
              "</style>\n",
              "<table border=\"1\" class=\"dataframe\">\n",
              "  <thead>\n",
              "    <tr style=\"text-align: right;\">\n",
              "      <th></th>\n",
              "      <th>DATASET</th>\n",
              "      <th>COSMIC_ID</th>\n",
              "      <th>DRUG_ID</th>\n",
              "      <th>MIN_CONC</th>\n",
              "      <th>MAX_CONC</th>\n",
              "      <th>RMSE_PUBLISHED</th>\n",
              "      <th>Z_SCORE_PUBLISHED</th>\n",
              "      <th>IC50_PUBLISHED</th>\n",
              "      <th>AUC_PUBLISHED</th>\n",
              "      <th>DepMap_ID</th>\n",
              "      <th>DRUG_NAME</th>\n",
              "      <th>BROAD_ID</th>\n",
              "      <th>upper_limit</th>\n",
              "      <th>ec50</th>\n",
              "      <th>slope</th>\n",
              "      <th>lower_limit</th>\n",
              "      <th>auc</th>\n",
              "      <th>log2.ic50</th>\n",
              "      <th>mse</th>\n",
              "      <th>R2</th>\n",
              "    </tr>\n",
              "  </thead>\n",
              "  <tbody>\n",
              "    <tr>\n",
              "      <th>13983</th>\n",
              "      <td>GDSC1</td>\n",
              "      <td>683665</td>\n",
              "      <td>104</td>\n",
              "      <td>0.000078</td>\n",
              "      <td>0.02</td>\n",
              "      <td>0.046684</td>\n",
              "      <td>1.130432</td>\n",
              "      <td>0.021828</td>\n",
              "      <td>0.904474</td>\n",
              "      <td>ACH-002270</td>\n",
              "      <td>BORTEZOMIB</td>\n",
              "      <td>BRD-K88510285, BRD-K50691590</td>\n",
              "      <td>0.999539</td>\n",
              "      <td>0.008465</td>\n",
              "      <td>-4.458199</td>\n",
              "      <td>0.623148</td>\n",
              "      <td>0.940851</td>\n",
              "      <td>NaN</td>\n",
              "      <td>0.000002</td>\n",
              "      <td>0.999863</td>\n",
              "    </tr>\n",
              "    <tr>\n",
              "      <th>13984</th>\n",
              "      <td>GDSC1</td>\n",
              "      <td>684055</td>\n",
              "      <td>104</td>\n",
              "      <td>0.000078</td>\n",
              "      <td>0.02</td>\n",
              "      <td>0.073249</td>\n",
              "      <td>1.096829</td>\n",
              "      <td>0.020736</td>\n",
              "      <td>0.878211</td>\n",
              "      <td>ACH-002104</td>\n",
              "      <td>BORTEZOMIB</td>\n",
              "      <td>BRD-K88510285, BRD-K50691590</td>\n",
              "      <td>0.932104</td>\n",
              "      <td>0.140797</td>\n",
              "      <td>-0.942870</td>\n",
              "      <td>-1.053446</td>\n",
              "      <td>0.876455</td>\n",
              "      <td>NaN</td>\n",
              "      <td>0.000454</td>\n",
              "      <td>0.942287</td>\n",
              "    </tr>\n",
              "    <tr>\n",
              "      <th>13985</th>\n",
              "      <td>GDSC1</td>\n",
              "      <td>684057</td>\n",
              "      <td>104</td>\n",
              "      <td>0.000078</td>\n",
              "      <td>0.02</td>\n",
              "      <td>0.044637</td>\n",
              "      <td>0.771651</td>\n",
              "      <td>0.012617</td>\n",
              "      <td>0.805579</td>\n",
              "      <td>ACH-002106</td>\n",
              "      <td>BORTEZOMIB</td>\n",
              "      <td>BRD-K88510285, BRD-K50691590</td>\n",
              "      <td>0.969575</td>\n",
              "      <td>0.003276</td>\n",
              "      <td>-2.188257</td>\n",
              "      <td>0.603120</td>\n",
              "      <td>0.849451</td>\n",
              "      <td>NaN</td>\n",
              "      <td>0.000091</td>\n",
              "      <td>0.995597</td>\n",
              "    </tr>\n",
              "    <tr>\n",
              "      <th>13986</th>\n",
              "      <td>GDSC1</td>\n",
              "      <td>684062</td>\n",
              "      <td>104</td>\n",
              "      <td>0.000078</td>\n",
              "      <td>0.02</td>\n",
              "      <td>0.017647</td>\n",
              "      <td>1.868700</td>\n",
              "      <td>0.067439</td>\n",
              "      <td>0.919632</td>\n",
              "      <td>ACH-002111</td>\n",
              "      <td>BORTEZOMIB</td>\n",
              "      <td>BRD-K88510285, BRD-K50691590</td>\n",
              "      <td>0.998453</td>\n",
              "      <td>0.855216</td>\n",
              "      <td>-0.749972</td>\n",
              "      <td>-2.789605</td>\n",
              "      <td>0.946393</td>\n",
              "      <td>NaN</td>\n",
              "      <td>0.000127</td>\n",
              "      <td>0.972637</td>\n",
              "    </tr>\n",
              "    <tr>\n",
              "      <th>13987</th>\n",
              "      <td>GDSC1</td>\n",
              "      <td>684072</td>\n",
              "      <td>104</td>\n",
              "      <td>0.000078</td>\n",
              "      <td>0.02</td>\n",
              "      <td>0.053408</td>\n",
              "      <td>1.098944</td>\n",
              "      <td>0.020803</td>\n",
              "      <td>0.869446</td>\n",
              "      <td>ACH-000087</td>\n",
              "      <td>BORTEZOMIB</td>\n",
              "      <td>BRD-K88510285, BRD-K50691590</td>\n",
              "      <td>0.977212</td>\n",
              "      <td>0.036327</td>\n",
              "      <td>-1.164436</td>\n",
              "      <td>-0.190464</td>\n",
              "      <td>0.904139</td>\n",
              "      <td>NaN</td>\n",
              "      <td>0.001364</td>\n",
              "      <td>0.919461</td>\n",
              "    </tr>\n",
              "  </tbody>\n",
              "</table>\n",
              "</div>"
            ],
            "text/plain": [
              "      DATASET  COSMIC_ID  DRUG_ID  ...  log2.ic50       mse        R2\n",
              "13983   GDSC1     683665      104  ...        NaN  0.000002  0.999863\n",
              "13984   GDSC1     684055      104  ...        NaN  0.000454  0.942287\n",
              "13985   GDSC1     684057      104  ...        NaN  0.000091  0.995597\n",
              "13986   GDSC1     684062      104  ...        NaN  0.000127  0.972637\n",
              "13987   GDSC1     684072      104  ...        NaN  0.001364  0.919461\n",
              "\n",
              "[5 rows x 20 columns]"
            ]
          },
          "metadata": {
            "tags": []
          },
          "execution_count": 11
        }
      ]
    },
    {
      "cell_type": "code",
      "metadata": {
        "id": "Zw22jTOI9Fki"
      },
      "source": [
        "merged_df = sanger_dose_response_filt.merge(ccle_chosen, on= 'DepMap_ID')[list(ccle_chosen.columns)+['DRUG_NAME','IC50_PUBLISHED']]\n",
        "merged_df['log(IC_50)'] = merged_df.IC50_PUBLISHED.apply(np.log10)\n",
        "merged_df_bort = merged_df[merged_df.DRUG_NAME == 'BORTEZOMIB'].drop_duplicates()\n",
        "merged_df_lenal = merged_df[merged_df.DRUG_NAME == 'LENALIDOMIDE'].drop_duplicates()\n",
        "bort_labels = merged_df_bort['log(IC_50)']\n",
        "lenal_labels = merged_df_lenal['log(IC_50)']\n",
        "bort_data = merged_df_bort.drop(columns = ['DepMap_ID','IC50_PUBLISHED','DRUG_NAME','log(IC_50)'])\n",
        "lenal_data = merged_df_lenal.drop(columns = ['DepMap_ID','IC50_PUBLISHED','DRUG_NAME','log(IC_50)'])\n",
        "bort_train, bort_test, labels_bort_train, labels_bort_test = train_test_split(bort_data,bort_labels,random_state=42, train_size=0.7)\n",
        "lenal_train, lenal_test, labels_lenal_train, labels_lenal_test = train_test_split(lenal_data,lenal_labels,random_state=42, train_size=0.7)"
      ],
      "execution_count": 12,
      "outputs": []
    },
    {
      "cell_type": "code",
      "metadata": {
        "id": "oLbiRPq0-jMA"
      },
      "source": [
        "class RegressiveHyperModel(HyperModel):\n",
        "    def __init__(self, input_shape):\n",
        "        self.input_shape = input_shape\n",
        "    def build(self, hp):\n",
        "        model = models.Sequential()\n",
        "        model.add(\n",
        "            layers.Dropout(\n",
        "                hp.Float(\n",
        "                    'dropout',\n",
        "                    min_value=0.0,\n",
        "                    max_value=1.0,\n",
        "                    default=0.2,\n",
        "                    step=0.1),\n",
        "                    input_shape= input_shape\n",
        "            )   \n",
        "        )\n",
        "        model.add(\n",
        "            layers.Dense(\n",
        "                units=hp.Int('units', 128,1024, 128, default=1024),\n",
        "                activation=hp.Choice(\n",
        "                    'dense_activation',\n",
        "                    values=['relu', 'tanh', 'sigmoid','elu'],\n",
        "                    default='relu'),\n",
        "                kernel_regularizer= regularizers.l1(hp.Choice('reg_value',\n",
        "                        values=[10.0**i for i in np.arange(0,-5,-1)]))\n",
        "            )\n",
        "        )\n",
        "\n",
        "        model.add(\n",
        "            layers.Dropout(\n",
        "                hp.Float(\n",
        "                    'dropout',\n",
        "                    min_value=0.0,\n",
        "                    max_value=1.0,\n",
        "                    default=0.5,\n",
        "                    step=0.1)\n",
        "            )\n",
        "        )\n",
        "\n",
        "        model.add(\n",
        "          layers.Dense(\n",
        "              units=hp.Int('units', 32,128,32, default=138),\n",
        "              activation=hp.Choice(\n",
        "                  'dense_activation',\n",
        "                  values=['relu', 'tanh', 'sigmoid','elu'],\n",
        "                  default='relu'),\n",
        "              kernel_regularizer= regularizers.l1(hp.Choice('reg_value',\n",
        "                        values=[10.0**i for i in np.arange(0,-5,-1)]))\n",
        "          )\n",
        "        )\n",
        "\n",
        "        model.add(\n",
        "            layers.Dropout(\n",
        "                hp.Float(\n",
        "                    'dropout',\n",
        "                    min_value=0.0,\n",
        "                    max_value=1.0,\n",
        "                    default=0.5,\n",
        "                    step=0.1)\n",
        "            )\n",
        "        )\n",
        "\n",
        "        model.add(\n",
        "          layers.Dense(\n",
        "              units=1,\n",
        "              activation=hp.Choice(\n",
        "                  'dense_activation',\n",
        "                  values=['relu', 'tanh', 'sigmoid','elu'],\n",
        "                  default='relu'),\n",
        "              kernel_regularizer= regularizers.l1(hp.Choice('reg_value',\n",
        "                        values=[10.0**i for i in np.arange(0,-5,-1)]))\n",
        "          )\n",
        "        )\n",
        "\n",
        "        model.compile(\n",
        "             optimizer = Adam(hp.Choice('learning_rate',\n",
        "                          values=[1e-1,1e-2, 1e-3, 1e-4])),\n",
        "                          loss='mse',metrics=['mse']\n",
        "        )\n",
        "\n",
        "        return model"
      ],
      "execution_count": 18,
      "outputs": []
    },
    {
      "cell_type": "markdown",
      "metadata": {
        "id": "aaUz7u_mq_jr"
      },
      "source": [
        "##  Bortezomib"
      ]
    },
    {
      "cell_type": "code",
      "metadata": {
        "id": "9_X45bSRq2x6"
      },
      "source": [
        "input_shape = (bort_train.shape[1],)\n",
        "hypermodel_1 = RegressiveHyperModel(input_shape)"
      ],
      "execution_count": 31,
      "outputs": []
    },
    {
      "cell_type": "code",
      "metadata": {
        "colab": {
          "base_uri": "https://localhost:8080/"
        },
        "id": "TAV04A8yrRdN",
        "outputId": "0a3c8fff-7bf5-4480-b777-aaeff2323820"
      },
      "source": [
        "\n",
        "### using bayesian hyperparamter optimization\n",
        "tuner_bo_1 = BayesianOptimization(\n",
        "            hypermodel_1,\n",
        "            objective='mse',\n",
        "            max_trials=10,\n",
        "            seed=42,\n",
        "            executions_per_trial=2\n",
        "        )\n",
        "tuner_bo_1.search(bort_train, labels_bort_train, epochs=10, validation_split=0.2, verbose=1)\n",
        "best_model = tuner_bo_1.get_best_models(num_models=1)[0]"
      ],
      "execution_count": 32,
      "outputs": [
        {
          "output_type": "stream",
          "text": [
            "INFO:tensorflow:Reloading Oracle from existing project ./untitled_project/oracle.json\n"
          ],
          "name": "stdout"
        },
        {
          "output_type": "stream",
          "text": [
            "INFO:tensorflow:Reloading Oracle from existing project ./untitled_project/oracle.json\n"
          ],
          "name": "stderr"
        },
        {
          "output_type": "stream",
          "text": [
            "INFO:tensorflow:Reloading Tuner from ./untitled_project/tuner0.json\n"
          ],
          "name": "stdout"
        },
        {
          "output_type": "stream",
          "text": [
            "INFO:tensorflow:Reloading Tuner from ./untitled_project/tuner0.json\n"
          ],
          "name": "stderr"
        },
        {
          "output_type": "stream",
          "text": [
            "INFO:tensorflow:Oracle triggered exit\n"
          ],
          "name": "stdout"
        },
        {
          "output_type": "stream",
          "text": [
            "INFO:tensorflow:Oracle triggered exit\n"
          ],
          "name": "stderr"
        }
      ]
    },
    {
      "cell_type": "code",
      "metadata": {
        "colab": {
          "base_uri": "https://localhost:8080/"
        },
        "id": "3ukZUYAHszMr",
        "outputId": "cb2b23b4-357c-417c-dc9e-c546026c878b"
      },
      "source": [
        "best_model"
      ],
      "execution_count": 33,
      "outputs": [
        {
          "output_type": "execute_result",
          "data": {
            "text/plain": [
              "<tensorflow.python.keras.engine.sequential.Sequential at 0x7fa80e1b7410>"
            ]
          },
          "metadata": {
            "tags": []
          },
          "execution_count": 33
        }
      ]
    },
    {
      "cell_type": "code",
      "metadata": {
        "colab": {
          "base_uri": "https://localhost:8080/"
        },
        "id": "74pGWEAusxIQ",
        "outputId": "901c2d39-3bca-472d-d631-111bbebec277"
      },
      "source": [
        "best_model.evaluate(bort_test, labels_bort_test)"
      ],
      "execution_count": 35,
      "outputs": [
        {
          "output_type": "stream",
          "text": [
            "8/8 [==============================] - 0s 12ms/step - loss: 3544.6482 - mse: 1.5128\n"
          ],
          "name": "stdout"
        },
        {
          "output_type": "execute_result",
          "data": {
            "text/plain": [
              "[3544.648193359375, 1.5127743482589722]"
            ]
          },
          "metadata": {
            "tags": []
          },
          "execution_count": 35
        }
      ]
    },
    {
      "cell_type": "markdown",
      "metadata": {
        "id": "Qq_0pdI1vEOH"
      },
      "source": [
        "## Lenalidomide"
      ]
    },
    {
      "cell_type": "code",
      "metadata": {
        "id": "inbYxnwwvawx"
      },
      "source": [
        "input_shape_2 = (lenal_train.shape[1],)\n",
        "hypermodel_2 = RegressiveHyperModel(input_shape_2)"
      ],
      "execution_count": 26,
      "outputs": []
    },
    {
      "cell_type": "code",
      "metadata": {
        "colab": {
          "base_uri": "https://localhost:8080/"
        },
        "id": "V5uTrxDlvi1r",
        "outputId": "2ddd727f-3ce7-4ef2-aa43-3eea0b3645b4"
      },
      "source": [
        "### using bayesian hyperparamter optimization\n",
        "tuner_bo_2 = BayesianOptimization(\n",
        "            hypermodel_2,\n",
        "            objective='mse',\n",
        "            max_trials=10,\n",
        "            seed=42,\n",
        "            executions_per_trial=2\n",
        "        )\n",
        "tuner_bo_2.search(lenal_train, labels_lenal_train, epochs=10, validation_split=0.2, verbose=1)\n",
        "best_model_2 = tuner_bo_2.get_best_models(num_models=1)[0]"
      ],
      "execution_count": 27,
      "outputs": [
        {
          "output_type": "stream",
          "text": [
            "INFO:tensorflow:Reloading Oracle from existing project ./untitled_project/oracle.json\n"
          ],
          "name": "stdout"
        },
        {
          "output_type": "stream",
          "text": [
            "INFO:tensorflow:Reloading Oracle from existing project ./untitled_project/oracle.json\n"
          ],
          "name": "stderr"
        },
        {
          "output_type": "stream",
          "text": [
            "WARNING:tensorflow:Unresolved object in checkpoint: (root).layer_with_weights-0.bias\n"
          ],
          "name": "stdout"
        },
        {
          "output_type": "stream",
          "text": [
            "WARNING:tensorflow:Unresolved object in checkpoint: (root).layer_with_weights-0.bias\n"
          ],
          "name": "stderr"
        },
        {
          "output_type": "stream",
          "text": [
            "WARNING:tensorflow:Unresolved object in checkpoint: (root).layer_with_weights-1.kernel\n"
          ],
          "name": "stdout"
        },
        {
          "output_type": "stream",
          "text": [
            "WARNING:tensorflow:Unresolved object in checkpoint: (root).layer_with_weights-1.kernel\n"
          ],
          "name": "stderr"
        },
        {
          "output_type": "stream",
          "text": [
            "WARNING:tensorflow:Unresolved object in checkpoint: (root).layer_with_weights-1.bias\n"
          ],
          "name": "stdout"
        },
        {
          "output_type": "stream",
          "text": [
            "WARNING:tensorflow:Unresolved object in checkpoint: (root).layer_with_weights-1.bias\n"
          ],
          "name": "stderr"
        },
        {
          "output_type": "stream",
          "text": [
            "WARNING:tensorflow:Unresolved object in checkpoint: (root).layer_with_weights-2.kernel\n"
          ],
          "name": "stdout"
        },
        {
          "output_type": "stream",
          "text": [
            "WARNING:tensorflow:Unresolved object in checkpoint: (root).layer_with_weights-2.kernel\n"
          ],
          "name": "stderr"
        },
        {
          "output_type": "stream",
          "text": [
            "WARNING:tensorflow:Unresolved object in checkpoint: (root).layer_with_weights-2.bias\n"
          ],
          "name": "stdout"
        },
        {
          "output_type": "stream",
          "text": [
            "WARNING:tensorflow:Unresolved object in checkpoint: (root).layer_with_weights-2.bias\n"
          ],
          "name": "stderr"
        },
        {
          "output_type": "stream",
          "text": [
            "WARNING:tensorflow:Unresolved object in checkpoint: (root).optimizer.iter\n"
          ],
          "name": "stdout"
        },
        {
          "output_type": "stream",
          "text": [
            "WARNING:tensorflow:Unresolved object in checkpoint: (root).optimizer.iter\n"
          ],
          "name": "stderr"
        },
        {
          "output_type": "stream",
          "text": [
            "WARNING:tensorflow:Unresolved object in checkpoint: (root).optimizer.beta_1\n"
          ],
          "name": "stdout"
        },
        {
          "output_type": "stream",
          "text": [
            "WARNING:tensorflow:Unresolved object in checkpoint: (root).optimizer.beta_1\n"
          ],
          "name": "stderr"
        },
        {
          "output_type": "stream",
          "text": [
            "WARNING:tensorflow:Unresolved object in checkpoint: (root).optimizer.beta_2\n"
          ],
          "name": "stdout"
        },
        {
          "output_type": "stream",
          "text": [
            "WARNING:tensorflow:Unresolved object in checkpoint: (root).optimizer.beta_2\n"
          ],
          "name": "stderr"
        },
        {
          "output_type": "stream",
          "text": [
            "WARNING:tensorflow:Unresolved object in checkpoint: (root).optimizer.decay\n"
          ],
          "name": "stdout"
        },
        {
          "output_type": "stream",
          "text": [
            "WARNING:tensorflow:Unresolved object in checkpoint: (root).optimizer.decay\n"
          ],
          "name": "stderr"
        },
        {
          "output_type": "stream",
          "text": [
            "WARNING:tensorflow:Unresolved object in checkpoint: (root).optimizer.learning_rate\n"
          ],
          "name": "stdout"
        },
        {
          "output_type": "stream",
          "text": [
            "WARNING:tensorflow:Unresolved object in checkpoint: (root).optimizer.learning_rate\n"
          ],
          "name": "stderr"
        },
        {
          "output_type": "stream",
          "text": [
            "WARNING:tensorflow:Unresolved object in checkpoint: (root).optimizer's state 'm' for (root).layer_with_weights-0.kernel\n"
          ],
          "name": "stdout"
        },
        {
          "output_type": "stream",
          "text": [
            "WARNING:tensorflow:Unresolved object in checkpoint: (root).optimizer's state 'm' for (root).layer_with_weights-0.kernel\n"
          ],
          "name": "stderr"
        },
        {
          "output_type": "stream",
          "text": [
            "WARNING:tensorflow:Unresolved object in checkpoint: (root).optimizer's state 'm' for (root).layer_with_weights-0.bias\n"
          ],
          "name": "stdout"
        },
        {
          "output_type": "stream",
          "text": [
            "WARNING:tensorflow:Unresolved object in checkpoint: (root).optimizer's state 'm' for (root).layer_with_weights-0.bias\n"
          ],
          "name": "stderr"
        },
        {
          "output_type": "stream",
          "text": [
            "WARNING:tensorflow:Unresolved object in checkpoint: (root).optimizer's state 'm' for (root).layer_with_weights-1.kernel\n"
          ],
          "name": "stdout"
        },
        {
          "output_type": "stream",
          "text": [
            "WARNING:tensorflow:Unresolved object in checkpoint: (root).optimizer's state 'm' for (root).layer_with_weights-1.kernel\n"
          ],
          "name": "stderr"
        },
        {
          "output_type": "stream",
          "text": [
            "WARNING:tensorflow:Unresolved object in checkpoint: (root).optimizer's state 'm' for (root).layer_with_weights-1.bias\n"
          ],
          "name": "stdout"
        },
        {
          "output_type": "stream",
          "text": [
            "WARNING:tensorflow:Unresolved object in checkpoint: (root).optimizer's state 'm' for (root).layer_with_weights-1.bias\n"
          ],
          "name": "stderr"
        },
        {
          "output_type": "stream",
          "text": [
            "WARNING:tensorflow:Unresolved object in checkpoint: (root).optimizer's state 'm' for (root).layer_with_weights-2.kernel\n"
          ],
          "name": "stdout"
        },
        {
          "output_type": "stream",
          "text": [
            "WARNING:tensorflow:Unresolved object in checkpoint: (root).optimizer's state 'm' for (root).layer_with_weights-2.kernel\n"
          ],
          "name": "stderr"
        },
        {
          "output_type": "stream",
          "text": [
            "WARNING:tensorflow:Unresolved object in checkpoint: (root).optimizer's state 'm' for (root).layer_with_weights-2.bias\n"
          ],
          "name": "stdout"
        },
        {
          "output_type": "stream",
          "text": [
            "WARNING:tensorflow:Unresolved object in checkpoint: (root).optimizer's state 'm' for (root).layer_with_weights-2.bias\n"
          ],
          "name": "stderr"
        },
        {
          "output_type": "stream",
          "text": [
            "WARNING:tensorflow:Unresolved object in checkpoint: (root).optimizer's state 'v' for (root).layer_with_weights-0.kernel\n"
          ],
          "name": "stdout"
        },
        {
          "output_type": "stream",
          "text": [
            "WARNING:tensorflow:Unresolved object in checkpoint: (root).optimizer's state 'v' for (root).layer_with_weights-0.kernel\n"
          ],
          "name": "stderr"
        },
        {
          "output_type": "stream",
          "text": [
            "WARNING:tensorflow:Unresolved object in checkpoint: (root).optimizer's state 'v' for (root).layer_with_weights-0.bias\n"
          ],
          "name": "stdout"
        },
        {
          "output_type": "stream",
          "text": [
            "WARNING:tensorflow:Unresolved object in checkpoint: (root).optimizer's state 'v' for (root).layer_with_weights-0.bias\n"
          ],
          "name": "stderr"
        },
        {
          "output_type": "stream",
          "text": [
            "WARNING:tensorflow:Unresolved object in checkpoint: (root).optimizer's state 'v' for (root).layer_with_weights-1.kernel\n"
          ],
          "name": "stdout"
        },
        {
          "output_type": "stream",
          "text": [
            "WARNING:tensorflow:Unresolved object in checkpoint: (root).optimizer's state 'v' for (root).layer_with_weights-1.kernel\n"
          ],
          "name": "stderr"
        },
        {
          "output_type": "stream",
          "text": [
            "WARNING:tensorflow:Unresolved object in checkpoint: (root).optimizer's state 'v' for (root).layer_with_weights-1.bias\n"
          ],
          "name": "stdout"
        },
        {
          "output_type": "stream",
          "text": [
            "WARNING:tensorflow:Unresolved object in checkpoint: (root).optimizer's state 'v' for (root).layer_with_weights-1.bias\n"
          ],
          "name": "stderr"
        },
        {
          "output_type": "stream",
          "text": [
            "WARNING:tensorflow:Unresolved object in checkpoint: (root).optimizer's state 'v' for (root).layer_with_weights-2.kernel\n"
          ],
          "name": "stdout"
        },
        {
          "output_type": "stream",
          "text": [
            "WARNING:tensorflow:Unresolved object in checkpoint: (root).optimizer's state 'v' for (root).layer_with_weights-2.kernel\n"
          ],
          "name": "stderr"
        },
        {
          "output_type": "stream",
          "text": [
            "WARNING:tensorflow:Unresolved object in checkpoint: (root).optimizer's state 'v' for (root).layer_with_weights-2.bias\n"
          ],
          "name": "stdout"
        },
        {
          "output_type": "stream",
          "text": [
            "WARNING:tensorflow:Unresolved object in checkpoint: (root).optimizer's state 'v' for (root).layer_with_weights-2.bias\n"
          ],
          "name": "stderr"
        },
        {
          "output_type": "stream",
          "text": [
            "WARNING:tensorflow:A checkpoint was restored (e.g. tf.train.Checkpoint.restore or tf.keras.Model.load_weights) but not all checkpointed values were used. See above for specific issues. Use expect_partial() on the load status object, e.g. tf.train.Checkpoint.restore(...).expect_partial(), to silence these warnings, or use assert_consumed() to make the check explicit. See https://www.tensorflow.org/guide/checkpoint#loading_mechanics for details.\n"
          ],
          "name": "stdout"
        },
        {
          "output_type": "stream",
          "text": [
            "WARNING:tensorflow:A checkpoint was restored (e.g. tf.train.Checkpoint.restore or tf.keras.Model.load_weights) but not all checkpointed values were used. See above for specific issues. Use expect_partial() on the load status object, e.g. tf.train.Checkpoint.restore(...).expect_partial(), to silence these warnings, or use assert_consumed() to make the check explicit. See https://www.tensorflow.org/guide/checkpoint#loading_mechanics for details.\n"
          ],
          "name": "stderr"
        },
        {
          "output_type": "stream",
          "text": [
            "INFO:tensorflow:Reloading Tuner from ./untitled_project/tuner0.json\n"
          ],
          "name": "stdout"
        },
        {
          "output_type": "stream",
          "text": [
            "INFO:tensorflow:Reloading Tuner from ./untitled_project/tuner0.json\n"
          ],
          "name": "stderr"
        },
        {
          "output_type": "stream",
          "text": [
            "INFO:tensorflow:Oracle triggered exit\n"
          ],
          "name": "stdout"
        },
        {
          "output_type": "stream",
          "text": [
            "INFO:tensorflow:Oracle triggered exit\n"
          ],
          "name": "stderr"
        }
      ]
    },
    {
      "cell_type": "code",
      "metadata": {
        "colab": {
          "base_uri": "https://localhost:8080/"
        },
        "id": "Z9epgFXsvoCU",
        "outputId": "47f5295c-0f09-4a97-c89f-7ee6ece3599a"
      },
      "source": [
        "best_model_2"
      ],
      "execution_count": 28,
      "outputs": [
        {
          "output_type": "execute_result",
          "data": {
            "text/plain": [
              "<tensorflow.python.keras.engine.sequential.Sequential at 0x7fa80a24bed0>"
            ]
          },
          "metadata": {
            "tags": []
          },
          "execution_count": 28
        }
      ]
    },
    {
      "cell_type": "code",
      "metadata": {
        "colab": {
          "base_uri": "https://localhost:8080/"
        },
        "id": "lEl6jkINvqZh",
        "outputId": "6730fd1d-2843-4521-b3eb-0e4f2de3a410"
      },
      "source": [
        "best_model_2.evaluate(lenal_test, labels_lenal_test)"
      ],
      "execution_count": 29,
      "outputs": [
        {
          "output_type": "stream",
          "text": [
            "7/7 [==============================] - 0s 11ms/step - loss: 3550.5042 - mse: 7.3689\n"
          ],
          "name": "stdout"
        },
        {
          "output_type": "execute_result",
          "data": {
            "text/plain": [
              "[3550.48828125, 7.352900505065918]"
            ]
          },
          "metadata": {
            "tags": []
          },
          "execution_count": 29
        }
      ]
    },
    {
      "cell_type": "code",
      "metadata": {
        "id": "EpOnJ4UM1U-r"
      },
      "source": [
        ""
      ],
      "execution_count": null,
      "outputs": []
    }
  ]
}