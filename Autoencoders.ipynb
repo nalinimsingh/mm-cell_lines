{
 "cells": [
  {
   "cell_type": "code",
   "execution_count": 1,
   "id": "contrary-dylan",
   "metadata": {},
   "outputs": [],
   "source": [
    "import os\n",
    "\n",
    "import numpy as np\n",
    "import pandas as pd\n",
    "import h5py\n",
    "from matplotlib import pyplot as plt\n",
    "from sklearn.decomposition import PCA\n",
    "from sklearn.linear_model import Lasso, LogisticRegression\n",
    "from sklearn.ensemble import RandomForestClassifier\n",
    "from sklearn.metrics import accuracy_score, precision_score, recall_score, f1_score, roc_auc_score\n",
    "from sklearn.neighbors import KNeighborsClassifier\n",
    "from scipy.stats import spearmanr\n",
    "\n",
    "import tensorflow as tf\n",
    "from tensorflow import keras\n",
    "from keras import layers\n",
    "\n",
    "import utils.CCLE_utils as CCLE_utils\n",
    "import utils.MMRF_utils as MMRF_utils"
   ]
  },
  {
   "cell_type": "code",
   "execution_count": 2,
   "id": "unauthorized-implement",
   "metadata": {},
   "outputs": [],
   "source": [
    "# Suppress excessive warnings \n",
    "tf.compat.v1.logging.set_verbosity(tf.compat.v1.logging.ERROR)"
   ]
  },
  {
   "cell_type": "code",
   "execution_count": 3,
   "id": "fallen-ottawa",
   "metadata": {},
   "outputs": [],
   "source": [
    "ccle_data_fn = '/Users/nalinisingh/datasets/depmap/CCLE_expression.csv'\n",
    "mmrf_data_fn = '/Users/nalinisingh/dev/ml_mmrf/ml_mmrf/output/cleaned_mm_fold_2mos_pfs_ind_seed0.pkl'#%(ind)\n",
    "genomic_fn = '/Users/nalinisingh/datasets/multiple_myeloma/MMRF_CoMMpass_IA15a_E74GTF_Salmon_Gene_TPM.txt'\n",
    "rna_map_path = 'utils/Ensembl_HGNC_map_042421.csv'"
   ]
  },
  {
   "cell_type": "code",
   "execution_count": 4,
   "id": "acting-investing",
   "metadata": {},
   "outputs": [],
   "source": [
    "def normalize_genomic_data(df, mean, std):\n",
    "    std[std<1e-4]=1\n",
    "    norm = ((df-mean)/(std))\n",
    "    norm[norm>10]=0\n",
    "    return norm"
   ]
  },
  {
   "cell_type": "code",
   "execution_count": 5,
   "id": "informative-voltage",
   "metadata": {},
   "outputs": [],
   "source": [
    "np.random.seed(0)"
   ]
  },
  {
   "cell_type": "markdown",
   "id": "adult-andorra",
   "metadata": {},
   "source": [
    "## Load CCLE Data\n",
    "\n",
    "This section loads the CCLE RNA-seq data and splits it into a train, validation, and test set."
   ]
  },
  {
   "cell_type": "code",
   "execution_count": 6,
   "id": "unauthorized-coast",
   "metadata": {},
   "outputs": [],
   "source": [
    "ccle_ensembl = CCLE_utils.get_ccle_rnaseq_with_ensembl(ccle_data_fn, rna_map_path)"
   ]
  },
  {
   "cell_type": "code",
   "execution_count": 7,
   "id": "linear-adelaide",
   "metadata": {},
   "outputs": [],
   "source": [
    "n_points = ccle_ensembl.shape[0]\n",
    "\n",
    "n_train = int(n_points*0.7)\n",
    "n_val = int(n_points*0.1)\n",
    "n_test = n_points-(n_train+n_val)\n",
    "\n",
    "train_ccle_id = ccle_ensembl.loc[:n_train,:]\n",
    "valid_ccle_id = ccle_ensembl.loc[n_train:n_train+n_val,:].reset_index()\n",
    "test_ccle_id = ccle_ensembl.loc[n_train+n_val:,:].reset_index()\n",
    "\n",
    "train_ccle = ccle_ensembl.loc[:n_train,:].drop('Unnamed: 0', axis=1)\n",
    "valid_ccle = ccle_ensembl.loc[n_train:n_train+n_val,:].drop('Unnamed: 0', axis=1)\n",
    "test_ccle = ccle_ensembl.loc[n_train+n_val:,:].drop('Unnamed: 0', axis=1)\n"
   ]
  },
  {
   "cell_type": "code",
   "execution_count": 8,
   "id": "signal-saint",
   "metadata": {},
   "outputs": [],
   "source": [
    "ccle_mean = train_ccle.mean()\n",
    "ccle_std = train_ccle.std()\n",
    "train_ccle = normalize_genomic_data(train_ccle, ccle_mean, ccle_std)\n",
    "valid_ccle = normalize_genomic_data(valid_ccle, ccle_mean, ccle_std)\n",
    "test_ccle = normalize_genomic_data(test_ccle, ccle_mean, ccle_std)"
   ]
  },
  {
   "cell_type": "code",
   "execution_count": 9,
   "id": "judicial-development",
   "metadata": {},
   "outputs": [],
   "source": [
    "np.savez('ccle_constants.npz',ccle_mean=ccle_mean,ccle_std=ccle_std)"
   ]
  },
  {
   "cell_type": "markdown",
   "id": "happy-encyclopedia",
   "metadata": {},
   "source": [
    "# Load MMRF Data\n",
    "\n",
    "This section reads MMRF RNA-seq and outcome data, selects only the genes present in CCLE, and stores the results in dataframes. \n",
    "\n",
    "This section also generates dataframes for just the subset of patients receiving Bortezomib as a first-line treatment."
   ]
  },
  {
   "cell_type": "code",
   "execution_count": 10,
   "id": "direct-coffee",
   "metadata": {},
   "outputs": [
    {
     "name": "stdout",
     "output_type": "stream",
     "text": [
      "loading from: /Users/nalinisingh/dev/ml_mmrf/ml_mmrf/output/cleaned_mm_fold_2mos_pfs_ind_seed0.pkl\n",
      "pids\n",
      "(494,)\n",
      "x\n",
      "(494, 33, 16)\n",
      "m\n",
      "(494, 33, 16)\n",
      "feature_names_x\n",
      "(16,)\n",
      "['cbc_abs_neut' 'chem_albumin' 'chem_bun' 'chem_calcium' 'chem_creatinine'\n",
      " 'chem_glucose' 'cbc_hemoglobin' 'serum_kappa' 'serum_m_protein'\n",
      " 'cbc_platelet' 'chem_totprot' 'cbc_wbc' 'serum_iga' 'serum_igg'\n",
      " 'serum_igm' 'serum_lambda']\n",
      "ys_seq\n",
      "(494, 1)\n",
      "ce\n",
      "(494, 1)\n",
      "feature_names_y\n",
      "(1,)\n",
      "['progression free survival (all)']\n",
      "b\n",
      "(494, 16)\n",
      "feature_names\n",
      "(16,)\n",
      "Index(['iss', 'age', 'gender', 'ecog', 'serum_beta2_microglobulin', 'PC1',\n",
      "       'PC2', 'PC3', 'PC4', 'PC5', 'heavy_chain', 'igg_type', 'iga_type',\n",
      "       'igm_type', 'kappa_type', 'lambda_type'],\n",
      "      dtype='object')\n",
      "a\n",
      "(494, 33, 9)\n",
      "m_a\n",
      "(494, 33, 6)\n",
      "feature_names_a\n",
      "(9,)\n",
      "['local_clock' 'Bor' 'Car' 'Cyc' 'Dex' 'Len' 'line1' 'line2' 'line3plus']\n",
      "Keep first 3 clinical visits.\n",
      "Keep first 3 clinical visits.\n",
      "Keep first 3 clinical visits.\n",
      "Reading /Users/nalinisingh/datasets/multiple_myeloma/MMRF_CoMMpass_IA15a_E74GTF_Salmon_Gene_TPM.txt\n",
      "Raw data shape:\n",
      "(57997, 922)\n",
      "0 out of 57997 genes have missing data \n",
      "Using raw genomic data...\n",
      "Created new dataframe...\n"
     ]
    }
   ],
   "source": [
    "train_patient_all = pd.DataFrame()\n",
    "valid_patient_all = pd.DataFrame()\n",
    "test_patient_all = pd.DataFrame()\n",
    "\n",
    "for ind in [1]:\n",
    "    \n",
    "    train, test, valid = MMRF_utils.get_train_test_valid(mmrf_data_fn, ind, show_features=True)\n",
    "\n",
    "    train_df = MMRF_utils.preprocess_patient_data(train, num_clin_visits=3)  \n",
    "\n",
    "    valid_df = MMRF_utils.preprocess_patient_data(valid, num_clin_visits=3)  \n",
    "\n",
    "    test_df = MMRF_utils.preprocess_patient_data(test, num_clin_visits=3)  \n",
    "\n",
    "    \n",
    "    genomic_df = MMRF_utils.preprocess_genomic_data(genomic_fn, nPCA=0)\n",
    "\n",
    "    train_patient_all = train_patient_all.append(train_df.merge(genomic_df, left_on='pids', right_on='pids'))\n",
    "\n",
    "    valid_patient_all = valid_patient_all.append(valid_df.merge(genomic_df, left_on='pids', right_on='pids'))\n",
    "\n",
    "    test_patient_all = test_patient_all.append(test_df.merge(genomic_df, left_on='pids', right_on='pids'))\n",
    "    "
   ]
  },
  {
   "cell_type": "code",
   "execution_count": 11,
   "id": "conventional-submission",
   "metadata": {},
   "outputs": [],
   "source": [
    "bor_train_patient_all = train_patient_all[train_patient_all['Bor1']==True]\n",
    "bor_valid_patient_all = valid_patient_all[valid_patient_all['Bor1']==True]\n",
    "bor_test_patient_all = test_patient_all[test_patient_all['Bor1']==True]"
   ]
  },
  {
   "cell_type": "code",
   "execution_count": 12,
   "id": "fourth-peoples",
   "metadata": {},
   "outputs": [],
   "source": [
    "train_pfs = train_patient_all['pfs']\n",
    "valid_pfs = valid_patient_all['pfs']\n",
    "test_pfs = test_patient_all['pfs']\n",
    "\n",
    "bor_train_pfs = bor_train_patient_all['pfs']\n",
    "bor_valid_pfs = bor_valid_patient_all['pfs']\n",
    "bor_test_pfs = bor_test_patient_all['pfs']"
   ]
  },
  {
   "cell_type": "code",
   "execution_count": 13,
   "id": "african-paragraph",
   "metadata": {},
   "outputs": [],
   "source": [
    "gene_columns = ccle_ensembl.columns[1:]\n",
    "\n",
    "mmrf_mean = train_patient_all[gene_columns].mean()\n",
    "mmrf_std = train_patient_all[gene_columns].std()\n",
    "\n",
    "train_patient_genomic = normalize_genomic_data(train_patient_all[gene_columns], mmrf_mean, mmrf_std)\n",
    "valid_patient_genomic = normalize_genomic_data(valid_patient_all[gene_columns], mmrf_mean, mmrf_std)\n",
    "test_patient_genomic = normalize_genomic_data(test_patient_all[gene_columns], mmrf_mean, mmrf_std)\n",
    "\n",
    "bor_train_patient_genomic = normalize_genomic_data(bor_train_patient_all[gene_columns], mmrf_mean, mmrf_std)\n",
    "bor_valid_patient_genomic = normalize_genomic_data(bor_valid_patient_all[gene_columns], mmrf_mean, mmrf_std)\n",
    "bor_test_patient_genomic = normalize_genomic_data(bor_test_patient_all[gene_columns], mmrf_mean, mmrf_std)\n",
    "\n",
    "np.savez('mmrf_constants.npz',mmrf_mean=mmrf_mean,mmrf_std=mmrf_std)"
   ]
  },
  {
   "cell_type": "code",
   "execution_count": 14,
   "id": "obvious-beads",
   "metadata": {},
   "outputs": [],
   "source": [
    "assert((gene_columns==train_patient_genomic.columns).all())"
   ]
  },
  {
   "cell_type": "markdown",
   "id": "false-situation",
   "metadata": {},
   "source": [
    "## Autoencoder\n",
    "\n",
    "This section trains and saves autoencoders on the MMRF data, the CCLE data, and a combined dataset incorporating both sources. \n",
    "\n",
    "The size of the embedding is controlled by l_dim. Training logs are written to the training_directory/. \n",
    "\n",
    "Best epoch is selected via the validation set and the model weights are updated to the weights from that epoch."
   ]
  },
  {
   "cell_type": "code",
   "execution_count": 15,
   "id": "announced-uncle",
   "metadata": {},
   "outputs": [],
   "source": [
    "l_dim = 16"
   ]
  },
  {
   "cell_type": "code",
   "execution_count": 16,
   "id": "visible-alloy",
   "metadata": {},
   "outputs": [],
   "source": [
    "def get_autoencoder(encoding_dim):\n",
    "    out_shape = train_patient_genomic.shape[1]\n",
    "    # This is our input image\n",
    "    input_rna = keras.Input(shape=(out_shape,))\n",
    "    \n",
    "    d_p = 0.2\n",
    "    # \"encoded\" is the encoded representation of the input\n",
    "    encoded = layers.Dense(4*encoding_dim, activation='relu')(input_rna)\n",
    "    encoded = layers.Dropout(d_p)(encoded)\n",
    "    encoded = layers.Dense(2*encoding_dim, activation='relu')(encoded)\n",
    "    encoded = layers.Dropout(d_p)(encoded)\n",
    "    encoded = layers.Dense(encoding_dim, activation=None)(encoded)\n",
    "\n",
    "    # \"decoded\" is the lossy reconstruction of the input\n",
    "    decoded = layers.Dense(2*encoding_dim, activation='relu')(encoded) \n",
    "    decoded = layers.Dropout(d_p)(decoded)\n",
    "    decoded = layers.Dense(4*encoding_dim, activation='relu')(decoded)\n",
    "    decoded = layers.Dropout(d_p)(decoded)\n",
    "    decoded = layers.Dense(out_shape, activation=None)(decoded)\n",
    "\n",
    "    # This model maps an input to its reconstruction\n",
    "    autoencoder = keras.Model(input_rna, decoded)\n",
    "    autoencoder.compile(optimizer='adam', loss='MSE')\n",
    "    \n",
    "    return autoencoder"
   ]
  },
  {
   "cell_type": "code",
   "execution_count": 17,
   "id": "naval-strain",
   "metadata": {},
   "outputs": [],
   "source": [
    "def train_ae(ae, train_data, val_data, name):\n",
    "    train_dir = os.path.join('training', name)\n",
    "    if(not os.path.exists(train_dir)):\n",
    "        os.mkdir(train_dir)\n",
    "       \n",
    "    ckpt_callback = keras.callbacks.ModelCheckpoint(\n",
    "        train_dir,\n",
    "        monitor=\"val_loss\",\n",
    "        verbose=0,\n",
    "        save_best_only=True,\n",
    "        save_weights_only=False,\n",
    "        mode=\"auto\",\n",
    "        save_freq=\"epoch\",\n",
    "        options=None,\n",
    "    )\n",
    "       \n",
    "    return ae.fit(train_data, train_data,\n",
    "                epochs=100,\n",
    "                batch_size=64,\n",
    "                shuffle=True,\n",
    "                validation_data=(val_data, val_data),\n",
    "                verbose=0,\n",
    "                callbacks=[ckpt_callback])"
   ]
  },
  {
   "cell_type": "code",
   "execution_count": 18,
   "id": "fitting-wagon",
   "metadata": {},
   "outputs": [],
   "source": [
    "mmrf_ae = get_autoencoder(l_dim)\n",
    "mmrf_str = 'Normalized_MMRF_AE_'+str(l_dim)\n",
    "mmrf_history_callback = train_ae(mmrf_ae, train_patient_genomic, valid_patient_genomic, mmrf_str)"
   ]
  },
  {
   "cell_type": "code",
   "execution_count": 19,
   "id": "approximate-spell",
   "metadata": {},
   "outputs": [],
   "source": [
    "mmrf_ae.load_weights(os.path.join('training',mmrf_str,'variables','variables'))\n",
    "np.savez(os.path.join('training',mmrf_str),loss = mmrf_history_callback.history['loss'],val_loss = mmrf_history_callback.history['val_loss'])"
   ]
  },
  {
   "cell_type": "code",
   "execution_count": 20,
   "id": "spoken-contemporary",
   "metadata": {},
   "outputs": [],
   "source": [
    "ccle_ae = get_autoencoder(l_dim)\n",
    "ccle_str = 'Normalized_CCLE_AE_'+str(l_dim)\n",
    "ccle_history_callback = train_ae(ccle_ae, train_ccle, valid_ccle, ccle_str)"
   ]
  },
  {
   "cell_type": "code",
   "execution_count": 21,
   "id": "center-textbook",
   "metadata": {},
   "outputs": [],
   "source": [
    "ccle_ae.load_weights(os.path.join('training',ccle_str,'variables','variables'))\n",
    "np.savez(os.path.join('training',ccle_str),loss = ccle_history_callback.history['loss'],val_loss = ccle_history_callback.history['val_loss'])"
   ]
  },
  {
   "cell_type": "code",
   "execution_count": 22,
   "id": "intense-acrylic",
   "metadata": {},
   "outputs": [],
   "source": [
    "combined_ae = get_autoencoder(l_dim)\n",
    "combined_str = 'Normalized_Combined_AE_'+str(l_dim)\n",
    "combined_history_callback = train_ae(combined_ae, pd.concat([train_patient_genomic,train_ccle]), pd.concat([valid_patient_genomic,valid_ccle]),combined_str)\n"
   ]
  },
  {
   "cell_type": "code",
   "execution_count": 23,
   "id": "aggregate-encoding",
   "metadata": {},
   "outputs": [],
   "source": [
    "combined_ae.load_weights(os.path.join('training',combined_str,'variables','variables'))\n",
    "np.savez(os.path.join('training',combined_str),loss = combined_history_callback.history['loss'],val_loss = combined_history_callback.history['val_loss'])"
   ]
  },
  {
   "cell_type": "markdown",
   "id": "radio-participation",
   "metadata": {},
   "source": [
    "## Write Embeddings\n",
    "\n",
    "This section embeds all of the RNA-seq data using the trained autoencoders and writes the results to .h5 files under autoencoder_embeddings/"
   ]
  },
  {
   "cell_type": "code",
   "execution_count": 24,
   "id": "strategic-headset",
   "metadata": {},
   "outputs": [],
   "source": [
    "def mmrf_ae_encode(rna_data):\n",
    "    encoder = keras.Model(inputs=mmrf_ae.input, outputs=mmrf_ae.layers[5].output)\n",
    "    return(encoder(rna_data))\n",
    "\n",
    "def ccle_ae_encode(rna_data):\n",
    "    encoder = keras.Model(inputs=ccle_ae.input, outputs=ccle_ae.layers[5].output)\n",
    "    return(encoder(rna_data))\n",
    "\n",
    "def combined_ae_encode(rna_data):\n",
    "    encoder = keras.Model(inputs=combined_ae.input, outputs=combined_ae.layers[5].output)\n",
    "    return(encoder(rna_data))"
   ]
  },
  {
   "cell_type": "code",
   "execution_count": 25,
   "id": "acknowledged-warrant",
   "metadata": {},
   "outputs": [],
   "source": [
    "all_mmrfae_train = mmrf_ae_encode(train_patient_genomic.values)\n",
    "all_mmrfae_valid = mmrf_ae_encode(valid_patient_genomic.values)\n",
    "all_mmrfae_test = mmrf_ae_encode(test_patient_genomic.values)\n",
    "\n",
    "all_ccleae_train = ccle_ae_encode(train_patient_genomic.values)\n",
    "all_ccleae_valid = ccle_ae_encode(valid_patient_genomic.values)\n",
    "all_ccleae_test = ccle_ae_encode(test_patient_genomic.values)\n",
    "\n",
    "all_combinedae_train = combined_ae_encode(train_patient_genomic.values)\n",
    "all_combinedae_valid = combined_ae_encode(valid_patient_genomic.values)\n",
    "all_combinedae_test = combined_ae_encode(test_patient_genomic.values)"
   ]
  },
  {
   "cell_type": "code",
   "execution_count": 28,
   "id": "careful-grammar",
   "metadata": {},
   "outputs": [],
   "source": [
    "def save_embedding(embedding, ref_df, col, name):\n",
    "    columns = ['Comp {i}'.format(i=i) for i in range(l_dim)]\n",
    "    embedding_df = pd.DataFrame(embedding.numpy(), columns=columns)\n",
    "    embedding_df[col] = ref_df[col]\n",
    "    embedding_df = embedding_df[[col]+columns]\n",
    "    \n",
    "    embedding_df.to_hdf('autoencoder_embeddings/new_normalized_embeddings_'+str(l_dim)+'.h5', name)        "
   ]
  },
  {
   "cell_type": "code",
   "execution_count": 29,
   "id": "private-burner",
   "metadata": {},
   "outputs": [],
   "source": [
    "for dataset in ['mmrf', 'ccle']:\n",
    "    for split in ['train','valid','test']:\n",
    "        for ae in ['mmrf', 'ccle', 'combined']:\n",
    "            name = '{dataset}_{split}_{ae}ae'.format(dataset=dataset, split=split, ae=ae)\n",
    "            \n",
    "            if(ae=='mmrf'):\n",
    "                ae_func = mmrf_ae_encode\n",
    "            elif(ae=='ccle'):\n",
    "                ae_func = ccle_ae_encode\n",
    "            elif(ae=='combined'):\n",
    "                ae_func = combined_ae_encode\n",
    "                \n",
    "            if(dataset=='mmrf'):\n",
    "                exec('inp_data = {split}_patient_genomic.values'.format(split=split))\n",
    "                exec('ref_df = {split}_patient_all'.format(split=split))\n",
    "                col = 'pids'\n",
    "            elif(dataset=='ccle'):\n",
    "                exec('inp_data = {split}_ccle.values'.format(split=split))\n",
    "                exec('ref_df = {split}_ccle_id'.format(split=split))\n",
    "                col = 'Unnamed: 0'\n",
    "                \n",
    "            encode_data = ae_func(inp_data)\n",
    "            save_embedding(encode_data,ref_df,col,name)\n"
   ]
  },
  {
   "cell_type": "markdown",
   "id": "continental-tanzania",
   "metadata": {},
   "source": [
    "## Binary PFS Classifications\n",
    "\n",
    "This section trains random forest and k-nearest neighbor classifiers on the encoded RNA-seq data (read from saved h5 files) for patients with a first-line treatment of Bortezomib. We evaluate on validation data to prevent leaking test set information for downstream experiments which use the embeddings from the autoencoders trained here.\n",
    "\n",
    "The embedding size of the RNA-seq data is specified by l_dim={16,32,64,128}. \n",
    "\n",
    "Results are writted to the dataframes pfs_results_* and printed as LaTeX tables."
   ]
  },
  {
   "cell_type": "code",
   "execution_count": 30,
   "id": "emotional-bride",
   "metadata": {},
   "outputs": [],
   "source": [
    "l_dim = 16\n",
    "RANDOM_SEED=0"
   ]
  },
  {
   "cell_type": "code",
   "execution_count": 31,
   "id": "raising-cliff",
   "metadata": {},
   "outputs": [],
   "source": [
    "def get_stats(true_pfs,pred_pfs):\n",
    "    metrics = [accuracy_score, precision_score, recall_score, f1_score, roc_auc_score]\n",
    "    return([np.round(metric(true_pfs, pred_pfs),2) for metric in metrics])"
   ]
  },
  {
   "cell_type": "code",
   "execution_count": 32,
   "id": "developing-trade",
   "metadata": {},
   "outputs": [],
   "source": [
    "# Binarize outcomes\n",
    "bin_train_pfs = train_pfs>12\n",
    "bin_valid_pfs = valid_pfs>12\n",
    "\n",
    "bor_bin_train_pfs = bor_train_pfs>12\n",
    "bor_bin_valid_pfs = bor_valid_pfs>12"
   ]
  },
  {
   "cell_type": "code",
   "execution_count": 33,
   "id": "trying-symphony",
   "metadata": {},
   "outputs": [],
   "source": [
    "def reg_routine(train_data, train_pfs, val_data, val_pfs, label_str, classifier=RandomForestClassifier(100,max_depth=50,random_state=RANDOM_SEED)):\n",
    "    reg = classifier.fit(train_data, train_pfs)\n",
    "    accuracy, precision, recall, f1, auc = get_stats(val_pfs, reg.predict(val_data))\n",
    "            \n",
    "    tr_stats = get_stats(train_pfs, reg.predict(train_data))\n",
    "    val_stats = get_stats(val_pfs, reg.predict(val_data))\n",
    "    \n",
    "    return {'Experiment': label_str,\n",
    "                          'Train Accuracy': tr_stats[0],\n",
    "                          'Train Precision': tr_stats[1],\n",
    "                          'Train Recall': tr_stats[2],\n",
    "                          'Train F1': tr_stats[3],\n",
    "                          'Train AUC': tr_stats[4],\n",
    "                          \n",
    "                          'Valid Accuracy': val_stats[0],\n",
    "                          'Valid Precision': val_stats[1],\n",
    "                          'Valid Recall': val_stats[2],\n",
    "                          'Valid F1': val_stats[3],\n",
    "                          'Valid AUC': val_stats[4]}\n"
   ]
  },
  {
   "cell_type": "code",
   "execution_count": 34,
   "id": "broad-seeker",
   "metadata": {},
   "outputs": [],
   "source": [
    "mmrfae_train = pd.read_hdf('autoencoder_embeddings/normalized_embeddings_{l_dim}.h5'.format(l_dim=l_dim),key='mmrf_train_mmrfae')[train_patient_all['Bor1']==True].values[:,1:]\n",
    "mmrfae_valid = pd.read_hdf('autoencoder_embeddings/normalized_embeddings_{l_dim}.h5'.format(l_dim=l_dim),key='mmrf_valid_mmrfae')[valid_patient_all['Bor1']==True].values[:,1:]\n",
    "\n",
    "ccleae_train = pd.read_hdf('autoencoder_embeddings/normalized_embeddings_{l_dim}.h5'.format(l_dim=l_dim),key='mmrf_train_ccleae')[train_patient_all['Bor1']==True].values[:,1:]\n",
    "ccleae_valid = pd.read_hdf('autoencoder_embeddings/normalized_embeddings_{l_dim}.h5'.format(l_dim=l_dim),key='mmrf_valid_ccleae')[valid_patient_all['Bor1']==True].values[:,1:]\n",
    "\n",
    "combinedae_train = pd.read_hdf('autoencoder_embeddings/normalized_embeddings_{l_dim}.h5'.format(l_dim=l_dim),key='mmrf_train_combinedae')[train_patient_all['Bor1']==True].values[:,1:]\n",
    "combinedae_valid = pd.read_hdf('autoencoder_embeddings/normalized_embeddings_{l_dim}.h5'.format(l_dim=l_dim),key='mmrf_valid_combinedae')[valid_patient_all['Bor1']==True].values[:,1:]"
   ]
  },
  {
   "cell_type": "markdown",
   "id": "compliant-insulation",
   "metadata": {},
   "source": [
    "### Random Forest Classifiers"
   ]
  },
  {
   "cell_type": "code",
   "execution_count": 35,
   "id": "broken-wrestling",
   "metadata": {},
   "outputs": [],
   "source": [
    "pfs_results_df = pd.DataFrame()"
   ]
  },
  {
   "cell_type": "code",
   "execution_count": 36,
   "id": "activated-heater",
   "metadata": {},
   "outputs": [],
   "source": [
    "# Raw RNA Seq\n",
    "results = reg_routine(bor_train_patient_genomic, bor_bin_train_pfs, bor_valid_patient_genomic, bor_bin_valid_pfs, 'MMRF RNA Seq')\n",
    "pfs_results_df = pfs_results_df.append(results, ignore_index=True)\n"
   ]
  },
  {
   "cell_type": "code",
   "execution_count": 37,
   "id": "going-emperor",
   "metadata": {},
   "outputs": [],
   "source": [
    "# MMRF Autoencoded RNA Seq\n",
    "results = reg_routine(mmrfae_train, bor_bin_train_pfs, mmrfae_valid, bor_bin_valid_pfs, 'MMRF AE RNA Seq')\n",
    "pfs_results_df = pfs_results_df.append(results, ignore_index=True)"
   ]
  },
  {
   "cell_type": "code",
   "execution_count": 38,
   "id": "pending-stupid",
   "metadata": {},
   "outputs": [],
   "source": [
    "# CCLE Autoencoded RNA Seq\n",
    "results = reg_routine(ccleae_train, bor_bin_train_pfs, ccleae_valid, bor_bin_valid_pfs, 'CCLE AE RNA Seq')\n",
    "pfs_results_df = pfs_results_df.append(results, ignore_index=True)"
   ]
  },
  {
   "cell_type": "code",
   "execution_count": 39,
   "id": "collected-solomon",
   "metadata": {},
   "outputs": [],
   "source": [
    "# Combined Autoencoded RNA Seq\n",
    "results = reg_routine(combinedae_train, bor_bin_train_pfs, combinedae_valid, bor_bin_valid_pfs, 'Combined AE RNA Seq')\n",
    "pfs_results_df = pfs_results_df.append(results, ignore_index=True)"
   ]
  },
  {
   "cell_type": "code",
   "execution_count": 40,
   "id": "private-pattern",
   "metadata": {},
   "outputs": [
    {
     "name": "stdout",
     "output_type": "stream",
     "text": [
      "\\begin{tabular}{lrrrrr}\n",
      "\\toprule\n",
      "         Experiment &  Valid AUC &  Valid Accuracy &  Valid F1 &  Valid Precision &  Valid Recall \\\\\n",
      "\\midrule\n",
      "       MMRF RNA Seq &       0.58 &            0.62 &      0.73 &             0.64 &          0.85 \\\\\n",
      "    MMRF AE RNA Seq &       0.62 &            0.66 &      0.74 &             0.67 &          0.83 \\\\\n",
      "    CCLE AE RNA Seq &       0.53 &            0.56 &      0.64 &             0.61 &          0.67 \\\\\n",
      "Combined AE RNA Seq &       0.57 &            0.60 &      0.70 &             0.63 &          0.77 \\\\\n",
      "\\bottomrule\n",
      "\\end{tabular}\n",
      "\n"
     ]
    }
   ],
   "source": [
    "print(pfs_results_df.drop([i for i in pfs_results_df.columns if 'Train' in i], axis=1).to_latex(index=False))"
   ]
  },
  {
   "cell_type": "markdown",
   "id": "eight-external",
   "metadata": {},
   "source": [
    "### K-NN Classifiers"
   ]
  },
  {
   "cell_type": "code",
   "execution_count": 41,
   "id": "noted-sweet",
   "metadata": {},
   "outputs": [],
   "source": [
    "pfs_results_df_knn = pd.DataFrame()\n",
    "n_neighbors = 3"
   ]
  },
  {
   "cell_type": "code",
   "execution_count": 42,
   "id": "confirmed-globe",
   "metadata": {},
   "outputs": [],
   "source": [
    "# Raw RNA Seq\n",
    "results = reg_routine(bor_train_patient_genomic, bor_bin_train_pfs, bor_valid_patient_genomic, bor_bin_valid_pfs, 'MMRF RNA Seq', classifier=KNeighborsClassifier(n_neighbors=n_neighbors))\n",
    "pfs_results_df_knn = pfs_results_df_knn.append(results, ignore_index=True)"
   ]
  },
  {
   "cell_type": "code",
   "execution_count": 43,
   "id": "english-nerve",
   "metadata": {},
   "outputs": [],
   "source": [
    "# MMRF Autoencoded RNA Seq\n",
    "results = reg_routine(mmrfae_train, bor_bin_train_pfs, mmrfae_valid, bor_bin_valid_pfs, 'MMRF AE RNA Seq', classifier=KNeighborsClassifier(n_neighbors=n_neighbors))\n",
    "pfs_results_df_knn = pfs_results_df_knn.append(results, ignore_index=True)"
   ]
  },
  {
   "cell_type": "code",
   "execution_count": 44,
   "id": "bridal-brand",
   "metadata": {},
   "outputs": [],
   "source": [
    "# CCLE Autoencoded RNA Seq\n",
    "results = reg_routine(ccleae_train, bor_bin_train_pfs, ccleae_valid, bor_bin_valid_pfs, 'CCLE AE RNA Seq', classifier=KNeighborsClassifier(n_neighbors=n_neighbors))\n",
    "pfs_results_df_knn = pfs_results_df_knn.append(results, ignore_index=True)"
   ]
  },
  {
   "cell_type": "code",
   "execution_count": 45,
   "id": "manufactured-samba",
   "metadata": {},
   "outputs": [],
   "source": [
    "# Combined Autoencoded RNA Seq\n",
    "results = reg_routine(combinedae_train, bor_bin_train_pfs, combinedae_valid, bor_bin_valid_pfs, 'Combined AE RNA Seq', classifier=KNeighborsClassifier(n_neighbors=n_neighbors))\n",
    "pfs_results_df_knn = pfs_results_df_knn.append(results, ignore_index=True)"
   ]
  },
  {
   "cell_type": "code",
   "execution_count": 46,
   "id": "architectural-information",
   "metadata": {},
   "outputs": [
    {
     "name": "stdout",
     "output_type": "stream",
     "text": [
      "\\begin{tabular}{lrrrrr}\n",
      "\\toprule\n",
      "         Experiment &  Valid AUC &  Valid Accuracy &  Valid F1 &  Valid Precision &  Valid Recall \\\\\n",
      "\\midrule\n",
      "       MMRF RNA Seq &       0.57 &            0.62 &      0.74 &             0.63 &          0.88 \\\\\n",
      "    MMRF AE RNA Seq &       0.59 &            0.62 &      0.71 &             0.65 &          0.79 \\\\\n",
      "    CCLE AE RNA Seq &       0.55 &            0.57 &      0.64 &             0.63 &          0.65 \\\\\n",
      "Combined AE RNA Seq &       0.53 &            0.57 &      0.67 &             0.61 &          0.73 \\\\\n",
      "\\bottomrule\n",
      "\\end{tabular}\n",
      "\n"
     ]
    }
   ],
   "source": [
    "print(pfs_results_df_knn.drop([i for i in pfs_results_df_knn.columns if 'Train' in i], axis=1).to_latex(index=False))"
   ]
  }
 ],
 "metadata": {
  "kernelspec": {
   "display_name": "Python 3",
   "language": "python",
   "name": "python3"
  },
  "language_info": {
   "codemirror_mode": {
    "name": "ipython",
    "version": 3
   },
   "file_extension": ".py",
   "mimetype": "text/x-python",
   "name": "python",
   "nbconvert_exporter": "python",
   "pygments_lexer": "ipython3",
   "version": "3.8.8"
  }
 },
 "nbformat": 4,
 "nbformat_minor": 5
}
