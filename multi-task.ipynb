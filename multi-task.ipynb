{
 "cells": [
  {
   "cell_type": "markdown",
   "metadata": {
    "heading_collapsed": true
   },
   "source": [
    "# Multi-task model"
   ]
  },
  {
   "cell_type": "code",
   "execution_count": 9,
   "metadata": {
    "colab": {},
    "colab_type": "code",
    "hidden": true,
    "id": "Mfd7i8PIBNHk"
   },
   "outputs": [],
   "source": [
    "import numpy as np\n",
    "from matplotlib import pyplot as plt\n",
    "import pandas as pd\n",
    "\n",
    "import os \n",
    "import shutil\n",
    "\n",
    "import copy\n",
    "\n",
    "import tensorflow as tf\n",
    "import tensorflow.keras as K\n",
    "\n",
    "from sklearn.model_selection import train_test_split\n",
    "import CCLE_utils\n",
    "import MMRF_utils"
   ]
  },
  {
   "cell_type": "markdown",
   "metadata": {
    "hidden": true
   },
   "source": [
    "## Load cell line data"
   ]
  },
  {
   "cell_type": "code",
   "execution_count": 16,
   "metadata": {},
   "outputs": [],
   "source": [
    "crispr_rnaseq_merged = pd.read_csv('rnaseq_crispr_merged.csv')\n",
    "crispr_rnaseq_merged = crispr_rnaseq_merged.drop(columns = ['DepMap_ID'])"
   ]
  },
  {
   "cell_type": "code",
   "execution_count": null,
   "metadata": {},
   "outputs": [],
   "source": [
    "# lenal_df = pd.read_csv('lenalidomide_crispr_knockout.csv')\n",
    "# bortez_df = pd.read_csv('bortezomib_crispr_knockout.csv')"
   ]
  },
  {
   "cell_type": "code",
   "execution_count": 17,
   "metadata": {},
   "outputs": [],
   "source": [
    "map_dict = CCLE_utils.get_map_dict('Ensembl_HGNC_map_042421.csv')"
   ]
  },
  {
   "cell_type": "code",
   "execution_count": 19,
   "metadata": {},
   "outputs": [],
   "source": [
    "response_cols = [col for col in crispr_rnaseq_merged.columns if '_y' in col]\n",
    "crispr = crispr_rnaseq_merged[response_cols]\n",
    "rnaseq = crispr_rnaseq_merged.drop(response_cols, axis=1)"
   ]
  },
  {
   "cell_type": "code",
   "execution_count": 47,
   "metadata": {},
   "outputs": [
    {
     "name": "stdout",
     "output_type": "stream",
     "text": [
      "13\n",
      "18971\n",
      "18914\n"
     ]
    },
    {
     "data": {
      "text/html": [
       "<div>\n",
       "<style scoped>\n",
       "    .dataframe tbody tr th:only-of-type {\n",
       "        vertical-align: middle;\n",
       "    }\n",
       "\n",
       "    .dataframe tbody tr th {\n",
       "        vertical-align: top;\n",
       "    }\n",
       "\n",
       "    .dataframe thead th {\n",
       "        text-align: right;\n",
       "    }\n",
       "</style>\n",
       "<table border=\"1\" class=\"dataframe\">\n",
       "  <thead>\n",
       "    <tr style=\"text-align: right;\">\n",
       "      <th></th>\n",
       "      <th>ENSG00000000003</th>\n",
       "      <th>ENSG00000000005</th>\n",
       "      <th>ENSG00000000419</th>\n",
       "      <th>ENSG00000000457</th>\n",
       "      <th>ENSG00000000460</th>\n",
       "      <th>ENSG00000000938</th>\n",
       "      <th>ENSG00000000971</th>\n",
       "      <th>ENSG00000001036</th>\n",
       "      <th>ENSG00000001084</th>\n",
       "      <th>ENSG00000001167</th>\n",
       "      <th>...</th>\n",
       "      <th>ENSG00000255800</th>\n",
       "      <th>ENSG00000255963</th>\n",
       "      <th>ENSG00000256049</th>\n",
       "      <th>ENSG00000256515</th>\n",
       "      <th>ENSG00000257019</th>\n",
       "      <th>ENSG00000258389</th>\n",
       "      <th>ENSG00000266949</th>\n",
       "      <th>ENSG00000267596</th>\n",
       "      <th>ENSG00000269028</th>\n",
       "      <th>ENSG00000273439</th>\n",
       "    </tr>\n",
       "  </thead>\n",
       "  <tbody>\n",
       "    <tr>\n",
       "      <th>0</th>\n",
       "      <td>5.209843</td>\n",
       "      <td>0.545968</td>\n",
       "      <td>7.070604</td>\n",
       "      <td>2.538538</td>\n",
       "      <td>3.510962</td>\n",
       "      <td>0.000000</td>\n",
       "      <td>0.176323</td>\n",
       "      <td>3.836934</td>\n",
       "      <td>4.200850</td>\n",
       "      <td>3.832890</td>\n",
       "      <td>...</td>\n",
       "      <td>0.0</td>\n",
       "      <td>0.000000</td>\n",
       "      <td>0.000000</td>\n",
       "      <td>0.000000</td>\n",
       "      <td>0.0</td>\n",
       "      <td>0.028569</td>\n",
       "      <td>0.042644</td>\n",
       "      <td>0.000000</td>\n",
       "      <td>0.310340</td>\n",
       "      <td>1.618239</td>\n",
       "    </tr>\n",
       "    <tr>\n",
       "      <th>1</th>\n",
       "      <td>5.726831</td>\n",
       "      <td>0.000000</td>\n",
       "      <td>7.086189</td>\n",
       "      <td>2.543496</td>\n",
       "      <td>3.102658</td>\n",
       "      <td>0.000000</td>\n",
       "      <td>5.914565</td>\n",
       "      <td>6.099716</td>\n",
       "      <td>4.475733</td>\n",
       "      <td>4.294253</td>\n",
       "      <td>...</td>\n",
       "      <td>0.0</td>\n",
       "      <td>0.014355</td>\n",
       "      <td>0.042644</td>\n",
       "      <td>0.000000</td>\n",
       "      <td>0.0</td>\n",
       "      <td>0.000000</td>\n",
       "      <td>0.863938</td>\n",
       "      <td>0.056584</td>\n",
       "      <td>0.298658</td>\n",
       "      <td>2.111031</td>\n",
       "    </tr>\n",
       "    <tr>\n",
       "      <th>2</th>\n",
       "      <td>0.097611</td>\n",
       "      <td>0.000000</td>\n",
       "      <td>5.919102</td>\n",
       "      <td>3.983678</td>\n",
       "      <td>3.733354</td>\n",
       "      <td>0.028569</td>\n",
       "      <td>6.111240</td>\n",
       "      <td>2.963474</td>\n",
       "      <td>3.415488</td>\n",
       "      <td>4.820690</td>\n",
       "      <td>...</td>\n",
       "      <td>0.0</td>\n",
       "      <td>0.000000</td>\n",
       "      <td>0.000000</td>\n",
       "      <td>1.427606</td>\n",
       "      <td>0.0</td>\n",
       "      <td>0.028569</td>\n",
       "      <td>0.028569</td>\n",
       "      <td>0.000000</td>\n",
       "      <td>1.124328</td>\n",
       "      <td>2.042644</td>\n",
       "    </tr>\n",
       "    <tr>\n",
       "      <th>3</th>\n",
       "      <td>4.712596</td>\n",
       "      <td>0.000000</td>\n",
       "      <td>6.406333</td>\n",
       "      <td>2.247928</td>\n",
       "      <td>3.032101</td>\n",
       "      <td>0.028569</td>\n",
       "      <td>0.097611</td>\n",
       "      <td>5.528571</td>\n",
       "      <td>6.383704</td>\n",
       "      <td>3.973611</td>\n",
       "      <td>...</td>\n",
       "      <td>0.0</td>\n",
       "      <td>0.111031</td>\n",
       "      <td>0.000000</td>\n",
       "      <td>0.042644</td>\n",
       "      <td>0.0</td>\n",
       "      <td>0.042644</td>\n",
       "      <td>0.014355</td>\n",
       "      <td>0.000000</td>\n",
       "      <td>0.545968</td>\n",
       "      <td>1.427606</td>\n",
       "    </tr>\n",
       "    <tr>\n",
       "      <th>4</th>\n",
       "      <td>4.463361</td>\n",
       "      <td>0.042644</td>\n",
       "      <td>6.714658</td>\n",
       "      <td>1.847997</td>\n",
       "      <td>3.171527</td>\n",
       "      <td>0.622930</td>\n",
       "      <td>6.975905</td>\n",
       "      <td>6.993788</td>\n",
       "      <td>4.234961</td>\n",
       "      <td>3.767655</td>\n",
       "      <td>...</td>\n",
       "      <td>0.0</td>\n",
       "      <td>0.070389</td>\n",
       "      <td>0.000000</td>\n",
       "      <td>0.084064</td>\n",
       "      <td>0.0</td>\n",
       "      <td>0.000000</td>\n",
       "      <td>2.056584</td>\n",
       "      <td>0.000000</td>\n",
       "      <td>0.555816</td>\n",
       "      <td>1.627607</td>\n",
       "    </tr>\n",
       "  </tbody>\n",
       "</table>\n",
       "<p>5 rows × 18914 columns</p>\n",
       "</div>"
      ],
      "text/plain": [
       "   ENSG00000000003  ENSG00000000005  ENSG00000000419  ENSG00000000457  \\\n",
       "0         5.209843         0.545968         7.070604         2.538538   \n",
       "1         5.726831         0.000000         7.086189         2.543496   \n",
       "2         0.097611         0.000000         5.919102         3.983678   \n",
       "3         4.712596         0.000000         6.406333         2.247928   \n",
       "4         4.463361         0.042644         6.714658         1.847997   \n",
       "\n",
       "   ENSG00000000460  ENSG00000000938  ENSG00000000971  ENSG00000001036  \\\n",
       "0         3.510962         0.000000         0.176323         3.836934   \n",
       "1         3.102658         0.000000         5.914565         6.099716   \n",
       "2         3.733354         0.028569         6.111240         2.963474   \n",
       "3         3.032101         0.028569         0.097611         5.528571   \n",
       "4         3.171527         0.622930         6.975905         6.993788   \n",
       "\n",
       "   ENSG00000001084  ENSG00000001167  ...  ENSG00000255800  ENSG00000255963  \\\n",
       "0         4.200850         3.832890  ...              0.0         0.000000   \n",
       "1         4.475733         4.294253  ...              0.0         0.014355   \n",
       "2         3.415488         4.820690  ...              0.0         0.000000   \n",
       "3         6.383704         3.973611  ...              0.0         0.111031   \n",
       "4         4.234961         3.767655  ...              0.0         0.070389   \n",
       "\n",
       "   ENSG00000256049  ENSG00000256515  ENSG00000257019  ENSG00000258389  \\\n",
       "0         0.000000         0.000000              0.0         0.028569   \n",
       "1         0.042644         0.000000              0.0         0.000000   \n",
       "2         0.000000         1.427606              0.0         0.028569   \n",
       "3         0.000000         0.042644              0.0         0.042644   \n",
       "4         0.000000         0.084064              0.0         0.000000   \n",
       "\n",
       "   ENSG00000266949  ENSG00000267596  ENSG00000269028  ENSG00000273439  \n",
       "0         0.042644         0.000000         0.310340         1.618239  \n",
       "1         0.863938         0.056584         0.298658         2.111031  \n",
       "2         0.028569         0.000000         1.124328         2.042644  \n",
       "3         0.014355         0.000000         0.545968         1.427606  \n",
       "4         2.056584         0.000000         0.555816         1.627607  \n",
       "\n",
       "[5 rows x 18914 columns]"
      ]
     },
     "execution_count": 47,
     "metadata": {},
     "output_type": "execute_result"
    }
   ],
   "source": [
    "print(len(crispr.columns))\n",
    "print(len(rnaseq.columns))\n",
    "rnaseq = CCLE_utils.hgnc_to_ensembl(rnaseq, map_dict)\n",
    "print(len(rnaseq.columns))\n",
    "rnaseq.head()"
   ]
  },
  {
   "cell_type": "code",
   "execution_count": 48,
   "metadata": {},
   "outputs": [],
   "source": [
    "X_train, X_test, y_train, y_test = train_test_split(rnaseq,crispr,random_state=42, train_size=0.7)"
   ]
  },
  {
   "cell_type": "code",
   "execution_count": 49,
   "metadata": {},
   "outputs": [
    {
     "name": "stdout",
     "output_type": "stream",
     "text": [
      "(560, 18914) (240, 18914) (560, 13) (240, 13)\n"
     ]
    }
   ],
   "source": [
    "print(X_train.shape, X_test.shape, y_train.shape, y_test.shape)"
   ]
  },
  {
   "cell_type": "code",
   "execution_count": null,
   "metadata": {},
   "outputs": [],
   "source": [
    "from sklearn.decomposition import PCA\n",
    "\n",
    "nPCA = 500\n",
    "pca = PCA(n_components=nPCA)\n",
    "X_lenal_cell_train_pca = pca.fit_transform(X_lenal_cell_train)\n",
    "X_lenal_cell_test_pca = pca.transform(X_lenal_cell_test)\n",
    "\n",
    "print(X_lenal_cell_train_pca.shape, X_lenal_cell_test_pca.shape)"
   ]
  },
  {
   "cell_type": "code",
   "execution_count": null,
   "metadata": {},
   "outputs": [],
   "source": [
    "nPCA = 500\n",
    "pca = PCA(n_components=nPCA)\n",
    "X_bortez_cell_train_pca = pca.fit_transform(X_bortez_cell_train)\n",
    "X_bortez_cell_test_pca = pca.transform(X_bortez_cell_test)\n",
    "\n",
    "print(X_bortez_cell_train_pca.shape, X_bortez_cell_test_pca.shape)"
   ]
  },
  {
   "cell_type": "markdown",
   "metadata": {},
   "source": [
    "# Load patient data"
   ]
  },
  {
   "cell_type": "code",
   "execution_count": 39,
   "metadata": {},
   "outputs": [
    {
     "name": "stdout",
     "output_type": "stream",
     "text": [
      "loading from: ./data/cleaned_mm1_2mos_pfs_ind.pkl\n",
      "pids\n",
      "(494,)\n",
      "x\n",
      "(494, 33, 16)\n",
      "m\n",
      "(494, 33, 16)\n",
      "feature_names_x\n",
      "(16,)\n",
      "['cbc_abs_neut' 'chem_albumin' 'chem_bun' 'chem_calcium' 'chem_creatinine'\n",
      " 'chem_glucose' 'cbc_hemoglobin' 'serum_kappa' 'serum_m_protein'\n",
      " 'cbc_platelet' 'chem_totprot' 'cbc_wbc' 'serum_iga' 'serum_igg'\n",
      " 'serum_igm' 'serum_lambda']\n",
      "ys_seq\n",
      "(494, 1)\n",
      "ce\n",
      "(494, 1)\n",
      "feature_names_y\n",
      "(1,)\n",
      "['progression free survival (all)']\n",
      "b\n",
      "(494, 16)\n",
      "feature_names\n",
      "(16,)\n",
      "Index(['iss', 'age', 'gender', 'ecog', 'serum_beta2_microglobulin', 'PC1',\n",
      "       'PC2', 'PC3', 'PC4', 'PC5', 'heavy_chain', 'igg_type', 'iga_type',\n",
      "       'igm_type', 'kappa_type', 'lambda_type'],\n",
      "      dtype='object')\n",
      "a\n",
      "(494, 33, 9)\n",
      "m_a\n",
      "(494, 33, 6)\n",
      "feature_names_a\n",
      "(9,)\n",
      "['local_clock' 'Bor' 'Car' 'Cyc' 'Dex' 'Len' 'line1' 'line2' 'line3plus']\n",
      "\n",
      "Preprocess patient data in MMRF\n",
      "Keep first 3 clinical visits.\n",
      "(461, 93)\n",
      "Keep first 3 clinical visits.\n",
      "(161, 93)\n",
      "Keep first 3 clinical visits.\n",
      "(214, 93)\n",
      "\n",
      "Preprocess patient genomic data in MMRF...\n",
      "Reading ./data/MMRF_CoMMpass_IA15a_E74GTF_Salmon_Gene_TPM.txt\n",
      "Raw data shape:\n",
      "(57997, 922)\n",
      "0 out of 57997 genes have missing data \n",
      "Using raw genomic data...\n",
      "Created new dataframe...\n",
      "(774, 57998)\n",
      "\n",
      "Merging patient data with genomic data...\n"
     ]
    }
   ],
   "source": [
    "train_patient_all = pd.DataFrame()\n",
    "valid_patient_all = pd.DataFrame()\n",
    "test_patient_all = pd.DataFrame()\n",
    "\n",
    "for ind in [1]:\n",
    "    data_filename = './data/cleaned_mm%d_2mos_pfs_ind.pkl'%(ind)\n",
    "    train, test, valid = MMRF_utils.get_train_test_valid(data_filename, ind, show_features=True)\n",
    "\n",
    "    print('\\nPreprocess patient data in MMRF')\n",
    "    # include the first n clinical visit data for each patient (default 0)\n",
    "    train_df = MMRF_utils.preprocess_patient_data(train, num_clin_visits=3)  \n",
    "    print(train_df.shape)\n",
    "\n",
    "    valid_df = MMRF_utils.preprocess_patient_data(valid, num_clin_visits=3)  \n",
    "    print(valid_df.shape)\n",
    "\n",
    "    test_df = MMRF_utils.preprocess_patient_data(test, num_clin_visits=3)  \n",
    "    print(test_df.shape)\n",
    "\n",
    "    print('\\nPreprocess patient genomic data in MMRF...')\n",
    "    genomic_fn = './data/MMRF_CoMMpass_IA15a_E74GTF_Salmon_Gene_TPM.txt'\n",
    "    genomic_df = MMRF_utils.preprocess_genomic_data(genomic_fn, nPCA=0)\n",
    "    print(genomic_df.shape)\n",
    "\n",
    "    print('\\nMerging patient data with genomic data...')\n",
    "    train_patient_all = train_patient_all.append(train_df.merge(genomic_df, left_on='pids', right_on='pids'))\n",
    "\n",
    "    valid_patient_all = valid_patient_all.append(valid_df.merge(genomic_df, left_on='pids', right_on='pids'))\n",
    "\n",
    "    test_patient_all = test_patient_all.append(test_df.merge(genomic_df, left_on='pids', right_on='pids'))"
   ]
  },
  {
   "cell_type": "code",
   "execution_count": 42,
   "metadata": {},
   "outputs": [
    {
     "data": {
      "text/plain": [
       "Index(['pids', 'pfs', 'iss', 'age', 'gender', 'ecog',\n",
       "       'serum_beta2_microglobulin', 'PC1', 'PC2', 'PC3',\n",
       "       ...\n",
       "       'ERCC-00157', 'ERCC-00158', 'ERCC-00160', 'ERCC-00162', 'ERCC-00163',\n",
       "       'ERCC-00164', 'ERCC-00165', 'ERCC-00168', 'ERCC-00170', 'ERCC-00171'],\n",
       "      dtype='object', length=58090)"
      ]
     },
     "execution_count": 42,
     "metadata": {},
     "output_type": "execute_result"
    }
   ],
   "source": [
    "test_patient_all.columns"
   ]
  },
  {
   "cell_type": "code",
   "execution_count": 50,
   "metadata": {},
   "outputs": [
    {
     "data": {
      "text/html": [
       "<div>\n",
       "<style scoped>\n",
       "    .dataframe tbody tr th:only-of-type {\n",
       "        vertical-align: middle;\n",
       "    }\n",
       "\n",
       "    .dataframe tbody tr th {\n",
       "        vertical-align: top;\n",
       "    }\n",
       "\n",
       "    .dataframe thead th {\n",
       "        text-align: right;\n",
       "    }\n",
       "</style>\n",
       "<table border=\"1\" class=\"dataframe\">\n",
       "  <thead>\n",
       "    <tr style=\"text-align: right;\">\n",
       "      <th></th>\n",
       "      <th>ENSG00000000003</th>\n",
       "      <th>ENSG00000000005</th>\n",
       "      <th>ENSG00000000419</th>\n",
       "      <th>ENSG00000000457</th>\n",
       "      <th>ENSG00000000460</th>\n",
       "      <th>ENSG00000000938</th>\n",
       "      <th>ENSG00000000971</th>\n",
       "      <th>ENSG00000001036</th>\n",
       "      <th>ENSG00000001084</th>\n",
       "      <th>ENSG00000001167</th>\n",
       "      <th>...</th>\n",
       "      <th>ERCC-00158</th>\n",
       "      <th>ERCC-00160</th>\n",
       "      <th>ERCC-00162</th>\n",
       "      <th>ERCC-00163</th>\n",
       "      <th>ERCC-00164</th>\n",
       "      <th>ERCC-00165</th>\n",
       "      <th>ERCC-00168</th>\n",
       "      <th>ERCC-00170</th>\n",
       "      <th>ERCC-00171</th>\n",
       "      <th>pids</th>\n",
       "    </tr>\n",
       "  </thead>\n",
       "  <tbody>\n",
       "    <tr>\n",
       "      <th>0</th>\n",
       "      <td>0.747555</td>\n",
       "      <td>0.0</td>\n",
       "      <td>16.48200</td>\n",
       "      <td>3.530600</td>\n",
       "      <td>1.153110</td>\n",
       "      <td>0.052192</td>\n",
       "      <td>0.070314</td>\n",
       "      <td>23.97170</td>\n",
       "      <td>5.37230</td>\n",
       "      <td>9.59376</td>\n",
       "      <td>...</td>\n",
       "      <td>0.0</td>\n",
       "      <td>0.0</td>\n",
       "      <td>0.0</td>\n",
       "      <td>0.0</td>\n",
       "      <td>0.0</td>\n",
       "      <td>0.0</td>\n",
       "      <td>0.0</td>\n",
       "      <td>0.0</td>\n",
       "      <td>0.0</td>\n",
       "      <td>MMRF_1839</td>\n",
       "    </tr>\n",
       "    <tr>\n",
       "      <th>1</th>\n",
       "      <td>1.211520</td>\n",
       "      <td>0.0</td>\n",
       "      <td>15.63870</td>\n",
       "      <td>1.199950</td>\n",
       "      <td>0.242032</td>\n",
       "      <td>0.208332</td>\n",
       "      <td>0.093566</td>\n",
       "      <td>7.65518</td>\n",
       "      <td>2.32189</td>\n",
       "      <td>3.95827</td>\n",
       "      <td>...</td>\n",
       "      <td>0.0</td>\n",
       "      <td>0.0</td>\n",
       "      <td>0.0</td>\n",
       "      <td>0.0</td>\n",
       "      <td>0.0</td>\n",
       "      <td>0.0</td>\n",
       "      <td>0.0</td>\n",
       "      <td>0.0</td>\n",
       "      <td>0.0</td>\n",
       "      <td>MMRF_1686</td>\n",
       "    </tr>\n",
       "    <tr>\n",
       "      <th>2</th>\n",
       "      <td>0.182203</td>\n",
       "      <td>0.0</td>\n",
       "      <td>9.85284</td>\n",
       "      <td>2.516850</td>\n",
       "      <td>0.691931</td>\n",
       "      <td>0.074189</td>\n",
       "      <td>1.418730</td>\n",
       "      <td>6.32505</td>\n",
       "      <td>3.35012</td>\n",
       "      <td>4.19819</td>\n",
       "      <td>...</td>\n",
       "      <td>0.0</td>\n",
       "      <td>0.0</td>\n",
       "      <td>0.0</td>\n",
       "      <td>0.0</td>\n",
       "      <td>0.0</td>\n",
       "      <td>0.0</td>\n",
       "      <td>0.0</td>\n",
       "      <td>0.0</td>\n",
       "      <td>0.0</td>\n",
       "      <td>MMRF_2253</td>\n",
       "    </tr>\n",
       "    <tr>\n",
       "      <th>3</th>\n",
       "      <td>1.244470</td>\n",
       "      <td>0.0</td>\n",
       "      <td>14.15190</td>\n",
       "      <td>2.235840</td>\n",
       "      <td>0.411901</td>\n",
       "      <td>0.119781</td>\n",
       "      <td>0.045729</td>\n",
       "      <td>14.40730</td>\n",
       "      <td>3.68360</td>\n",
       "      <td>5.30710</td>\n",
       "      <td>...</td>\n",
       "      <td>0.0</td>\n",
       "      <td>0.0</td>\n",
       "      <td>0.0</td>\n",
       "      <td>0.0</td>\n",
       "      <td>0.0</td>\n",
       "      <td>0.0</td>\n",
       "      <td>0.0</td>\n",
       "      <td>0.0</td>\n",
       "      <td>0.0</td>\n",
       "      <td>MMRF_2180</td>\n",
       "    </tr>\n",
       "    <tr>\n",
       "      <th>4</th>\n",
       "      <td>1.064230</td>\n",
       "      <td>0.0</td>\n",
       "      <td>5.43182</td>\n",
       "      <td>0.833239</td>\n",
       "      <td>0.194672</td>\n",
       "      <td>0.028010</td>\n",
       "      <td>0.201745</td>\n",
       "      <td>4.05475</td>\n",
       "      <td>3.11611</td>\n",
       "      <td>2.67983</td>\n",
       "      <td>...</td>\n",
       "      <td>0.0</td>\n",
       "      <td>0.0</td>\n",
       "      <td>0.0</td>\n",
       "      <td>0.0</td>\n",
       "      <td>0.0</td>\n",
       "      <td>0.0</td>\n",
       "      <td>0.0</td>\n",
       "      <td>0.0</td>\n",
       "      <td>0.0</td>\n",
       "      <td>MMRF_2680</td>\n",
       "    </tr>\n",
       "  </tbody>\n",
       "</table>\n",
       "<p>5 rows × 57998 columns</p>\n",
       "</div>"
      ],
      "text/plain": [
       "   ENSG00000000003  ENSG00000000005  ENSG00000000419  ENSG00000000457  \\\n",
       "0         0.747555              0.0         16.48200         3.530600   \n",
       "1         1.211520              0.0         15.63870         1.199950   \n",
       "2         0.182203              0.0          9.85284         2.516850   \n",
       "3         1.244470              0.0         14.15190         2.235840   \n",
       "4         1.064230              0.0          5.43182         0.833239   \n",
       "\n",
       "   ENSG00000000460  ENSG00000000938  ENSG00000000971  ENSG00000001036  \\\n",
       "0         1.153110         0.052192         0.070314         23.97170   \n",
       "1         0.242032         0.208332         0.093566          7.65518   \n",
       "2         0.691931         0.074189         1.418730          6.32505   \n",
       "3         0.411901         0.119781         0.045729         14.40730   \n",
       "4         0.194672         0.028010         0.201745          4.05475   \n",
       "\n",
       "   ENSG00000001084  ENSG00000001167  ...  ERCC-00158  ERCC-00160  ERCC-00162  \\\n",
       "0          5.37230          9.59376  ...         0.0         0.0         0.0   \n",
       "1          2.32189          3.95827  ...         0.0         0.0         0.0   \n",
       "2          3.35012          4.19819  ...         0.0         0.0         0.0   \n",
       "3          3.68360          5.30710  ...         0.0         0.0         0.0   \n",
       "4          3.11611          2.67983  ...         0.0         0.0         0.0   \n",
       "\n",
       "   ERCC-00163  ERCC-00164  ERCC-00165  ERCC-00168  ERCC-00170  ERCC-00171  \\\n",
       "0         0.0         0.0         0.0         0.0         0.0         0.0   \n",
       "1         0.0         0.0         0.0         0.0         0.0         0.0   \n",
       "2         0.0         0.0         0.0         0.0         0.0         0.0   \n",
       "3         0.0         0.0         0.0         0.0         0.0         0.0   \n",
       "4         0.0         0.0         0.0         0.0         0.0         0.0   \n",
       "\n",
       "        pids  \n",
       "0  MMRF_1839  \n",
       "1  MMRF_1686  \n",
       "2  MMRF_2253  \n",
       "3  MMRF_2180  \n",
       "4  MMRF_2680  \n",
       "\n",
       "[5 rows x 57998 columns]"
      ]
     },
     "execution_count": 50,
     "metadata": {},
     "output_type": "execute_result"
    }
   ],
   "source": [
    "len(genomic_df.columns)\n",
    "\n",
    "genomic_df.head()"
   ]
  },
  {
   "cell_type": "code",
   "execution_count": null,
   "metadata": {
    "hidden": true
   },
   "outputs": [],
   "source": [
    "#place holder patient data: 50 samples with 5000 genes\n",
    "X_pt_train = np.random.rand(50,5000)*80\n",
    "y_pt_train = X_pt_train.mean(axis=1)+np.random.rand(50,)*40"
   ]
  },
  {
   "cell_type": "code",
   "execution_count": null,
   "metadata": {
    "hidden": true
   },
   "outputs": [],
   "source": [
    "X_pt_test = np.random.rand(10,5000)*80\n",
    "y_pt_test = X_pt_test.mean(axis=1)+np.random.rand(10,)*40"
   ]
  },
  {
   "cell_type": "markdown",
   "metadata": {},
   "source": [
    "# Autoencoder"
   ]
  },
  {
   "cell_type": "code",
   "execution_count": 54,
   "metadata": {},
   "outputs": [],
   "source": [
    "def get_autoencoder(encoding_dim):\n",
    "    out_shape = X_train.shape[1]\n",
    "    # This is our input image\n",
    "    input_rna = K.layers.Input(shape=(out_shape,))\n",
    "\n",
    "    # \"encoded\" is the encoded representation of the input\n",
    "    encoded = K.layers.Dense(4*encoding_dim, activation='relu')(input_rna)\n",
    "    encoded = K.layers.Dense(2*encoding_dim, activation='relu')(encoded)\n",
    "    encoded = K.layers.Dense(encoding_dim, activation=None)(encoded)\n",
    "\n",
    "    # \"decoded\" is the lossy reconstruction of the input\n",
    "    decoded = K.layers.Dense(4*encoding_dim, activation='relu')(encoded)                                                          \n",
    "    decoded = K.layers.Dense(2*encoding_dim, activation='relu')(decoded)\n",
    "    decoded = K.layers.Dense(out_shape, activation=None)(decoded)\n",
    "\n",
    "    # This model maps an input to its reconstruction\n",
    "    autoencoder = K.models.Model(input_rna, decoded)\n",
    "    autoencoder.compile(optimizer='adam', loss='MSE')\n",
    "    \n",
    "    return autoencoder"
   ]
  },
  {
   "cell_type": "code",
   "execution_count": 55,
   "metadata": {},
   "outputs": [
    {
     "data": {
      "text/plain": [
       "<tensorflow.python.keras.callbacks.History at 0x7fa0d775cb38>"
      ]
     },
     "execution_count": 55,
     "metadata": {},
     "output_type": "execute_result"
    }
   ],
   "source": [
    "mmrf_ae = get_autoencoder(64)\n",
    "mmrf_ae.fit(X_train, X_train,\n",
    "                epochs=300,\n",
    "                batch_size=64,\n",
    "                shuffle=True,\n",
    "                validation_data=(X_test, X_test),\n",
    "                verbose=0)"
   ]
  },
  {
   "cell_type": "code",
   "execution_count": 56,
   "metadata": {},
   "outputs": [
    {
     "data": {
      "text/plain": [
       "Text(0, 0.5, 'Predicted Component')"
      ]
     },
     "execution_count": 56,
     "metadata": {},
     "output_type": "execute_result"
    },
    {
     "data": {
      "image/png": "[encoded data removed]",
      "text/plain": [
       "<Figure size 360x360 with 1 Axes>"
      ]
     },
     "metadata": {
      "needs_background": "light"
     },
     "output_type": "display_data"
    }
   ],
   "source": [
    "plt.figure(figsize=(5,5))\n",
    "plt.scatter(mmrf_ae.predict(np.array(X_test)[0:1,:]),np.array(X_test)[0:1,:])\n",
    "plt.xlabel('True Component')\n",
    "plt.ylabel('Predicted Component')\n",
    "plt.title('Autoencoder Results')"
   ]
  },
  {
   "cell_type": "code",
   "execution_count": null,
   "metadata": {},
   "outputs": [],
   "source": [
    "print(sklearn.metrics.)"
   ]
  },
  {
   "cell_type": "code",
   "execution_count": 58,
   "metadata": {},
   "outputs": [
    {
     "name": "stdout",
     "output_type": "stream",
     "text": [
      "18914\n",
      "18914 57998\n"
     ]
    }
   ],
   "source": [
    "print(len(set(rnaseq.columns).intersection(set(genomic_df.columns))))\n",
    "print(len(rnaseq.columns), len(genomic_df.columns))"
   ]
  },
  {
   "cell_type": "code",
   "execution_count": 72,
   "metadata": {},
   "outputs": [],
   "source": [
    "def mmrf_ae_encode(rna_data):\n",
    "    encoder = K.models.Model(inputs=mmrf_ae.input, outputs=mmrf_ae.layers[2].output)\n",
    "    encoded = encoder(np.array(rna_data))\n",
    "    return encoded"
   ]
  },
  {
   "cell_type": "code",
   "execution_count": 84,
   "metadata": {},
   "outputs": [
    {
     "name": "stdout",
     "output_type": "stream",
     "text": [
      "(800, 18914)\n",
      "(800, 128)\n"
     ]
    }
   ],
   "source": [
    "print(rnaseq.shape)\n",
    "encoded = mmrf_ae_encode(rnaseq)\n",
    "print(encoded.shape)"
   ]
  },
  {
   "cell_type": "code",
   "execution_count": 88,
   "metadata": {},
   "outputs": [
    {
     "name": "stdout",
     "output_type": "stream",
     "text": [
      "[[0. 0. 0. ... 0. 0. 0.]\n",
      " [0. 0. 0. ... 0. 0. 0.]\n",
      " [0. 0. 0. ... 0. 0. 0.]\n",
      " ...\n",
      " [0. 0. 0. ... 0. 0. 0.]\n",
      " [0. 0. 0. ... 0. 0. 0.]\n",
      " [0. 0. 0. ... 0. 0. 0.]]\n"
     ]
    }
   ],
   "source": [
    "print(np.array(encoded))"
   ]
  },
  {
   "cell_type": "code",
   "execution_count": 89,
   "metadata": {},
   "outputs": [],
   "source": [
    "X_enc_train, X_enc_test, y_crispr_train, y_crispr_test = train_test_split(np.array(encoded),crispr,random_state=42, train_size=0.7)"
   ]
  },
  {
   "cell_type": "code",
   "execution_count": 91,
   "metadata": {},
   "outputs": [
    {
     "name": "stdout",
     "output_type": "stream",
     "text": [
      "(560, 128) (240, 128) (560, 13) (240, 13)\n"
     ]
    }
   ],
   "source": [
    "print(X_enc_train.shape, X_enc_test.shape, y_crispr_train.shape, y_crispr_test.shape)"
   ]
  },
  {
   "cell_type": "code",
   "execution_count": 144,
   "metadata": {},
   "outputs": [
    {
     "name": "stdout",
     "output_type": "stream",
     "text": [
      "<class 'pandas.core.frame.DataFrame'>\n"
     ]
    }
   ],
   "source": [
    "print(type(y_crispr_train))"
   ]
  },
  {
   "cell_type": "markdown",
   "metadata": {
    "heading_collapsed": true
   },
   "source": [
    "# Train NN on cell line"
   ]
  },
  {
   "cell_type": "code",
   "execution_count": 96,
   "metadata": {},
   "outputs": [],
   "source": [
    "# number of genes \n",
    "# N_in = X_cell_train.shape[1]\n",
    "\n",
    "# N_in : number of genes input\n",
    "\n",
    "\n",
    "\n",
    "def generate_model(N_in, N_out, shapes):\n",
    "    inputs = K.layers.Input(shape = (N_in,))\n",
    "    x = K.layers.Dropout(0.2, input_shape=(N_in,))(inputs)\n",
    "    x = K.layers.Dense(shapes, activation='relu', kernel_regularizer=K.regularizers.l2(l=0.001))(x)\n",
    "    x = K.layers.Dropout(0.5)(x)\n",
    "    x = K.layers.Dense(128, activation='relu', kernel_regularizer=K.regularizers.l2(l=0.001))(x)\n",
    "    x = K.layers.Dropout(0.5)(x)\n",
    "    x = K.layers.Dense(32, activation='relu', kernel_regularizer=K.regularizers.l2(l=0.001))(x)\n",
    "    y1 = K.layers.Dense(1, kernel_regularizer=K.regularizers.l2(l=0.001), name='y1')(x)\n",
    "    y2 = K.layers.Dense(1, kernel_regularizer=K.regularizers.l2(l=0.001), name='y2')(x)\n",
    "    y3 = K.layers.Dense(1, kernel_regularizer=K.regularizers.l2(l=0.001), name='y3')(x)\n",
    "    y4 = K.layers.Dense(1, kernel_regularizer=K.regularizers.l2(l=0.001), name='y4')(x)\n",
    "    y5 = K.layers.Dense(1, kernel_regularizer=K.regularizers.l2(l=0.001), name='y5')(x)\n",
    "    y6 = K.layers.Dense(1, kernel_regularizer=K.regularizers.l2(l=0.001), name='y6')(x)\n",
    "    y7 = K.layers.Dense(1, kernel_regularizer=K.regularizers.l2(l=0.001), name='y7')(x)\n",
    "    y8 = K.layers.Dense(1, kernel_regularizer=K.regularizers.l2(l=0.001), name='y8')(x)\n",
    "    y9 = K.layers.Dense(1, kernel_regularizer=K.regularizers.l2(l=0.001), name='y9')(x)\n",
    "    y10 = K.layers.Dense(1, kernel_regularizer=K.regularizers.l2(l=0.001), name='y10')(x)\n",
    "    y11 = K.layers.Dense(1, kernel_regularizer=K.regularizers.l2(l=0.001), name='y11')(x)\n",
    "    y12 = K.layers.Dense(1, kernel_regularizer=K.regularizers.l2(l=0.001), name='y12')(x)\n",
    "    y13 = K.layers.Dense(1, kernel_regularizer=K.regularizers.l2(l=0.001), name='y13')(x)\n",
    "\n",
    "    model = K.models.Model(inputs = inputs, outputs = [y1,y2,y3,y4,y5,y6,y7,y8,y9,y10,y11,y12,y13])\n",
    "    model.compile(optimizer='adam',\n",
    "                  loss=generate_loss(N_out, 'mse'))\n",
    "    \n",
    "    return model"
   ]
  },
  {
   "cell_type": "code",
   "execution_count": 97,
   "metadata": {},
   "outputs": [],
   "source": [
    "def generate_loss(N_out, loss):\n",
    "    L = dict()\n",
    "    for i in range(1, N_out+1):\n",
    "        k = 'y'+str(i)\n",
    "        L[k] = loss\n",
    "    return L"
   ]
  },
  {
   "cell_type": "code",
   "execution_count": 98,
   "metadata": {},
   "outputs": [
    {
     "name": "stdout",
     "output_type": "stream",
     "text": [
      "Model: \"model_16\"\n",
      "__________________________________________________________________________________________________\n",
      "Layer (type)                    Output Shape         Param #     Connected to                     \n",
      "==================================================================================================\n",
      "input_10 (InputLayer)           [(None, 128)]        0                                            \n",
      "__________________________________________________________________________________________________\n",
      "dropout_20 (Dropout)            (None, 128)          0           input_10[0][0]                   \n",
      "__________________________________________________________________________________________________\n",
      "dense_104 (Dense)               (None, 1024)         132096      dropout_20[0][0]                 \n",
      "__________________________________________________________________________________________________\n",
      "dropout_21 (Dropout)            (None, 1024)         0           dense_104[0][0]                  \n",
      "__________________________________________________________________________________________________\n",
      "dense_105 (Dense)               (None, 128)          131200      dropout_21[0][0]                 \n",
      "__________________________________________________________________________________________________\n",
      "dropout_22 (Dropout)            (None, 128)          0           dense_105[0][0]                  \n",
      "__________________________________________________________________________________________________\n",
      "dense_106 (Dense)               (None, 32)           4128        dropout_22[0][0]                 \n",
      "__________________________________________________________________________________________________\n",
      "y1 (Dense)                      (None, 1)            33          dense_106[0][0]                  \n",
      "__________________________________________________________________________________________________\n",
      "y2 (Dense)                      (None, 1)            33          dense_106[0][0]                  \n",
      "__________________________________________________________________________________________________\n",
      "y3 (Dense)                      (None, 1)            33          dense_106[0][0]                  \n",
      "__________________________________________________________________________________________________\n",
      "y4 (Dense)                      (None, 1)            33          dense_106[0][0]                  \n",
      "__________________________________________________________________________________________________\n",
      "y5 (Dense)                      (None, 1)            33          dense_106[0][0]                  \n",
      "__________________________________________________________________________________________________\n",
      "y6 (Dense)                      (None, 1)            33          dense_106[0][0]                  \n",
      "__________________________________________________________________________________________________\n",
      "y7 (Dense)                      (None, 1)            33          dense_106[0][0]                  \n",
      "__________________________________________________________________________________________________\n",
      "y8 (Dense)                      (None, 1)            33          dense_106[0][0]                  \n",
      "__________________________________________________________________________________________________\n",
      "y9 (Dense)                      (None, 1)            33          dense_106[0][0]                  \n",
      "__________________________________________________________________________________________________\n",
      "y10 (Dense)                     (None, 1)            33          dense_106[0][0]                  \n",
      "__________________________________________________________________________________________________\n",
      "y11 (Dense)                     (None, 1)            33          dense_106[0][0]                  \n",
      "__________________________________________________________________________________________________\n",
      "y12 (Dense)                     (None, 1)            33          dense_106[0][0]                  \n",
      "__________________________________________________________________________________________________\n",
      "y13 (Dense)                     (None, 1)            33          dense_106[0][0]                  \n",
      "==================================================================================================\n",
      "Total params: 267,853\n",
      "Trainable params: 267,853\n",
      "Non-trainable params: 0\n",
      "__________________________________________________________________________________________________\n",
      "Input (None, 128) Output [(None, 1), (None, 1), (None, 1), (None, 1), (None, 1), (None, 1), (None, 1), (None, 1), (None, 1), (None, 1), (None, 1), (None, 1), (None, 1)]\n"
     ]
    }
   ],
   "source": [
    "# prototype model  \n",
    "shapes = 1024\n",
    "model_ = generate_model(128, 13, shapes)\n",
    "model_.summary()\n",
    "\n",
    "print(\"Input\", model_.input_shape, \"Output\", model_.output_shape)"
   ]
  },
  {
   "cell_type": "code",
   "execution_count": 122,
   "metadata": {},
   "outputs": [],
   "source": [
    "history = model_.fit(X_enc_train,y_crispr_train,epochs=500, validation_data=(X_enc_test, y_crispr_test),verbose=0)"
   ]
  },
  {
   "cell_type": "code",
   "execution_count": 146,
   "metadata": {},
   "outputs": [
    {
     "name": "stdout",
     "output_type": "stream",
     "text": [
      "(560, 13)\n",
      "<class 'pandas.core.frame.DataFrame'>\n",
      "(560, 128)\n",
      "<class 'numpy.ndarray'>\n"
     ]
    }
   ],
   "source": [
    "print(y_crispr_train.shape)\n",
    "print(type(y_crispr_train))\n",
    "\n",
    "print(X_enc_train.shape)\n",
    "print(type(X_enc_train))"
   ]
  },
  {
   "cell_type": "code",
   "execution_count": 143,
   "metadata": {},
   "outputs": [
    {
     "name": "stdout",
     "output_type": "stream",
     "text": [
      "[array([[-0.8142224]], dtype=float32), array([[-0.8138666]], dtype=float32), array([[-0.8141048]], dtype=float32), array([[-0.8139104]], dtype=float32), array([[-0.8134191]], dtype=float32), array([[-0.8143194]], dtype=float32), array([[-0.8146649]], dtype=float32), array([[-0.81397027]], dtype=float32), array([[-0.814299]], dtype=float32), array([[-0.8143512]], dtype=float32), array([[-0.81376445]], dtype=float32), array([[-0.81457436]], dtype=float32), array([[-0.8137601]], dtype=float32)]\n"
     ]
    }
   ],
   "source": [
    "print(model_.predict(np.expand_dims(X_enc_train[0], axis=0)))"
   ]
  },
  {
   "cell_type": "code",
   "execution_count": 128,
   "metadata": {},
   "outputs": [
    {
     "name": "stdout",
     "output_type": "stream",
     "text": [
      "(560, 500) (240, 500)\n"
     ]
    }
   ],
   "source": [
    "from sklearn.decomposition import PCA\n",
    "\n",
    "nPCA = 500\n",
    "pca = PCA(n_components=nPCA)\n",
    "X_train_pca = pca.fit_transform(X_train)\n",
    "X_test_pca = pca.transform(X_test)\n",
    "\n",
    "print(X_train_pca.shape, X_test_pca.shape)"
   ]
  },
  {
   "cell_type": "code",
   "execution_count": 129,
   "metadata": {},
   "outputs": [],
   "source": [
    "model_pca = generate_model(500, 13, 1024)\n",
    "pca_history = model_pca.fit(X_train_pca,y_crispr_train,epochs=500, validation_data=(X_test_pca, y_crispr_test),verbose=0)"
   ]
  },
  {
   "cell_type": "markdown",
   "metadata": {},
   "source": [
    "# Eval performance on cell line test set"
   ]
  },
  {
   "cell_type": "code",
   "execution_count": 123,
   "metadata": {
    "hidden": true
   },
   "outputs": [],
   "source": [
    "def plot_loss(perf_dict):\n",
    "    fig = plt.figure(figsize=(15,10))\n",
    "    ax1 = plt.subplot(2,2,1)\n",
    "    ax2 = plt.subplot(2,2,2)\n",
    "    loss = perf_dict['loss']\n",
    "    val_loss = perf_dict['val_loss']\n",
    "    ax1.plot(loss)\n",
    "    ax2.plot(val_loss)\n",
    "    ax1.set_xlabel('epochs')\n",
    "    ax2.set_xlabel('epochs')\n",
    "\n",
    "    ax1.set_ylabel('loss')\n",
    "    ax2.set_ylabel('val_loss')\n",
    "    plt.show()"
   ]
  },
  {
   "cell_type": "code",
   "execution_count": 124,
   "metadata": {},
   "outputs": [
    {
     "data": {
      "image/png": "[encoded data removed]",
      "text/plain": [
       "<Figure size 1080x720 with 2 Axes>"
      ]
     },
     "metadata": {
      "needs_background": "light"
     },
     "output_type": "display_data"
    }
   ],
   "source": [
    "plot_loss(history.history)"
   ]
  },
  {
   "cell_type": "code",
   "execution_count": 130,
   "metadata": {},
   "outputs": [
    {
     "data": {
      "image/png": "[encoded data removed]",
      "text/plain": [
       "<Figure size 1080x720 with 2 Axes>"
      ]
     },
     "metadata": {
      "needs_background": "light"
     },
     "output_type": "display_data"
    }
   ],
   "source": [
    "plot_loss(pca_history.history)"
   ]
  },
  {
   "cell_type": "code",
   "execution_count": 135,
   "metadata": {},
   "outputs": [
    {
     "data": {
      "text/plain": [
       "Text(0.5, 1.0, 'CRISPR Knockout Experiments - AE')"
      ]
     },
     "execution_count": 135,
     "metadata": {},
     "output_type": "execute_result"
    },
    {
     "data": {
      "image/png": "[encoded data removed]",
      "text/plain": [
       "<Figure size 432x288 with 1 Axes>"
      ]
     },
     "metadata": {
      "needs_background": "light"
     },
     "output_type": "display_data"
    }
   ],
   "source": [
    "# plt.scatter(y_cell_test,model.predict(X_cell_test))\n",
    "# x = np.arange(-1.5,1.1,0.01)\n",
    "fig, ax = plt.subplots(1,1)\n",
    "# ax.plot(x, x, label='y=x', color='black')\n",
    "\n",
    "ax.scatter(y_crispr_train.T,np.array(model_.predict(X_enc_train))[:,:,0], label='Train', color='#4287f5')\n",
    "ax.scatter(y_crispr_test.T,np.array(model_.predict(X_enc_test))[:,:,0], label='Test', color='#f2797f')\n",
    "ax.set_xlim(-4,2)\n",
    "ax.set_ylim(-4,2)\n",
    "ax.set_xlabel('True Response')\n",
    "ax.set_ylabel('Predicted Response')\n",
    "ax.legend()\n",
    "ax.set_title('CRISPR Knockout Experiments - AE')"
   ]
  },
  {
   "cell_type": "code",
   "execution_count": 132,
   "metadata": {},
   "outputs": [
    {
     "data": {
      "text/plain": [
       "Text(0.5, 1.0, 'CRISPR Knockout Experiments - PCA')"
      ]
     },
     "execution_count": 132,
     "metadata": {},
     "output_type": "execute_result"
    },
    {
     "data": {
      "image/png": "[encoded data removed]",
      "text/plain": [
       "<Figure size 432x288 with 1 Axes>"
      ]
     },
     "metadata": {
      "needs_background": "light"
     },
     "output_type": "display_data"
    }
   ],
   "source": [
    "# plt.scatter(y_cell_test,model.predict(X_cell_test))\n",
    "# x = np.arange(-1.5,1.1,0.01)\n",
    "fig, ax = plt.subplots(1,1)\n",
    "# ax.plot(x, x, label='y=x', color='black')\n",
    "\n",
    "ax.scatter(y_crispr_train.T,np.array(model_pca.predict(X_train_pca))[:,:,0], label='Train', color='#4287f5')\n",
    "ax.scatter(y_crispr_test.T,np.array(model_pca.predict(X_test_pca))[:,:,0], label='Test', color='#f2797f')\n",
    "ax.set_xlim(-4,2)\n",
    "ax.set_ylim(-4,2)\n",
    "ax.set_xlabel('True Response')\n",
    "ax.set_ylabel('Predicted Response')\n",
    "ax.legend()\n",
    "ax.set_title('CRISPR Knockout Experiments - PCA')"
   ]
  },
  {
   "cell_type": "code",
   "execution_count": 115,
   "metadata": {},
   "outputs": [
    {
     "name": "stdout",
     "output_type": "stream",
     "text": [
      "(13, 560)\n",
      "(13, 560)\n"
     ]
    }
   ],
   "source": [
    "print(np.array(model_.predict(X_enc_train))[:,:,0].shape)\n",
    "print(y_crispr_train.T.shape)"
   ]
  },
  {
   "cell_type": "code",
   "execution_count": null,
   "metadata": {},
   "outputs": [],
   "source": []
  },
  {
   "cell_type": "code",
   "execution_count": null,
   "metadata": {},
   "outputs": [],
   "source": [
    "# plt.scatter(y_cell_test,model.predict(X_cell_test))\n",
    "x = np.arange(-1.5,1.1,0.01)\n",
    "fig, ax = plt.subplots(1,1)\n",
    "ax.plot(x, x, label='y=x', color='black')\n",
    "\n",
    "ax.scatter(y_lenal_cell_train,pca_model.predict(X_lenal_cell_train_pca), label='Train', color='#4287f5')\n",
    "ax.scatter(y_lenal_cell_test,pca_model.predict(X_lenal_cell_test_pca), label='Test', color='#f2797f')\n",
    "# ax.set_xlim(-7,-2)\n",
    "# ax.set_ylim(-7,-2)\n",
    "ax.set_xlabel('True Response')\n",
    "ax.set_ylabel('Predicted Response')\n",
    "ax.legend()\n",
    "ax.set_title('CRISPR Knockout Experiments - Lenalidomide with PCA')"
   ]
  },
  {
   "cell_type": "code",
   "execution_count": null,
   "metadata": {},
   "outputs": [],
   "source": [
    "# plt.scatter(y_cell_test,model.predict(X_cell_test))\n",
    "x = np.arange(-3,0.6,0.01)\n",
    "fig, ax = plt.subplots(1,1)\n",
    "ax.plot(x, x, label='y=x', color='black')\n",
    "\n",
    "ax.scatter(y_bortez_cell_train,pca_model2.predict(X_bortez_cell_train_pca), label='Train', color='#4287f5')\n",
    "ax.scatter(y_bortez_cell_test,pca_model2.predict(X_bortez_cell_test_pca), label='Test', color='#f2797f')\n",
    "# ax.set_xlim(-7,-2)\n",
    "# ax.set_ylim(-7,-2)\n",
    "ax.set_xlabel('True Response')\n",
    "ax.set_ylabel('Predicted Response')\n",
    "ax.legend()\n",
    "ax.set_title('CRISPR Knockout Experiments - Bortezomib with PCA')"
   ]
  },
  {
   "cell_type": "code",
   "execution_count": null,
   "metadata": {},
   "outputs": [],
   "source": [
    "# plt.scatter(y_cell_test,model.predict(X_cell_test))\n",
    "# x = np.arange(-1.5,1.1,0.01)\n",
    "fig, ax = plt.subplots(1,1)\n",
    "# ax.plot(x, x, label='y=x', color='black')\n",
    "\n",
    "ax.scatter(y_bortez_cell_train,bortez_model.predict(X_bortez_cell_train), label='Train', color='#4287f5')\n",
    "ax.scatter(y_bortez_cell_test,bortez_model.predict(X_bortez_cell_test), label='Test', color='#f2797f')\n",
    "# ax.set_xlim(-7,-2)\n",
    "# ax.set_ylim(-7,-2)\n",
    "ax.set_xlabel('True Response')\n",
    "ax.set_ylabel('Predicted Response')\n",
    "ax.legend()\n",
    "ax.set_title('CRISPR Knockout Experiments - Bortezomib')"
   ]
  },
  {
   "cell_type": "code",
   "execution_count": null,
   "metadata": {},
   "outputs": [],
   "source": [
    "# plt.scatter(y_cell_test,model.predict(X_cell_test))\n",
    "# x = np.arange(-1.5,1.1,0.01)\n",
    "fig, ax = plt.subplots(1,1)\n",
    "# ax.plot(x, x, label='y=x', color='black')\n",
    "\n",
    "ax.scatter(y_bortez_cell_train,bortez_model.predict(X_bortez_cell_train), label='Train', color='#4287f5')\n",
    "ax.scatter(y_bortez_cell_test,bortez_model.predict(X_bortez_cell_test), label='Test', color='#f2797f')\n",
    "# ax.set_xlim(-7,-2)\n",
    "# ax.set_ylim(-7,-2)\n",
    "ax.set_xlabel('True Response')\n",
    "ax.set_ylabel('Predicted Response')\n",
    "ax.legend()\n",
    "ax.set_title('CRISPR Knockout Experiments - Bortezomib')"
   ]
  },
  {
   "cell_type": "markdown",
   "metadata": {},
   "source": [
    "# Feature transfer patient data\n",
    "Freeze network except the last layer, then train on patient data"
   ]
  },
  {
   "cell_type": "code",
   "execution_count": null,
   "metadata": {},
   "outputs": [],
   "source": [
    "model.summary()"
   ]
  },
  {
   "cell_type": "code",
   "execution_count": null,
   "metadata": {},
   "outputs": [],
   "source": [
    "model.trainable = False\n",
    "model.layers[-1].trainable = True\n",
    "\n",
    "layers = [(layer, layer.name, layer.trainable) for layer in model.layers]\n",
    "pd.DataFrame(layers, columns=['Layer Type', 'Layer Name', 'Layer Trainable'])      "
   ]
  },
  {
   "cell_type": "code",
   "execution_count": null,
   "metadata": {},
   "outputs": [],
   "source": [
    "history_pt = model.fit(X_pt_train, y_pt_train, epochs=100, validation_data=(X_pt_test, y_pt_test))"
   ]
  },
  {
   "cell_type": "code",
   "execution_count": null,
   "metadata": {},
   "outputs": [],
   "source": [
    "plt.scatter(y_pt_test,model.predict(X_pt_test))"
   ]
  },
  {
   "cell_type": "markdown",
   "metadata": {},
   "source": [
    "# Save model"
   ]
  },
  {
   "cell_type": "code",
   "execution_count": null,
   "metadata": {
    "hidden": true
   },
   "outputs": [],
   "source": [
    "model = K.models.load_model(model_dir)"
   ]
  },
  {
   "cell_type": "code",
   "execution_count": null,
   "metadata": {
    "hidden": true
   },
   "outputs": [],
   "source": [
    "model_dir = os.path.join('6.871models', 'simpleNN042721')\n",
    "shutil.rmtree(model_dir)\n",
    "model.save(model_dir)\n"
   ]
  }
 ],
 "metadata": {
  "kernelspec": {
   "display_name": "Python 3",
   "language": "python",
   "name": "python3"
  },
  "language_info": {
   "codemirror_mode": {
    "name": "ipython",
    "version": 3
   },
   "file_extension": ".py",
   "mimetype": "text/x-python",
   "name": "python",
   "nbconvert_exporter": "python",
   "pygments_lexer": "ipython3",
   "version": "3.6.13"
  },
  "toc": {
   "base_numbering": 1,
   "nav_menu": {
    "height": "236px",
    "width": "368px"
   },
   "number_sections": true,
   "sideBar": true,
   "skip_h1_title": false,
   "title_cell": "Table of Contents",
   "title_sidebar": "Contents",
   "toc_cell": false,
   "toc_position": {},
   "toc_section_display": true,
   "toc_window_display": false
  }
 },
 "nbformat": 4,
 "nbformat_minor": 4
}
